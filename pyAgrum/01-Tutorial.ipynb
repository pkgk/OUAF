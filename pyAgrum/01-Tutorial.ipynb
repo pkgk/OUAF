{
 "cells": [
  {
   "cell_type": "markdown",
   "metadata": {},
   "source": [
    "# Tutorial pyAgrum"
   ]
  },
  {
   "cell_type": "markdown",
   "metadata": {},
   "source": [
    "| | | |\n",
    "|-|-|-|\n",
    "|[ ![Creative Commons License](images/cc4.png)](http://creativecommons.org/licenses/by-nc/4.0/) |[ ![aGrUM](images/logoAgrum.png)](https://agrum.org) |[ ![interactive online version](images/atbinder.svg)](https://agrum.gitlab.io/extra/agrum_at_binder.html)\n"
   ]
  },
  {
   "cell_type": "code",
   "execution_count": null,
   "metadata": {
    "ExecuteTime": {
     "end_time": "2019-04-10T13:54:09.784707Z",
     "start_time": "2019-04-10T13:54:09.554056Z"
    },
    "execution": {
     "iopub.execute_input": "2022-11-11T18:22:44.194904Z",
     "iopub.status.busy": "2022-11-11T18:22:44.193905Z",
     "iopub.status.idle": "2022-11-11T18:22:44.644591Z",
     "shell.execute_reply": "2022-11-11T18:22:44.643694Z",
     "shell.execute_reply.started": "2022-11-11T18:22:44.194904Z"
    },
    "tags": []
   },
   "outputs": [],
   "source": [
    "from pylab import *\n",
    "import matplotlib.pyplot as plt\n",
    "import os"
   ]
  },
  {
   "cell_type": "markdown",
   "metadata": {},
   "source": [
    "## Creating your first Bayesian network with pyAgrum"
   ]
  },
  {
   "cell_type": "markdown",
   "metadata": {},
   "source": [
    "(This example is based on an OpenBayes [closed] website tutorial)"
   ]
  },
  {
   "cell_type": "markdown",
   "metadata": {},
   "source": [
    "<p>A <b>Bayesian network</b> (BN) is composed of <b>random variables</b> (nodes) and their conditional dependencies (arcs) which, together, form a directed acyclic graph (DAG). A <b>conditional probability table</b> (CPT) is associated with each node. It contains the conditional probability distribution of the node given its parents in the DAG:\n",
    "\n",
    "<img src=\"images/waterprinkler.png\">"
   ]
  },
  {
   "cell_type": "markdown",
   "metadata": {},
   "source": [
    "Such a BN allows to manipulate the joint probability $P(C,S,R,W)$&nbsp;&nbsp;&nbsp;using this decomposition :\n",
    "\n",
    "$$P(C,S,R,W)=\\prod_X P(X | Parents_X) = P(C) \\cdot P(S | C) \\cdot P(R | C) \\cdot P(W | S,R)$$\n",
    "\n",
    "Imagine you want to create your first Bayesian network, say for example the 'Water Sprinkler' network. This is an easy example. All the nodes are Boolean (only 2 possible values). You can proceed as follows.\n"
   ]
  },
  {
   "cell_type": "markdown",
   "metadata": {},
   "source": [
    "### Import the pyAgrum package"
   ]
  },
  {
   "cell_type": "code",
   "execution_count": null,
   "metadata": {
    "ExecuteTime": {
     "end_time": "2019-04-10T13:54:09.789689Z",
     "start_time": "2019-04-10T13:54:09.787037Z"
    },
    "execution": {
     "iopub.execute_input": "2022-11-11T18:22:44.646599Z",
     "iopub.status.busy": "2022-11-11T18:22:44.646599Z",
     "iopub.status.idle": "2022-11-11T18:22:44.672213Z",
     "shell.execute_reply": "2022-11-11T18:22:44.672213Z",
     "shell.execute_reply.started": "2022-11-11T18:22:44.646599Z"
    },
    "tags": []
   },
   "outputs": [],
   "source": [
    "import pyAgrum as gum"
   ]
  },
  {
   "cell_type": "markdown",
   "metadata": {},
   "source": [
    "### Create the network topology"
   ]
  },
  {
   "cell_type": "markdown",
   "metadata": {},
   "source": [
    "#### Create the BN"
   ]
  },
  {
   "cell_type": "markdown",
   "metadata": {},
   "source": [
    "The next line creates an empty BN network with a 'name' property."
   ]
  },
  {
   "cell_type": "code",
   "execution_count": null,
   "metadata": {
    "ExecuteTime": {
     "end_time": "2019-04-10T13:54:09.797641Z",
     "start_time": "2019-04-10T13:54:09.791917Z"
    },
    "execution": {
     "iopub.execute_input": "2022-11-11T18:22:44.673223Z",
     "iopub.status.busy": "2022-11-11T18:22:44.673223Z",
     "iopub.status.idle": "2022-11-11T18:22:44.682214Z",
     "shell.execute_reply": "2022-11-11T18:22:44.681197Z",
     "shell.execute_reply.started": "2022-11-11T18:22:44.673223Z"
    },
    "tags": []
   },
   "outputs": [],
   "source": [
    "bn=gum.BayesNet('WaterSprinkler')\n",
    "print(bn)"
   ]
  },
  {
   "cell_type": "markdown",
   "metadata": {},
   "source": [
    "#### Create the variables"
   ]
  },
  {
   "cell_type": "markdown",
   "metadata": {},
   "source": [
    "pyAgrum(aGrUM) provides 4 types of variables :\n",
    "\n",
    "- LabelizedVariable\n",
    "- RangeVariable\n",
    "- IntegerVariable\n",
    "- DiscretizedVariable\n",
    "\n",
    "In this tutorial, we will use LabelizedVariable, which is a variable whose domain is a finite set of labels. The next line will create a variable named 'c', with 2 values and described as 'cloudy?', and it will add it to the BN. The value returned is the id of the node in the graphical structure (the DAG). pyAgrum actually distinguishes the random variable (here the labelizedVariable) from its node in the DAG: the latter is identified through a numeric id. Of course, pyAgrum provides functions to get the id of a node given the corresponding variable and conversely."
   ]
  },
  {
   "cell_type": "code",
   "execution_count": null,
   "metadata": {
    "ExecuteTime": {
     "end_time": "2019-04-10T13:54:09.803808Z",
     "start_time": "2019-04-10T13:54:09.799944Z"
    },
    "execution": {
     "iopub.execute_input": "2022-11-11T18:22:44.684214Z",
     "iopub.status.busy": "2022-11-11T18:22:44.683210Z",
     "iopub.status.idle": "2022-11-11T18:22:44.689246Z",
     "shell.execute_reply": "2022-11-11T18:22:44.689246Z",
     "shell.execute_reply.started": "2022-11-11T18:22:44.683210Z"
    },
    "tags": []
   },
   "outputs": [],
   "source": [
    "c=bn.add(gum.LabelizedVariable('c','cloudy ?',2))\n",
    "print(c)"
   ]
  },
  {
   "cell_type": "markdown",
   "metadata": {},
   "source": [
    "You can go on adding nodes in the network this way. Let us use python to compact a little bit the code:"
   ]
  },
  {
   "cell_type": "code",
   "execution_count": null,
   "metadata": {
    "ExecuteTime": {
     "end_time": "2019-04-10T13:54:09.810264Z",
     "start_time": "2019-04-10T13:54:09.805724Z"
    },
    "execution": {
     "iopub.execute_input": "2022-11-11T18:22:44.691260Z",
     "iopub.status.busy": "2022-11-11T18:22:44.691260Z",
     "iopub.status.idle": "2022-11-11T18:22:44.695636Z",
     "shell.execute_reply": "2022-11-11T18:22:44.695636Z",
     "shell.execute_reply.started": "2022-11-11T18:22:44.691260Z"
    },
    "tags": []
   },
   "outputs": [],
   "source": [
    "s, r, w = [ bn.add(name, 2) for name in \"srw\" ] #bn.add(name, 2) === bn.add(gum.LabelizedVariable(name, name, 2))\n",
    "print (s,r,w)\n",
    "print (bn)"
   ]
  },
  {
   "cell_type": "markdown",
   "metadata": {},
   "source": [
    "#### Create the arcs"
   ]
  },
  {
   "cell_type": "markdown",
   "metadata": {},
   "source": [
    "Now we have to connect nodes, i.e., to add arcs linking the nodes. Remember that <tt>c</tt> and <tt>s</tt> are ids for nodes:"
   ]
  },
  {
   "cell_type": "code",
   "execution_count": null,
   "metadata": {
    "ExecuteTime": {
     "end_time": "2019-04-10T13:54:09.814958Z",
     "start_time": "2019-04-10T13:54:09.812186Z"
    },
    "execution": {
     "iopub.execute_input": "2022-11-11T18:22:44.698165Z",
     "iopub.status.busy": "2022-11-11T18:22:44.696649Z",
     "iopub.status.idle": "2022-11-11T18:22:44.701293Z",
     "shell.execute_reply": "2022-11-11T18:22:44.701293Z",
     "shell.execute_reply.started": "2022-11-11T18:22:44.698165Z"
    },
    "tags": []
   },
   "outputs": [],
   "source": [
    "bn.addArc(c,s)"
   ]
  },
  {
   "cell_type": "markdown",
   "metadata": {},
   "source": [
    "Once again, python can help us :"
   ]
  },
  {
   "cell_type": "code",
   "execution_count": null,
   "metadata": {
    "ExecuteTime": {
     "end_time": "2019-04-10T13:54:09.820651Z",
     "start_time": "2019-04-10T13:54:09.816864Z"
    },
    "execution": {
     "iopub.execute_input": "2022-11-11T18:22:44.704308Z",
     "iopub.status.busy": "2022-11-11T18:22:44.703311Z",
     "iopub.status.idle": "2022-11-11T18:22:44.710379Z",
     "shell.execute_reply": "2022-11-11T18:22:44.709366Z",
     "shell.execute_reply.started": "2022-11-11T18:22:44.704308Z"
    },
    "tags": []
   },
   "outputs": [],
   "source": [
    "for link in [(c,r),(s,w),(r,w)]:\n",
    "    bn.addArc(*link)\n",
    "print(bn)"
   ]
  },
  {
   "cell_type": "markdown",
   "metadata": {},
   "source": [
    "pyAgrum provides tools to display <tt>bn</tt> in more user-frendly fashions. <br/>Notably, <tt>pyAgrum.lib</tt> is a set of tools written in pyAgrum to help using aGrUM in python. <tt>pyAgrum.lib.notebook</tt> adds dedicated functions for iPython notebook."
   ]
  },
  {
   "cell_type": "code",
   "execution_count": null,
   "metadata": {
    "ExecuteTime": {
     "end_time": "2019-04-10T13:54:11.742780Z",
     "start_time": "2019-04-10T13:54:09.823113Z"
    },
    "execution": {
     "iopub.execute_input": "2022-11-11T18:22:44.711379Z",
     "iopub.status.busy": "2022-11-11T18:22:44.710379Z",
     "iopub.status.idle": "2022-11-11T18:22:44.807386Z",
     "shell.execute_reply": "2022-11-11T18:22:44.806374Z",
     "shell.execute_reply.started": "2022-11-11T18:22:44.711379Z"
    },
    "tags": []
   },
   "outputs": [],
   "source": [
    "import pyAgrum.lib.notebook as gnb\n",
    "bn"
   ]
  },
  {
   "cell_type": "markdown",
   "metadata": {},
   "source": [
    "#### Shorcuts with fastBN\n",
    "\n",
    "The functions `fast[model]` encode the structure of the graphical model and the type of the variables in a concise language somehow derived from the `dot` language for graphs (see the doc for the underlying method : [fastPrototype](https://pyagrum.readthedocs.io/en/latest/BNModel.html?highlight=fastPrototype#pyAgrum.BayesNet.fastPrototype))."
   ]
  },
  {
   "cell_type": "code",
   "execution_count": null,
   "metadata": {
    "execution": {
     "iopub.execute_input": "2022-11-11T18:22:44.808913Z",
     "iopub.status.busy": "2022-11-11T18:22:44.807896Z",
     "iopub.status.idle": "2022-11-11T18:22:44.876102Z",
     "shell.execute_reply": "2022-11-11T18:22:44.876102Z",
     "shell.execute_reply.started": "2022-11-11T18:22:44.808913Z"
    },
    "tags": []
   },
   "outputs": [],
   "source": [
    "bn=gum.fastBN(\"c->r->w<-s<-c\")\n",
    "bn"
   ]
  },
  {
   "cell_type": "markdown",
   "metadata": {},
   "source": [
    "### Create the probability tables"
   ]
  },
  {
   "cell_type": "markdown",
   "metadata": {},
   "source": [
    "Once the network topology is constructed, we must initialize the conditional probability tables (CPT) distributions.\n",
    "Each CPT is considered as a Potential object in pyAgrum. There are several ways to fill such an object.<br/>\n",
    "\n",
    "To get the CPT of a variable, use the cpt method of your BayesNet instance with the variable's id as parameter.<br/>\n",
    "\n",
    "Now we are ready to fill in the parameters of each node in our network. There are several ways to add these parameters.<br/>"
   ]
  },
  {
   "cell_type": "markdown",
   "metadata": {},
   "source": [
    "#### Low-level way"
   ]
  },
  {
   "cell_type": "code",
   "execution_count": null,
   "metadata": {
    "ExecuteTime": {
     "end_time": "2019-04-10T13:54:11.764909Z",
     "start_time": "2019-04-10T13:54:11.752521Z"
    },
    "execution": {
     "iopub.execute_input": "2022-11-11T18:22:44.878115Z",
     "iopub.status.busy": "2022-11-11T18:22:44.877116Z",
     "iopub.status.idle": "2022-11-11T18:22:44.882480Z",
     "shell.execute_reply": "2022-11-11T18:22:44.882480Z",
     "shell.execute_reply.started": "2022-11-11T18:22:44.878115Z"
    },
    "tags": []
   },
   "outputs": [],
   "source": [
    "bn.cpt(c).fillWith([0.4,0.6]) # remember : c=  0"
   ]
  },
  {
   "cell_type": "markdown",
   "metadata": {},
   "source": [
    "Most of the methods using a node id will also work with name of the random variable."
   ]
  },
  {
   "cell_type": "code",
   "execution_count": null,
   "metadata": {
    "ExecuteTime": {
     "end_time": "2019-04-10T13:54:11.750426Z",
     "start_time": "2019-04-10T13:54:11.745613Z"
    },
    "execution": {
     "iopub.execute_input": "2022-11-11T18:22:44.884491Z",
     "iopub.status.busy": "2022-11-11T18:22:44.883491Z",
     "iopub.status.idle": "2022-11-11T18:22:44.889461Z",
     "shell.execute_reply": "2022-11-11T18:22:44.889461Z",
     "shell.execute_reply.started": "2022-11-11T18:22:44.884491Z"
    },
    "tags": []
   },
   "outputs": [],
   "source": [
    "bn.cpt(\"c\").fillWith([0.5,0.5])"
   ]
  },
  {
   "cell_type": "markdown",
   "metadata": {},
   "source": [
    "#### Using the order of variables"
   ]
  },
  {
   "cell_type": "code",
   "execution_count": null,
   "metadata": {
    "ExecuteTime": {
     "end_time": "2019-04-10T13:54:11.771959Z",
     "start_time": "2019-04-10T13:54:11.767130Z"
    },
    "execution": {
     "iopub.execute_input": "2022-11-11T18:22:44.891476Z",
     "iopub.status.busy": "2022-11-11T18:22:44.890471Z",
     "iopub.status.idle": "2022-11-11T18:22:44.899231Z",
     "shell.execute_reply": "2022-11-11T18:22:44.897684Z",
     "shell.execute_reply.started": "2022-11-11T18:22:44.891476Z"
    },
    "tags": []
   },
   "outputs": [],
   "source": [
    "bn.cpt(\"s\").names"
   ]
  },
  {
   "cell_type": "code",
   "execution_count": null,
   "metadata": {
    "ExecuteTime": {
     "end_time": "2019-04-10T13:54:11.777338Z",
     "start_time": "2019-04-10T13:54:11.774249Z"
    },
    "execution": {
     "iopub.execute_input": "2022-11-11T18:22:44.901231Z",
     "iopub.status.busy": "2022-11-11T18:22:44.900230Z",
     "iopub.status.idle": "2022-11-11T18:22:44.905366Z",
     "shell.execute_reply": "2022-11-11T18:22:44.905366Z",
     "shell.execute_reply.started": "2022-11-11T18:22:44.901231Z"
    },
    "tags": []
   },
   "outputs": [],
   "source": [
    "bn.cpt(\"s\")[:]=[ [0.5,0.5],[0.9,0.1]]"
   ]
  },
  {
   "cell_type": "markdown",
   "metadata": {},
   "source": [
    "Then $P(S | C=0)=[0.5,0.5]$ <br/>and $P(S | C=1)=[0.9,0.1]$."
   ]
  },
  {
   "cell_type": "code",
   "execution_count": null,
   "metadata": {
    "ExecuteTime": {
     "end_time": "2019-04-10T13:54:11.784045Z",
     "start_time": "2019-04-10T13:54:11.779040Z"
    },
    "execution": {
     "iopub.execute_input": "2022-11-11T18:22:44.906390Z",
     "iopub.status.busy": "2022-11-11T18:22:44.906390Z",
     "iopub.status.idle": "2022-11-11T18:22:44.913155Z",
     "shell.execute_reply": "2022-11-11T18:22:44.912142Z",
     "shell.execute_reply.started": "2022-11-11T18:22:44.906390Z"
    },
    "tags": []
   },
   "outputs": [],
   "source": [
    "print(bn.cpt(\"s\")[1])"
   ]
  },
  {
   "cell_type": "markdown",
   "metadata": {},
   "source": [
    "The same process can be performed in several steps:"
   ]
  },
  {
   "cell_type": "code",
   "execution_count": null,
   "metadata": {
    "ExecuteTime": {
     "end_time": "2019-04-10T13:54:11.791399Z",
     "start_time": "2019-04-10T13:54:11.785993Z"
    },
    "execution": {
     "iopub.execute_input": "2022-11-11T18:22:44.914157Z",
     "iopub.status.busy": "2022-11-11T18:22:44.914157Z",
     "iopub.status.idle": "2022-11-11T18:22:44.920589Z",
     "shell.execute_reply": "2022-11-11T18:22:44.919575Z",
     "shell.execute_reply.started": "2022-11-11T18:22:44.914157Z"
    },
    "tags": []
   },
   "outputs": [],
   "source": [
    "bn.cpt(\"s\")[0,:]=0.5 # equivalent to [0.5,0.5]\n",
    "bn.cpt(\"s\")[1,:]=[0.9,0.1]"
   ]
  },
  {
   "cell_type": "code",
   "execution_count": null,
   "metadata": {
    "ExecuteTime": {
     "end_time": "2019-04-10T13:54:11.797669Z",
     "start_time": "2019-04-10T13:54:11.793371Z"
    },
    "execution": {
     "iopub.execute_input": "2022-11-11T18:22:44.921591Z",
     "iopub.status.busy": "2022-11-11T18:22:44.920589Z",
     "iopub.status.idle": "2022-11-11T18:22:44.928637Z",
     "shell.execute_reply": "2022-11-11T18:22:44.927119Z",
     "shell.execute_reply.started": "2022-11-11T18:22:44.921591Z"
    },
    "tags": []
   },
   "outputs": [],
   "source": [
    "print(bn.cpt(\"w\").names)\n",
    "bn.cpt(\"w\")"
   ]
  },
  {
   "cell_type": "code",
   "execution_count": null,
   "metadata": {
    "ExecuteTime": {
     "end_time": "2019-04-10T13:54:11.808436Z",
     "start_time": "2019-04-10T13:54:11.799444Z"
    },
    "execution": {
     "iopub.execute_input": "2022-11-11T18:22:44.930660Z",
     "iopub.status.busy": "2022-11-11T18:22:44.929650Z",
     "iopub.status.idle": "2022-11-11T18:22:44.935698Z",
     "shell.execute_reply": "2022-11-11T18:22:44.934688Z",
     "shell.execute_reply.started": "2022-11-11T18:22:44.930660Z"
    },
    "tags": []
   },
   "outputs": [],
   "source": [
    "bn.cpt(\"w\")[0,0,:] = [1, 0] # r=0,s=0\n",
    "bn.cpt(\"w\")[0,1,:] = [0.1, 0.9] # r=0,s=1\n",
    "bn.cpt(\"w\")[1,0,:] = [0.1, 0.9] # r=1,s=0\n",
    "bn.cpt(\"w\")[1,1,:] = [0.01, 0.99] # r=1,s=1"
   ]
  },
  {
   "cell_type": "markdown",
   "metadata": {},
   "source": [
    "#### Using a dictionnary"
   ]
  },
  {
   "cell_type": "markdown",
   "metadata": {},
   "source": [
    "This is probably the most convenient way:"
   ]
  },
  {
   "cell_type": "code",
   "execution_count": null,
   "metadata": {
    "ExecuteTime": {
     "end_time": "2019-04-10T13:54:11.819578Z",
     "start_time": "2019-04-10T13:54:11.810834Z"
    },
    "execution": {
     "iopub.execute_input": "2022-11-11T18:22:44.936700Z",
     "iopub.status.busy": "2022-11-11T18:22:44.936700Z",
     "iopub.status.idle": "2022-11-11T18:22:44.946845Z",
     "shell.execute_reply": "2022-11-11T18:22:44.945838Z",
     "shell.execute_reply.started": "2022-11-11T18:22:44.936700Z"
    },
    "tags": []
   },
   "outputs": [],
   "source": [
    "bn.cpt(\"w\")[{'r': 0, 's': 0}] = [1, 0]\n",
    "bn.cpt(\"w\")[{'r': 0, 's': 1}] = [0.1, 0.9]\n",
    "bn.cpt(\"w\")[{'r': 1, 's': 0}] = [0.1, 0.9]\n",
    "bn.cpt(\"w\")[{'r': 1, 's': 1}] = [0.01, 0.99]\n",
    "bn.cpt(\"w\")"
   ]
  },
  {
   "cell_type": "markdown",
   "metadata": {},
   "source": [
    "The use of dictionaries is a feature borrowed from OpenBayes. It facilitates the use and avoid common errors that happen when introducing data into the wrong places."
   ]
  },
  {
   "cell_type": "code",
   "execution_count": null,
   "metadata": {
    "ExecuteTime": {
     "end_time": "2019-04-10T13:54:11.828267Z",
     "start_time": "2019-04-10T13:54:11.821565Z"
    },
    "execution": {
     "iopub.execute_input": "2022-11-11T18:22:44.946845Z",
     "iopub.status.busy": "2022-11-11T18:22:44.946845Z",
     "iopub.status.idle": "2022-11-11T18:22:44.951290Z",
     "shell.execute_reply": "2022-11-11T18:22:44.951290Z",
     "shell.execute_reply.started": "2022-11-11T18:22:44.946845Z"
    },
    "tags": []
   },
   "outputs": [],
   "source": [
    "bn.cpt(\"r\")[{'c':0}]=[0.8,0.2]\n",
    "bn.cpt(\"r\")[{'c':1}]=[0.2,0.8]"
   ]
  },
  {
   "cell_type": "markdown",
   "metadata": {},
   "source": [
    "### Input/output"
   ]
  },
  {
   "cell_type": "markdown",
   "metadata": {},
   "source": [
    "Now our BN is complete. It can be saved in different format :"
   ]
  },
  {
   "cell_type": "code",
   "execution_count": null,
   "metadata": {
    "ExecuteTime": {
     "end_time": "2019-04-10T13:54:11.834376Z",
     "start_time": "2019-04-10T13:54:11.830374Z"
    },
    "execution": {
     "iopub.execute_input": "2022-11-11T18:22:44.952298Z",
     "iopub.status.busy": "2022-11-11T18:22:44.952298Z",
     "iopub.status.idle": "2022-11-11T18:22:44.956378Z",
     "shell.execute_reply": "2022-11-11T18:22:44.956378Z",
     "shell.execute_reply.started": "2022-11-11T18:22:44.952298Z"
    },
    "tags": []
   },
   "outputs": [],
   "source": [
    "print(gum.availableBNExts())"
   ]
  },
  {
   "cell_type": "markdown",
   "metadata": {},
   "source": [
    "We can save a BN using BIF format"
   ]
  },
  {
   "cell_type": "code",
   "execution_count": null,
   "metadata": {
    "ExecuteTime": {
     "end_time": "2019-04-10T13:54:11.840993Z",
     "start_time": "2019-04-10T13:54:11.836666Z"
    },
    "execution": {
     "iopub.execute_input": "2022-11-11T18:22:44.957898Z",
     "iopub.status.busy": "2022-11-11T18:22:44.957898Z",
     "iopub.status.idle": "2022-11-11T18:22:44.961887Z",
     "shell.execute_reply": "2022-11-11T18:22:44.961887Z",
     "shell.execute_reply.started": "2022-11-11T18:22:44.957898Z"
    },
    "tags": []
   },
   "outputs": [],
   "source": [
    "gum.saveBN(bn,\"out/WaterSprinkler.bif\")"
   ]
  },
  {
   "cell_type": "code",
   "execution_count": null,
   "metadata": {
    "ExecuteTime": {
     "end_time": "2019-04-10T13:54:11.848906Z",
     "start_time": "2019-04-10T13:54:11.843559Z"
    },
    "execution": {
     "iopub.execute_input": "2022-11-11T18:22:44.965893Z",
     "iopub.status.busy": "2022-11-11T18:22:44.964894Z",
     "iopub.status.idle": "2022-11-11T18:22:44.969535Z",
     "shell.execute_reply": "2022-11-11T18:22:44.969535Z",
     "shell.execute_reply.started": "2022-11-11T18:22:44.964894Z"
    },
    "tags": []
   },
   "outputs": [],
   "source": [
    "with open(\"out/WaterSprinkler.bif\",\"r\") as out:\n",
    "    print(out.read())"
   ]
  },
  {
   "cell_type": "code",
   "execution_count": null,
   "metadata": {
    "ExecuteTime": {
     "end_time": "2019-04-10T13:54:11.856015Z",
     "start_time": "2019-04-10T13:54:11.851617Z"
    },
    "execution": {
     "iopub.execute_input": "2022-11-11T18:22:44.971138Z",
     "iopub.status.busy": "2022-11-11T18:22:44.971053Z",
     "iopub.status.idle": "2022-11-11T18:22:44.975296Z",
     "shell.execute_reply": "2022-11-11T18:22:44.975296Z",
     "shell.execute_reply.started": "2022-11-11T18:22:44.971138Z"
    },
    "tags": []
   },
   "outputs": [],
   "source": [
    "bn2=gum.loadBN(\"out/WaterSprinkler.bif\")"
   ]
  },
  {
   "cell_type": "markdown",
   "metadata": {},
   "source": [
    "We can also save and load it in other formats"
   ]
  },
  {
   "cell_type": "code",
   "execution_count": null,
   "metadata": {
    "ExecuteTime": {
     "end_time": "2019-04-10T13:54:11.865408Z",
     "start_time": "2019-04-10T13:54:11.860408Z"
    },
    "execution": {
     "iopub.execute_input": "2022-11-11T18:22:44.977304Z",
     "iopub.status.busy": "2022-11-11T18:22:44.976302Z",
     "iopub.status.idle": "2022-11-11T18:22:44.983605Z",
     "shell.execute_reply": "2022-11-11T18:22:44.983605Z",
     "shell.execute_reply.started": "2022-11-11T18:22:44.977304Z"
    },
    "tags": []
   },
   "outputs": [],
   "source": [
    "gum.saveBN(bn,\"out/WaterSprinkler.net\")\n",
    "with open(\"out/WaterSprinkler.net\",\"r\") as out:\n",
    "    print(out.read())\n",
    "bn3=gum.loadBN(\"out/WaterSprinkler.net\")"
   ]
  },
  {
   "cell_type": "markdown",
   "metadata": {},
   "source": [
    "## Inference in Bayesian networks"
   ]
  },
  {
   "cell_type": "markdown",
   "metadata": {},
   "source": [
    "We have to choose an inference engine to perform calculations for us. Many inference engines are currently available in pyAgrum:\n",
    "\n",
    "- **Exact inference**, particularly :\n",
    "    - `gum.LazyPropagation` : an exact inference method that transforms the Bayesian network into a hypergraph called a join tree or a junction tree. This tree is constructed in order to optimize inference computations.\n",
    "    - others: `gum.VariableElimination`, `gum.ShaferShenoy`, ...\n",
    "        \n",
    "- **Samplig Inference** : approximate inference engine using sampling algorithms to generate a sequence of samples from the joint probability distribution (`gum.GibbSSampling`, etc.)\n",
    "- **Loopy Belief Propagation** : approximate inference engine using inference algorithm exact for trees but not for DAG"
   ]
  },
  {
   "cell_type": "code",
   "execution_count": null,
   "metadata": {
    "ExecuteTime": {
     "end_time": "2019-04-10T13:54:11.870402Z",
     "start_time": "2019-04-10T13:54:11.867488Z"
    },
    "execution": {
     "iopub.execute_input": "2022-11-11T18:22:44.984610Z",
     "iopub.status.busy": "2022-11-11T18:22:44.984610Z",
     "iopub.status.idle": "2022-11-11T18:22:44.988116Z",
     "shell.execute_reply": "2022-11-11T18:22:44.988116Z",
     "shell.execute_reply.started": "2022-11-11T18:22:44.984610Z"
    },
    "tags": []
   },
   "outputs": [],
   "source": [
    "ie=gum.LazyPropagation(bn)"
   ]
  },
  {
   "cell_type": "markdown",
   "metadata": {},
   "source": [
    "### Inference without evidence"
   ]
  },
  {
   "cell_type": "code",
   "execution_count": null,
   "metadata": {
    "ExecuteTime": {
     "end_time": "2019-04-10T13:54:11.879135Z",
     "start_time": "2019-04-10T13:54:11.872172Z"
    },
    "execution": {
     "iopub.execute_input": "2022-11-11T18:22:44.989122Z",
     "iopub.status.busy": "2022-11-11T18:22:44.989122Z",
     "iopub.status.idle": "2022-11-11T18:22:44.993411Z",
     "shell.execute_reply": "2022-11-11T18:22:44.993411Z",
     "shell.execute_reply.started": "2022-11-11T18:22:44.989122Z"
    },
    "tags": []
   },
   "outputs": [],
   "source": [
    "ie.makeInference()\n",
    "print (ie.posterior(\"w\"))"
   ]
  },
  {
   "cell_type": "code",
   "execution_count": null,
   "metadata": {
    "ExecuteTime": {
     "end_time": "2019-04-10T13:54:11.879135Z",
     "start_time": "2019-04-10T13:54:11.872172Z"
    },
    "execution": {
     "iopub.execute_input": "2022-11-11T18:22:44.994422Z",
     "iopub.status.busy": "2022-11-11T18:22:44.994422Z",
     "iopub.status.idle": "2022-11-11T18:22:45.000026Z",
     "shell.execute_reply": "2022-11-11T18:22:45.000026Z",
     "shell.execute_reply.started": "2022-11-11T18:22:44.994422Z"
    },
    "tags": []
   },
   "outputs": [],
   "source": [
    "from IPython.core.display import HTML\n",
    "HTML(f\"In our BN, $P(W)=${ie.posterior('w')[:]}\")"
   ]
  },
  {
   "cell_type": "markdown",
   "metadata": {},
   "source": [
    "With notebooks, it can be viewed as an HTML table"
   ]
  },
  {
   "cell_type": "code",
   "execution_count": null,
   "metadata": {
    "ExecuteTime": {
     "end_time": "2019-04-10T13:54:11.885076Z",
     "start_time": "2019-04-10T13:54:11.880963Z"
    },
    "execution": {
     "iopub.execute_input": "2022-11-11T18:22:45.001037Z",
     "iopub.status.busy": "2022-11-11T18:22:45.001037Z",
     "iopub.status.idle": "2022-11-11T18:22:45.006020Z",
     "shell.execute_reply": "2022-11-11T18:22:45.006020Z",
     "shell.execute_reply.started": "2022-11-11T18:22:45.001037Z"
    },
    "tags": []
   },
   "outputs": [],
   "source": [
    "ie.posterior(\"w\")[:]"
   ]
  },
  {
   "cell_type": "markdown",
   "metadata": {},
   "source": [
    "### Inference with evidence"
   ]
  },
  {
   "cell_type": "markdown",
   "metadata": {},
   "source": [
    "Suppose now that you know that the sprinkler is on and that it is not cloudy, and you wonder what Is the probability of the grass being wet, i.e., you are interested in distribution $P(W|S=1,C=0)$. <br/>The new knowledge you have (sprinkler is on and it is not cloudy) is called evidence. Evidence is entered using a dictionary. When you know precisely the value taken by a random variable, the evidence is called a hard evidence. This is the case, for instance, when I know for sure that the sprinkler is on. In this case, the knowledge is entered in the dictionary as 'variable name':label"
   ]
  },
  {
   "cell_type": "code",
   "execution_count": null,
   "metadata": {
    "ExecuteTime": {
     "end_time": "2019-04-10T13:54:11.891817Z",
     "start_time": "2019-04-10T13:54:11.886930Z"
    },
    "execution": {
     "iopub.execute_input": "2022-11-11T18:22:45.008026Z",
     "iopub.status.busy": "2022-11-11T18:22:45.007024Z",
     "iopub.status.idle": "2022-11-11T18:22:45.012126Z",
     "shell.execute_reply": "2022-11-11T18:22:45.012126Z",
     "shell.execute_reply.started": "2022-11-11T18:22:45.008026Z"
    },
    "tags": []
   },
   "outputs": [],
   "source": [
    "ie.setEvidence({'s':0, 'c': 0})\n",
    "ie.makeInference()\n",
    "ie.posterior(\"w\")"
   ]
  },
  {
   "cell_type": "markdown",
   "metadata": {},
   "source": [
    "When you have incomplete knowledge about the value of a random variable, this is called a soft evidence. In this case, this evidence is entered as the belief you have over the possible values that the random variable can take, in other words, as <em>P(evidence|true value of the variable)</em>. Imagine for instance that you think that if the sprinkler is off, you have only 50% chances of knowing it, but if it is on, you are sure to know it. Then, your belief about the state of the sprinkler is [0.5, 1] and you should enter this knowledge as shown below. Of course, hard evidence are special cases of soft evidence in which the beliefs over all the values of the random variable but one are equal to 0."
   ]
  },
  {
   "cell_type": "code",
   "execution_count": null,
   "metadata": {
    "ExecuteTime": {
     "end_time": "2019-04-10T13:54:11.898387Z",
     "start_time": "2019-04-10T13:54:11.893498Z"
    },
    "execution": {
     "iopub.execute_input": "2022-11-11T18:22:45.013130Z",
     "iopub.status.busy": "2022-11-11T18:22:45.013130Z",
     "iopub.status.idle": "2022-11-11T18:22:45.018697Z",
     "shell.execute_reply": "2022-11-11T18:22:45.018697Z",
     "shell.execute_reply.started": "2022-11-11T18:22:45.013130Z"
    },
    "tags": []
   },
   "outputs": [],
   "source": [
    "ie.setEvidence({'s': [0.5, 1], 'c': [1, 0]})\n",
    "ie.makeInference()\n",
    "ie.posterior(\"w\") # using gnb's feature"
   ]
  },
  {
   "cell_type": "markdown",
   "metadata": {},
   "source": [
    "the pyAgrum.lib.notebook utility proposes certain functions to graphically show distributions."
   ]
  },
  {
   "cell_type": "code",
   "execution_count": null,
   "metadata": {
    "ExecuteTime": {
     "end_time": "2019-04-10T13:54:12.118088Z",
     "start_time": "2019-04-10T13:54:11.900106Z"
    },
    "execution": {
     "iopub.execute_input": "2022-11-11T18:22:45.019640Z",
     "iopub.status.busy": "2022-11-11T18:22:45.019640Z",
     "iopub.status.idle": "2022-11-11T18:22:45.267956Z",
     "shell.execute_reply": "2022-11-11T18:22:45.266410Z",
     "shell.execute_reply.started": "2022-11-11T18:22:45.019640Z"
    },
    "tags": []
   },
   "outputs": [],
   "source": [
    "gnb.showProba(ie.posterior(\"w\"))"
   ]
  },
  {
   "cell_type": "code",
   "execution_count": null,
   "metadata": {
    "ExecuteTime": {
     "end_time": "2019-04-10T13:54:12.215387Z",
     "start_time": "2019-04-10T13:54:12.120348Z"
    },
    "execution": {
     "iopub.execute_input": "2022-11-11T18:22:45.269970Z",
     "iopub.status.busy": "2022-11-11T18:22:45.268970Z",
     "iopub.status.idle": "2022-11-11T18:22:45.343081Z",
     "shell.execute_reply": "2022-11-11T18:22:45.342194Z",
     "shell.execute_reply.started": "2022-11-11T18:22:45.269970Z"
    },
    "tags": []
   },
   "outputs": [],
   "source": [
    "gnb.showPosterior(bn,{'s':1,'c':0},'w')"
   ]
  },
  {
   "cell_type": "markdown",
   "metadata": {},
   "source": [
    "### inference in the whole Bayes net"
   ]
  },
  {
   "cell_type": "code",
   "execution_count": null,
   "metadata": {
    "ExecuteTime": {
     "end_time": "2019-04-10T13:54:14.678249Z",
     "start_time": "2019-04-10T13:54:12.217783Z"
    },
    "execution": {
     "iopub.execute_input": "2022-11-11T18:22:45.345080Z",
     "iopub.status.busy": "2022-11-11T18:22:45.344082Z",
     "iopub.status.idle": "2022-11-11T18:22:45.805851Z",
     "shell.execute_reply": "2022-11-11T18:22:45.804847Z",
     "shell.execute_reply.started": "2022-11-11T18:22:45.345080Z"
    },
    "tags": []
   },
   "outputs": [],
   "source": [
    "gnb.showInference(bn,evs={})"
   ]
  },
  {
   "cell_type": "markdown",
   "metadata": {},
   "source": [
    "#### inference with hard evidence"
   ]
  },
  {
   "cell_type": "code",
   "execution_count": null,
   "metadata": {
    "ExecuteTime": {
     "end_time": "2019-04-10T13:54:16.866133Z",
     "start_time": "2019-04-10T13:54:14.680463Z"
    },
    "execution": {
     "iopub.execute_input": "2022-11-11T18:22:45.809373Z",
     "iopub.status.busy": "2022-11-11T18:22:45.808362Z",
     "iopub.status.idle": "2022-11-11T18:22:46.289534Z",
     "shell.execute_reply": "2022-11-11T18:22:46.288526Z",
     "shell.execute_reply.started": "2022-11-11T18:22:45.809373Z"
    },
    "tags": []
   },
   "outputs": [],
   "source": [
    "gnb.showInference(bn,evs={'s':1,'c':0})"
   ]
  },
  {
   "cell_type": "markdown",
   "metadata": {},
   "source": [
    "#### inference with soft and hard evidence"
   ]
  },
  {
   "cell_type": "code",
   "execution_count": null,
   "metadata": {
    "ExecuteTime": {
     "end_time": "2019-04-10T13:54:19.306711Z",
     "start_time": "2019-04-10T13:54:16.868478Z"
    },
    "execution": {
     "iopub.execute_input": "2022-11-11T18:22:46.291533Z",
     "iopub.status.busy": "2022-11-11T18:22:46.290536Z",
     "iopub.status.idle": "2022-11-11T18:22:46.743007Z",
     "shell.execute_reply": "2022-11-11T18:22:46.742003Z",
     "shell.execute_reply.started": "2022-11-11T18:22:46.291533Z"
    },
    "tags": []
   },
   "outputs": [],
   "source": [
    "gnb.showInference(bn,evs={'s':1,'c':[0.3,0.9]})"
   ]
  },
  {
   "cell_type": "markdown",
   "metadata": {},
   "source": [
    "#### inference with partial targets"
   ]
  },
  {
   "cell_type": "code",
   "execution_count": null,
   "metadata": {
    "ExecuteTime": {
     "end_time": "2019-04-10T13:54:21.720327Z",
     "start_time": "2019-04-10T13:54:19.308866Z"
    },
    "execution": {
     "iopub.execute_input": "2022-11-11T18:22:46.744013Z",
     "iopub.status.busy": "2022-11-11T18:22:46.743007Z",
     "iopub.status.idle": "2022-11-11T18:22:47.145115Z",
     "shell.execute_reply": "2022-11-11T18:22:47.144107Z",
     "shell.execute_reply.started": "2022-11-11T18:22:46.744013Z"
    },
    "tags": []
   },
   "outputs": [],
   "source": [
    "gnb.showInference(bn,evs={'c':[0.3,0.9]},targets={'c','w'})"
   ]
  },
  {
   "cell_type": "markdown",
   "metadata": {},
   "source": [
    "## Testing independence in Bayesian networks\n",
    "\n",
    "One of the strength of the Bayesian networks is to form a model that allows to read qualitative knwoledge directly from the grap : the conditional independence. aGrUM/pyAgrum comes with a set of tools to query this qualitative knowledge."
   ]
  },
  {
   "cell_type": "code",
   "execution_count": null,
   "metadata": {
    "execution": {
     "iopub.execute_input": "2022-11-11T18:22:47.148115Z",
     "iopub.status.busy": "2022-11-11T18:22:47.147117Z",
     "iopub.status.idle": "2022-11-11T18:22:47.246653Z",
     "shell.execute_reply": "2022-11-11T18:22:47.245646Z",
     "shell.execute_reply.started": "2022-11-11T18:22:47.147117Z"
    },
    "tags": []
   },
   "outputs": [],
   "source": [
    "# fast create a BN (random paramaters are chosen for the CPTs)\n",
    "bn=gum.fastBN(\"A->B<-C->D->E<-F<-A;C->G<-H<-I->J\")\n",
    "bn"
   ]
  },
  {
   "cell_type": "markdown",
   "metadata": {},
   "source": [
    "## Conditional Independence\n",
    "\n",
    "### Directly\n",
    "First, one can directly test independence"
   ]
  },
  {
   "cell_type": "code",
   "execution_count": null,
   "metadata": {
    "execution": {
     "iopub.execute_input": "2022-11-11T18:22:47.248158Z",
     "iopub.status.busy": "2022-11-11T18:22:47.248158Z",
     "iopub.status.idle": "2022-11-11T18:22:47.255140Z",
     "shell.execute_reply": "2022-11-11T18:22:47.255140Z",
     "shell.execute_reply.started": "2022-11-11T18:22:47.248158Z"
    },
    "tags": []
   },
   "outputs": [],
   "source": [
    "def testIndep(bn,x,y,knowing):\n",
    "    res=\"\" if bn.isIndependent(x,y,knowing) else \" NOT\"\n",
    "    giv=\".\" if len(knowing)==0 else f\" given {knowing}.\"\n",
    "    print(f\"{x} and {y} are{res} independent{giv}\")\n",
    "\n",
    "testIndep(bn,\"A\",\"C\",[])\n",
    "testIndep(bn,\"A\",\"C\",[\"E\"])\n",
    "print()\n",
    "testIndep(bn,\"E\",\"C\",[])\n",
    "testIndep(bn,\"E\",\"C\",[\"D\"])\n",
    "print()\n",
    "testIndep(bn,\"A\",\"I\",[])\n",
    "testIndep(bn,\"A\",\"I\",[\"E\"])\n",
    "testIndep(bn,\"A\",\"I\",[\"G\"])\n",
    "testIndep(bn,\"A\",\"I\",[\"E\",\"G\"])"
   ]
  },
  {
   "cell_type": "markdown",
   "metadata": {},
   "source": [
    "### Markov Blanket\n",
    "\n",
    "Second, one can investigate the Markov Blanket of a node. The Markov blanket of a node $X$ is the set of nodes $M\\!B(X)$ such that $X$ is independent from the rest of the nodes given $M\\!B(X)$."
   ]
  },
  {
   "cell_type": "code",
   "execution_count": null,
   "metadata": {
    "execution": {
     "iopub.execute_input": "2022-11-11T18:22:47.258145Z",
     "iopub.status.busy": "2022-11-11T18:22:47.257146Z",
     "iopub.status.idle": "2022-11-11T18:22:47.457034Z",
     "shell.execute_reply": "2022-11-11T18:22:47.456020Z",
     "shell.execute_reply.started": "2022-11-11T18:22:47.258145Z"
    },
    "tags": []
   },
   "outputs": [],
   "source": [
    "print(gum.MarkovBlanket(bn,\"C\").toDot())\n",
    "gum.MarkovBlanket(bn,\"C\")"
   ]
  },
  {
   "cell_type": "code",
   "execution_count": null,
   "metadata": {
    "execution": {
     "iopub.execute_input": "2022-11-11T18:22:47.458557Z",
     "iopub.status.busy": "2022-11-11T18:22:47.458557Z",
     "iopub.status.idle": "2022-11-11T18:22:47.541737Z",
     "shell.execute_reply": "2022-11-11T18:22:47.541737Z",
     "shell.execute_reply.started": "2022-11-11T18:22:47.458557Z"
    },
    "tags": []
   },
   "outputs": [],
   "source": [
    "gum.MarkovBlanket(bn,\"J\")"
   ]
  },
  {
   "cell_type": "markdown",
   "metadata": {},
   "source": [
    "### Minimal conditioning set and evidence Impact using probabilistic inference\n",
    "\n",
    "For a variable and a list of variables, one can find the sublist that effectively impacts the variable if the list of variables was observed."
   ]
  },
  {
   "cell_type": "code",
   "execution_count": null,
   "metadata": {
    "execution": {
     "iopub.execute_input": "2022-11-11T18:22:47.543672Z",
     "iopub.status.busy": "2022-11-11T18:22:47.542676Z",
     "iopub.status.idle": "2022-11-11T18:22:47.549760Z",
     "shell.execute_reply": "2022-11-11T18:22:47.548742Z",
     "shell.execute_reply.started": "2022-11-11T18:22:47.543672Z"
    },
    "tags": []
   },
   "outputs": [],
   "source": [
    "[bn.variable(i).name() for i in bn.minimalCondSet(\"B\",[\"A\",\"H\",\"J\"])]"
   ]
  },
  {
   "cell_type": "code",
   "execution_count": null,
   "metadata": {
    "execution": {
     "iopub.execute_input": "2022-11-11T18:22:47.551775Z",
     "iopub.status.busy": "2022-11-11T18:22:47.550778Z",
     "iopub.status.idle": "2022-11-11T18:22:47.559307Z",
     "shell.execute_reply": "2022-11-11T18:22:47.558290Z",
     "shell.execute_reply.started": "2022-11-11T18:22:47.551775Z"
    },
    "tags": []
   },
   "outputs": [],
   "source": [
    "[bn.variable(i).name() for i in bn.minimalCondSet(\"B\",[\"A\",\"G\",\"H\",\"J\"])]"
   ]
  },
  {
   "cell_type": "markdown",
   "metadata": {},
   "source": [
    "This can be also viewed when using `gum.LazyPropagation.evidenceImpact(target,evidence)` which computes $P(target|evidence)$ but reduces as much as possible the set of needed evidence for the result :"
   ]
  },
  {
   "cell_type": "code",
   "execution_count": null,
   "metadata": {
    "execution": {
     "iopub.execute_input": "2022-11-11T18:22:47.560322Z",
     "iopub.status.busy": "2022-11-11T18:22:47.560322Z",
     "iopub.status.idle": "2022-11-11T18:22:47.568123Z",
     "shell.execute_reply": "2022-11-11T18:22:47.567113Z",
     "shell.execute_reply.started": "2022-11-11T18:22:47.560322Z"
    },
    "tags": []
   },
   "outputs": [],
   "source": [
    "ie=gum.LazyPropagation(bn)\n",
    "ie.evidenceImpact(\"B\",[\"A\",\"C\",\"H\",\"G\"]) # H,G will be removed w.r.t the minimalCondSet above"
   ]
  },
  {
   "cell_type": "code",
   "execution_count": null,
   "metadata": {
    "execution": {
     "iopub.execute_input": "2022-11-11T18:22:47.569644Z",
     "iopub.status.busy": "2022-11-11T18:22:47.568633Z",
     "iopub.status.idle": "2022-11-11T18:22:47.577943Z",
     "shell.execute_reply": "2022-11-11T18:22:47.576934Z",
     "shell.execute_reply.started": "2022-11-11T18:22:47.569644Z"
    },
    "tags": []
   },
   "outputs": [],
   "source": [
    "ie.evidenceImpact(\"B\",[\"A\",\"G\",\"H\",\"J\"]) # \"J\" is not necessary to compute the impact of the evidence"
   ]
  },
  {
   "cell_type": "markdown",
   "metadata": {},
   "source": [
    "### PS- the complete code to create the first image"
   ]
  },
  {
   "cell_type": "code",
   "execution_count": null,
   "metadata": {
    "execution": {
     "iopub.execute_input": "2022-11-11T18:22:47.580464Z",
     "iopub.status.busy": "2022-11-11T18:22:47.579457Z",
     "iopub.status.idle": "2022-11-11T18:22:47.673556Z",
     "shell.execute_reply": "2022-11-11T18:22:47.673556Z",
     "shell.execute_reply.started": "2022-11-11T18:22:47.579457Z"
    },
    "tags": []
   },
   "outputs": [],
   "source": [
    "bn=gum.fastBN(\"Cloudy?->Sprinkler?->Wet Grass?<-Rain?<-Cloudy?\")\n",
    "\n",
    "bn.cpt(\"Cloudy?\").fillWith([0.5,0.5])\n",
    "\n",
    "bn.cpt(\"Sprinkler?\")[:]=[[0.5,0.5],\n",
    "                         [0.9,0.1]]\n",
    "\n",
    "bn.cpt(\"Rain?\")[{'Cloudy?':0}]=[0.8,0.2]\n",
    "bn.cpt(\"Rain?\")[{'Cloudy?':1}]=[0.2,0.8]\n",
    "\n",
    "bn.cpt(\"Wet Grass?\")[{'Rain?': 0, 'Sprinkler?': 0}] = [1, 0]\n",
    "bn.cpt(\"Wet Grass?\")[{'Rain?': 0, 'Sprinkler?': 1}] = [0.1, 0.9]\n",
    "bn.cpt(\"Wet Grass?\")[{'Rain?': 1, 'Sprinkler?': 0}] = [0.1, 0.9]\n",
    "bn.cpt(\"Wet Grass?\")[{'Rain?': 1, 'Sprinkler?': 1}] = [0.01, 0.99]\n",
    "\n",
    "# the next line control the number of visible digits\n",
    "gum.config['notebook','potential_visible_digits']=2\n",
    "gnb.sideBySide(bn.cpt(\"Cloudy?\"),captions=['$P(Cloudy)$'])\n",
    "gnb.sideBySide(bn.cpt(\"Sprinkler?\"),gnb.getBN(bn,size=\"3!\"),bn.cpt(\"Rain?\"),\n",
    "              captions=['$P(Sprinkler|Cloudy)$',\"\",'$P(WetGrass|Sprinkler,Rain)$'])\n",
    "gnb.sideBySide(bn.cpt(\"Wet Grass?\"),captions=['$P(WetGrass|Sprinkler,Rain)$'])"
   ]
  },
  {
   "cell_type": "markdown",
   "metadata": {},
   "source": [
    "### PS2- a second glimpse of `gum.config`\n",
    "\n",
    "(for more, see the notebook : config for pyAgrum)"
   ]
  },
  {
   "cell_type": "code",
   "execution_count": null,
   "metadata": {
    "execution": {
     "iopub.execute_input": "2022-11-11T18:22:47.676098Z",
     "iopub.status.busy": "2022-11-11T18:22:47.675085Z",
     "iopub.status.idle": "2022-11-11T18:22:47.754118Z",
     "shell.execute_reply": "2022-11-11T18:22:47.753111Z",
     "shell.execute_reply.started": "2022-11-11T18:22:47.676098Z"
    },
    "tags": []
   },
   "outputs": [],
   "source": [
    "bn=gum.fastBN(\"Cloudy?->Sprinkler?->Wet Grass?<-Rain?<-Cloudy?\")\n",
    "\n",
    "bn.cpt(\"Cloudy?\").fillWith([0.5,0.5])\n",
    "\n",
    "bn.cpt(\"Sprinkler?\")[:]=[[0.5,0.5],\n",
    "                         [0.9,0.1]]\n",
    "\n",
    "bn.cpt(\"Rain?\")[{'Cloudy?':0}]=[0.8,0.2]\n",
    "bn.cpt(\"Rain?\")[{'Cloudy?':1}]=[0.2,0.8]\n",
    "\n",
    "bn.cpt(\"Wet Grass?\")[{'Rain?': 0, 'Sprinkler?': 0}] = [1, 0]\n",
    "bn.cpt(\"Wet Grass?\")[{'Rain?': 0, 'Sprinkler?': 1}] = [0.1, 0.9]\n",
    "bn.cpt(\"Wet Grass?\")[{'Rain?': 1, 'Sprinkler?': 0}] = [0.1, 0.9]\n",
    "bn.cpt(\"Wet Grass?\")[{'Rain?': 1, 'Sprinkler?': 1}] = [0.01, 0.99]\n",
    "\n",
    "# the next lines control the visualisation of proba as fraction\n",
    "gum.config['notebook','potential_with_fraction']=True\n",
    "gum.config['notebook', 'potential_fraction_with_latex']=True\n",
    "gum.config['notebook', 'potential_fraction_limit']=100\n",
    "\n",
    "gnb.sideBySide(bn.cpt(\"Cloudy?\"),captions=['$P(Cloudy)$'])\n",
    "gnb.sideBySide(bn.cpt(\"Sprinkler?\"),gnb.getBN(bn,size=\"3!\"),bn.cpt(\"Rain?\"),\n",
    "              captions=['$P(Sprinkler|Cloudy)$',\"\",'$P(WetGrass|Sprinkler,Rain)$'])\n",
    "gnb.sideBySide(bn.cpt(\"Wet Grass?\"),captions=['$P(WetGrass|Sprinkler,Rain)$'])"
   ]
  }
 ],
 "metadata": {
  "anaconda-cloud": {},
  "hide_input": false,
  "kernelspec": {
   "display_name": "Python 3 (ipykernel)",
   "language": "python",
   "name": "python3"
  },
  "language_info": {
   "codemirror_mode": {
    "name": "ipython",
    "version": 3
   },
   "file_extension": ".py",
   "mimetype": "text/x-python",
   "name": "python",
   "nbconvert_exporter": "python",
   "pygments_lexer": "ipython3",
   "version": "3.10.4"
  }
 },
 "nbformat": 4,
 "nbformat_minor": 4
}
