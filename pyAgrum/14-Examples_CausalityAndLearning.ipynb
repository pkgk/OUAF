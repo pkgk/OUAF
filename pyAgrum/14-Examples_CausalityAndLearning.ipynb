{
 "cells": [
  {
   "cell_type": "markdown",
   "metadata": {},
   "source": [
    "# Learning and causality"
   ]
  },
  {
   "cell_type": "markdown",
   "metadata": {},
   "source": [
    "| | | |\n",
    "|-|-|-|\n",
    "|[ ![Creative Commons License](images/cc4.png)](http://creativecommons.org/licenses/by-nc/4.0/) |[ ![aGrUM](images/logoAgrum.png)](https://agrum.org) |[ ![interactive online version](images/atbinder.svg)](https://agrum.gitlab.io/extra/agrum_at_binder.html)"
   ]
  },
  {
   "cell_type": "code",
   "execution_count": 1,
   "metadata": {
    "ExecuteTime": {
     "end_time": "2019-04-20T13:55:28.004432Z",
     "start_time": "2019-04-20T13:55:27.768067Z"
    },
    "execution": {
     "iopub.execute_input": "2022-11-11T18:26:08.218331Z",
     "iopub.status.busy": "2022-11-11T18:26:08.217334Z",
     "iopub.status.idle": "2022-11-11T18:26:08.726838Z",
     "shell.execute_reply": "2022-11-11T18:26:08.725834Z",
     "shell.execute_reply.started": "2022-11-11T18:26:08.218331Z"
    }
   },
   "outputs": [],
   "source": [
    "import pyAgrum as gum\n",
    "import pyAgrum.lib.notebook as gnb"
   ]
  },
  {
   "cell_type": "markdown",
   "metadata": {},
   "source": [
    "## Model"
   ]
  },
  {
   "cell_type": "markdown",
   "metadata": {},
   "source": [
    "Let's assume a process $X_1\\rightarrow Y_1$ with a control on $X_1$ by $C_a$ and a parameter $P_b$ on $Y_1$."
   ]
  },
  {
   "cell_type": "code",
   "execution_count": 2,
   "metadata": {
    "ExecuteTime": {
     "end_time": "2019-04-20T13:55:29.719565Z",
     "start_time": "2019-04-20T13:55:28.006817Z"
    },
    "execution": {
     "iopub.execute_input": "2022-11-11T18:26:08.729417Z",
     "iopub.status.busy": "2022-11-11T18:26:08.728401Z",
     "iopub.status.idle": "2022-11-11T18:26:08.832537Z",
     "shell.execute_reply": "2022-11-11T18:26:08.832537Z",
     "shell.execute_reply.started": "2022-11-11T18:26:08.729417Z"
    },
    "tags": []
   },
   "outputs": [
    {
     "data": {
      "text/html": [
       "\n",
       "      <style>\n",
       "      .floating-box {\n",
       "      display: inline-block;\n",
       "      margin: 7px;\n",
       "      padding : 3px;\n",
       "      border: 0px solid transparent;  \n",
       "      valign:middle;\n",
       "      background-color: transparent;\n",
       "      }\n",
       "      </style>\n",
       "      <div class=\"floating-box\"><svg xmlns=\"http://www.w3.org/2000/svg\" xmlns:xlink=\"http://www.w3.org/1999/xlink\" width=\"134pt\" height=\"188pt\" viewBox=\"0.00 0.00 134.00 188.00\">\n",
       "<g id=\"graph0\" class=\"graph\" transform=\"scale(1 1) rotate(0) translate(4 184)\">\n",
       "<title>G</title>\n",
       "<!-- Y1 -->\n",
       "<g id=\"node1\" class=\"node\">\n",
       "<title>Y1</title>\n",
       "<g id=\"a_node1\"><a xlink:title=\"(2) Y1\">\n",
       "<ellipse fill=\"#404040\" stroke=\"black\" cx=\"63\" cy=\"-18\" rx=\"27\" ry=\"18\"/>\n",
       "<text text-anchor=\"middle\" x=\"63\" y=\"-14.3\" font-family=\"Times New Roman,serif\" font-size=\"14.00\" fill=\"white\">Y1</text>\n",
       "</a>\n",
       "</g>\n",
       "</g>\n",
       "<!-- Pb -->\n",
       "<g id=\"node2\" class=\"node\">\n",
       "<title>Pb</title>\n",
       "<g id=\"a_node2\"><a xlink:title=\"(3) Pb\">\n",
       "<ellipse fill=\"#404040\" stroke=\"black\" cx=\"27\" cy=\"-90\" rx=\"27\" ry=\"18\"/>\n",
       "<text text-anchor=\"middle\" x=\"27\" y=\"-86.3\" font-family=\"Times New Roman,serif\" font-size=\"14.00\" fill=\"white\">Pb</text>\n",
       "</a>\n",
       "</g>\n",
       "</g>\n",
       "<!-- Pb&#45;&gt;Y1 -->\n",
       "<g id=\"edge2\" class=\"edge\">\n",
       "<title>Pb-&gt;Y1</title>\n",
       "<g id=\"a_edge2\"><a xlink:title=\"3 → 2\">\n",
       "<path fill=\"none\" stroke=\"#4a4a4a\" d=\"M35.35,-72.76C39.58,-64.55 44.81,-54.37 49.58,-45.09\"/>\n",
       "<polygon fill=\"#4a4a4a\" stroke=\"#4a4a4a\" points=\"52.54,-46.99 54,-36.49 46.32,-43.79 52.54,-46.99\"/>\n",
       "</a>\n",
       "</g>\n",
       "</g>\n",
       "<!-- X1 -->\n",
       "<g id=\"node3\" class=\"node\">\n",
       "<title>X1</title>\n",
       "<g id=\"a_node3\"><a xlink:title=\"(1) X1\">\n",
       "<ellipse fill=\"#404040\" stroke=\"black\" cx=\"99\" cy=\"-90\" rx=\"27\" ry=\"18\"/>\n",
       "<text text-anchor=\"middle\" x=\"99\" y=\"-86.3\" font-family=\"Times New Roman,serif\" font-size=\"14.00\" fill=\"white\">X1</text>\n",
       "</a>\n",
       "</g>\n",
       "</g>\n",
       "<!-- X1&#45;&gt;Y1 -->\n",
       "<g id=\"edge3\" class=\"edge\">\n",
       "<title>X1-&gt;Y1</title>\n",
       "<g id=\"a_edge3\"><a xlink:title=\"1 → 2\">\n",
       "<path fill=\"none\" stroke=\"#4a4a4a\" d=\"M90.65,-72.76C86.42,-64.55 81.19,-54.37 76.42,-45.09\"/>\n",
       "<polygon fill=\"#4a4a4a\" stroke=\"#4a4a4a\" points=\"79.68,-43.79 72,-36.49 73.46,-46.99 79.68,-43.79\"/>\n",
       "</a>\n",
       "</g>\n",
       "</g>\n",
       "<!-- Ca -->\n",
       "<g id=\"node4\" class=\"node\">\n",
       "<title>Ca</title>\n",
       "<g id=\"a_node4\"><a xlink:title=\"(0) Ca\">\n",
       "<ellipse fill=\"#404040\" stroke=\"black\" cx=\"99\" cy=\"-162\" rx=\"27\" ry=\"18\"/>\n",
       "<text text-anchor=\"middle\" x=\"99\" y=\"-158.3\" font-family=\"Times New Roman,serif\" font-size=\"14.00\" fill=\"white\">Ca</text>\n",
       "</a>\n",
       "</g>\n",
       "</g>\n",
       "<!-- Ca&#45;&gt;X1 -->\n",
       "<g id=\"edge1\" class=\"edge\">\n",
       "<title>Ca-&gt;X1</title>\n",
       "<g id=\"a_edge1\"><a xlink:title=\"0 → 1\">\n",
       "<path fill=\"none\" stroke=\"#4a4a4a\" d=\"M99,-143.7C99,-136.41 99,-127.73 99,-119.54\"/>\n",
       "<polygon fill=\"#4a4a4a\" stroke=\"#4a4a4a\" points=\"102.5,-119.62 99,-109.62 95.5,-119.62 102.5,-119.62\"/>\n",
       "</a>\n",
       "</g>\n",
       "</g>\n",
       "</g>\n",
       "</svg></div><div class=\"floating-box\"><table style=\"border:1px solid black;\">\n",
       "<tr style='border:1px solid black;color:black;background-color:#808080'>\n",
       "      <th colspan='2'><center>Ca</center></th></tr>\n",
       "<tr><th style='border:1px solid black;border-bottom-style: double;color:black;background-color:#BBBBBB'>\n",
       "      <center>0</center></th><th style='border:1px solid black;border-bottom-style: double;color:black;background-color:#BBBBBB'>\n",
       "      <center>1</center></th></tr>\n",
       "<tr><td style='color:black;background-color:#98e564;text-align:right;'>0.8000</td><td style='color:black;background-color:#e59864;text-align:right;'>0.2000</td></tr>\n",
       "</table></div><div class=\"floating-box\"><table style=\"border:1px solid black;\">\n",
       "<tr><th colspan='1'></th>\n",
       "      <th colspan='2' style='border:1px solid black;color:black;background-color:#808080;'><center>X1</center>\n",
       "      </th></tr>\n",
       "<tr><th style='border:1px solid black;color:black;background-color:#808080'><center>Ca</center></th><th style='border:1px solid black;border-bottom-style: double;color:black;background-color:#BBBBBB'>\n",
       "      <center>0</center></th><th style='border:1px solid black;border-bottom-style: double;color:black;background-color:#BBBBBB'>\n",
       "      <center>1</center></th></tr>\n",
       "<tr><th style='border:1px solid black;color:black;background-color:#BBBBBB'><center>0</center></th><td style='color:black;background-color:#8bf264;text-align:right;'>0.9000</td><td style='color:black;background-color:#f28b64;text-align:right;'>0.1000</td></tr>\n",
       "<tr><th style='border:1px solid black;color:black;background-color:#BBBBBB'><center>1</center></th><td style='color:black;background-color:#f28b64;text-align:right;'>0.1000</td><td style='color:black;background-color:#8bf264;text-align:right;'>0.9000</td></tr>\n",
       "</table></div><div class=\"floating-box\"><table style=\"border:1px solid black;\">\n",
       "<tr><th colspan='2'></th>\n",
       "      <th colspan='2' style='border:1px solid black;color:black;background-color:#808080;'><center>Y1</center>\n",
       "      </th></tr>\n",
       "<tr><th style='border:1px solid black;color:black;background-color:#808080'><center>Pb</center></th><th style='border:1px solid black;color:black;background-color:#808080'><center>X1</center></th><th style='border:1px solid black;border-bottom-style: double;color:black;background-color:#BBBBBB'>\n",
       "      <center>0</center></th><th style='border:1px solid black;border-bottom-style: double;color:black;background-color:#BBBBBB'>\n",
       "      <center>1</center></th></tr>\n",
       "<tr><th style='border:1px solid black;color:black;background-color:#BBBBBB;' rowspan = '2'>\n",
       "            <center>0</center></th><th style='border:1px solid black;color:black;background-color:#BBBBBB'><center>0</center></th><td style='color:black;background-color:#98e564;text-align:right;'>0.8000</td><td style='color:black;background-color:#e59864;text-align:right;'>0.2000</td></tr>\n",
       "<tr><th style='border:1px solid black;color:black;background-color:#BBBBBB'><center>1</center></th><td style='color:black;background-color:#e59864;text-align:right;'>0.2000</td><td style='color:black;background-color:#98e564;text-align:right;'>0.8000</td></tr>\n",
       "<tr><th style='border:1px solid black;color:black;background-color:#BBBBBB;' rowspan = '2'>\n",
       "            <center>1</center></th><th style='border:1px solid black;color:black;background-color:#BBBBBB'><center>0</center></th><td style='color:black;background-color:#b2cb64;text-align:right;'>0.6000</td><td style='color:black;background-color:#cbb264;text-align:right;'>0.4000</td></tr>\n",
       "<tr><th style='border:1px solid black;color:black;background-color:#BBBBBB'><center>1</center></th><td style='color:black;background-color:#cbb264;text-align:right;'>0.4000</td><td style='color:black;background-color:#b2cb64;text-align:right;'>0.6000</td></tr>\n",
       "</table></div><div class=\"floating-box\"><table style=\"border:1px solid black;\">\n",
       "<tr style='border:1px solid black;color:black;background-color:#808080'>\n",
       "      <th colspan='2'><center>Pb</center></th></tr>\n",
       "<tr><th style='border:1px solid black;border-bottom-style: double;color:black;background-color:#BBBBBB'>\n",
       "      <center>0</center></th><th style='border:1px solid black;border-bottom-style: double;color:black;background-color:#BBBBBB'>\n",
       "      <center>1</center></th></tr>\n",
       "<tr><td style='color:black;background-color:#d8a564;text-align:right;'>0.3000</td><td style='color:black;background-color:#a5d864;text-align:right;'>0.7000</td></tr>\n",
       "</table></div>"
      ],
      "text/plain": [
       "<IPython.core.display.HTML object>"
      ]
     },
     "metadata": {},
     "output_type": "display_data"
    }
   ],
   "source": [
    "bn=gum.fastBN(\"Ca->X1->Y1<-Pb\")\n",
    "bn.cpt(\"Ca\").fillWith([0.8,0.2])\n",
    "bn.cpt(\"Pb\").fillWith([0.3,0.7])\n",
    "\n",
    "bn.cpt(\"X1\")[:]=[[0.9,0.1],[0.1,0.9]]\n",
    "\n",
    "bn.cpt(\"Y1\")[{\"X1\":0,\"Pb\":0}]=[0.8,0.2]\n",
    "bn.cpt(\"Y1\")[{\"X1\":1,\"Pb\":0}]=[0.2,0.8]\n",
    "bn.cpt(\"Y1\")[{\"X1\":0,\"Pb\":1}]=[0.6,0.4]\n",
    "bn.cpt(\"Y1\")[{\"X1\":1,\"Pb\":1}]=[0.4,0.6]\n",
    "\n",
    "gnb.flow.row(bn,*[bn.cpt(x) for x in bn.nodes()])"
   ]
  },
  {
   "cell_type": "markdown",
   "metadata": {},
   "source": [
    "Actually the process is duplicated in the system but the control $C_a$ and the parameter $P_b$ are shared."
   ]
  },
  {
   "cell_type": "code",
   "execution_count": 3,
   "metadata": {
    "ExecuteTime": {
     "end_time": "2019-04-20T13:55:31.587630Z",
     "start_time": "2019-04-20T13:55:29.722118Z"
    },
    "execution": {
     "iopub.execute_input": "2022-11-11T18:26:08.835546Z",
     "iopub.status.busy": "2022-11-11T18:26:08.834547Z",
     "iopub.status.idle": "2022-11-11T18:26:08.931735Z",
     "shell.execute_reply": "2022-11-11T18:26:08.931735Z",
     "shell.execute_reply.started": "2022-11-11T18:26:08.835546Z"
    },
    "tags": []
   },
   "outputs": [
    {
     "data": {
      "text/html": [
       "\n",
       "      <style>\n",
       "      .floating-box {\n",
       "      display: inline-block;\n",
       "      margin: 7px;\n",
       "      padding : 3px;\n",
       "      border: 0px solid transparent;  \n",
       "      valign:middle;\n",
       "      background-color: transparent;\n",
       "      }\n",
       "      </style>\n",
       "      <div class=\"floating-box\"><svg xmlns=\"http://www.w3.org/2000/svg\" xmlns:xlink=\"http://www.w3.org/1999/xlink\" width=\"206pt\" height=\"188pt\" viewBox=\"0.00 0.00 206.00 188.00\">\n",
       "<g id=\"graph0\" class=\"graph\" transform=\"scale(1 1) rotate(0) translate(4 184)\">\n",
       "<title>G</title>\n",
       "<!-- Y1 -->\n",
       "<g id=\"node1\" class=\"node\">\n",
       "<title>Y1</title>\n",
       "<g id=\"a_node1\"><a xlink:title=\"(2) Y1\">\n",
       "<ellipse fill=\"#404040\" stroke=\"black\" cx=\"63\" cy=\"-18\" rx=\"27\" ry=\"18\"/>\n",
       "<text text-anchor=\"middle\" x=\"63\" y=\"-14.3\" font-family=\"Times New Roman,serif\" font-size=\"14.00\" fill=\"white\">Y1</text>\n",
       "</a>\n",
       "</g>\n",
       "</g>\n",
       "<!-- X1 -->\n",
       "<g id=\"node2\" class=\"node\">\n",
       "<title>X1</title>\n",
       "<g id=\"a_node2\"><a xlink:title=\"(1) X1\">\n",
       "<ellipse fill=\"#404040\" stroke=\"black\" cx=\"27\" cy=\"-90\" rx=\"27\" ry=\"18\"/>\n",
       "<text text-anchor=\"middle\" x=\"27\" y=\"-86.3\" font-family=\"Times New Roman,serif\" font-size=\"14.00\" fill=\"white\">X1</text>\n",
       "</a>\n",
       "</g>\n",
       "</g>\n",
       "<!-- X1&#45;&gt;Y1 -->\n",
       "<g id=\"edge2\" class=\"edge\">\n",
       "<title>X1-&gt;Y1</title>\n",
       "<g id=\"a_edge2\"><a xlink:title=\"1 → 2\">\n",
       "<path fill=\"none\" stroke=\"#4a4a4a\" d=\"M35.35,-72.76C39.58,-64.55 44.81,-54.37 49.58,-45.09\"/>\n",
       "<polygon fill=\"#4a4a4a\" stroke=\"#4a4a4a\" points=\"52.54,-46.99 54,-36.49 46.32,-43.79 52.54,-46.99\"/>\n",
       "</a>\n",
       "</g>\n",
       "</g>\n",
       "<!-- Ca -->\n",
       "<g id=\"node3\" class=\"node\">\n",
       "<title>Ca</title>\n",
       "<g id=\"a_node3\"><a xlink:title=\"(0) Ca\">\n",
       "<ellipse fill=\"#404040\" stroke=\"black\" cx=\"99\" cy=\"-162\" rx=\"27\" ry=\"18\"/>\n",
       "<text text-anchor=\"middle\" x=\"99\" y=\"-158.3\" font-family=\"Times New Roman,serif\" font-size=\"14.00\" fill=\"white\">Ca</text>\n",
       "</a>\n",
       "</g>\n",
       "</g>\n",
       "<!-- Ca&#45;&gt;X1 -->\n",
       "<g id=\"edge1\" class=\"edge\">\n",
       "<title>Ca-&gt;X1</title>\n",
       "<g id=\"a_edge1\"><a xlink:title=\"0 → 1\">\n",
       "<path fill=\"none\" stroke=\"#4a4a4a\" d=\"M84.08,-146.5C74.23,-136.92 61.14,-124.19 49.97,-113.34\"/>\n",
       "<polygon fill=\"#4a4a4a\" stroke=\"#4a4a4a\" points=\"52.59,-111 42.98,-106.54 47.71,-116.02 52.59,-111\"/>\n",
       "</a>\n",
       "</g>\n",
       "</g>\n",
       "<!-- X2 -->\n",
       "<g id=\"node4\" class=\"node\">\n",
       "<title>X2</title>\n",
       "<g id=\"a_node4\"><a xlink:title=\"(4) X2\">\n",
       "<ellipse fill=\"#404040\" stroke=\"black\" cx=\"171\" cy=\"-90\" rx=\"27\" ry=\"18\"/>\n",
       "<text text-anchor=\"middle\" x=\"171\" y=\"-86.3\" font-family=\"Times New Roman,serif\" font-size=\"14.00\" fill=\"white\">X2</text>\n",
       "</a>\n",
       "</g>\n",
       "</g>\n",
       "<!-- Ca&#45;&gt;X2 -->\n",
       "<g id=\"edge3\" class=\"edge\">\n",
       "<title>Ca-&gt;X2</title>\n",
       "<g id=\"a_edge3\"><a xlink:title=\"0 → 4\">\n",
       "<path fill=\"none\" stroke=\"#4a4a4a\" d=\"M113.92,-146.5C123.77,-136.92 136.86,-124.19 148.03,-113.34\"/>\n",
       "<polygon fill=\"#4a4a4a\" stroke=\"#4a4a4a\" points=\"150.29,-116.02 155.02,-106.54 145.41,-111 150.29,-116.02\"/>\n",
       "</a>\n",
       "</g>\n",
       "</g>\n",
       "<!-- Y2 -->\n",
       "<g id=\"node5\" class=\"node\">\n",
       "<title>Y2</title>\n",
       "<g id=\"a_node5\"><a xlink:title=\"(5) Y2\">\n",
       "<ellipse fill=\"#404040\" stroke=\"black\" cx=\"153\" cy=\"-18\" rx=\"27\" ry=\"18\"/>\n",
       "<text text-anchor=\"middle\" x=\"153\" y=\"-14.3\" font-family=\"Times New Roman,serif\" font-size=\"14.00\" fill=\"white\">Y2</text>\n",
       "</a>\n",
       "</g>\n",
       "</g>\n",
       "<!-- X2&#45;&gt;Y2 -->\n",
       "<g id=\"edge4\" class=\"edge\">\n",
       "<title>X2-&gt;Y2</title>\n",
       "<g id=\"a_edge4\"><a xlink:title=\"4 → 5\">\n",
       "<path fill=\"none\" stroke=\"#4a4a4a\" d=\"M166.64,-72.05C164.7,-64.49 162.35,-55.37 160.16,-46.85\"/>\n",
       "<polygon fill=\"#4a4a4a\" stroke=\"#4a4a4a\" points=\"163.57,-46.07 157.69,-37.25 156.79,-47.81 163.57,-46.07\"/>\n",
       "</a>\n",
       "</g>\n",
       "</g>\n",
       "<!-- Pb -->\n",
       "<g id=\"node6\" class=\"node\">\n",
       "<title>Pb</title>\n",
       "<g id=\"a_node6\"><a xlink:title=\"(3) Pb\">\n",
       "<ellipse fill=\"#404040\" stroke=\"black\" cx=\"99\" cy=\"-90\" rx=\"27\" ry=\"18\"/>\n",
       "<text text-anchor=\"middle\" x=\"99\" y=\"-86.3\" font-family=\"Times New Roman,serif\" font-size=\"14.00\" fill=\"white\">Pb</text>\n",
       "</a>\n",
       "</g>\n",
       "</g>\n",
       "<!-- Pb&#45;&gt;Y1 -->\n",
       "<g id=\"edge5\" class=\"edge\">\n",
       "<title>Pb-&gt;Y1</title>\n",
       "<g id=\"a_edge5\"><a xlink:title=\"3 → 2\">\n",
       "<path fill=\"none\" stroke=\"#4a4a4a\" d=\"M90.65,-72.76C86.42,-64.55 81.19,-54.37 76.42,-45.09\"/>\n",
       "<polygon fill=\"#4a4a4a\" stroke=\"#4a4a4a\" points=\"79.68,-43.79 72,-36.49 73.46,-46.99 79.68,-43.79\"/>\n",
       "</a>\n",
       "</g>\n",
       "</g>\n",
       "<!-- Pb&#45;&gt;Y2 -->\n",
       "<g id=\"edge6\" class=\"edge\">\n",
       "<title>Pb-&gt;Y2</title>\n",
       "<g id=\"a_edge6\"><a xlink:title=\"3 → 5\">\n",
       "<path fill=\"none\" stroke=\"#4a4a4a\" d=\"M110.98,-73.46C117.77,-64.67 126.4,-53.48 134.08,-43.53\"/>\n",
       "<polygon fill=\"#4a4a4a\" stroke=\"#4a4a4a\" points=\"136.79,-45.75 140.12,-35.69 131.25,-41.47 136.79,-45.75\"/>\n",
       "</a>\n",
       "</g>\n",
       "</g>\n",
       "</g>\n",
       "</svg></div><div class=\"floating-box\"><table style=\"border:1px solid black;\">\n",
       "<tr><th colspan='1'></th>\n",
       "      <th colspan='2' style='border:1px solid black;color:black;background-color:#808080;'><center>X2</center>\n",
       "      </th></tr>\n",
       "<tr><th style='border:1px solid black;color:black;background-color:#808080'><center>Ca</center></th><th style='border:1px solid black;border-bottom-style: double;color:black;background-color:#BBBBBB'>\n",
       "      <center>0</center></th><th style='border:1px solid black;border-bottom-style: double;color:black;background-color:#BBBBBB'>\n",
       "      <center>1</center></th></tr>\n",
       "<tr><th style='border:1px solid black;color:black;background-color:#BBBBBB'><center>0</center></th><td style='color:black;background-color:#8bf264;text-align:right;'>0.9000</td><td style='color:black;background-color:#f28b64;text-align:right;'>0.1000</td></tr>\n",
       "<tr><th style='border:1px solid black;color:black;background-color:#BBBBBB'><center>1</center></th><td style='color:black;background-color:#f28b64;text-align:right;'>0.1000</td><td style='color:black;background-color:#8bf264;text-align:right;'>0.9000</td></tr>\n",
       "</table></div><div class=\"floating-box\"><table style=\"border:1px solid black;\">\n",
       "<tr><th colspan='2'></th>\n",
       "      <th colspan='2' style='border:1px solid black;color:black;background-color:#808080;'><center>Y2</center>\n",
       "      </th></tr>\n",
       "<tr><th style='border:1px solid black;color:black;background-color:#808080'><center>Pb</center></th><th style='border:1px solid black;color:black;background-color:#808080'><center>X2</center></th><th style='border:1px solid black;border-bottom-style: double;color:black;background-color:#BBBBBB'>\n",
       "      <center>0</center></th><th style='border:1px solid black;border-bottom-style: double;color:black;background-color:#BBBBBB'>\n",
       "      <center>1</center></th></tr>\n",
       "<tr><th style='border:1px solid black;color:black;background-color:#BBBBBB;' rowspan = '2'>\n",
       "            <center>0</center></th><th style='border:1px solid black;color:black;background-color:#BBBBBB'><center>0</center></th><td style='color:black;background-color:#98e564;text-align:right;'>0.8000</td><td style='color:black;background-color:#e59864;text-align:right;'>0.2000</td></tr>\n",
       "<tr><th style='border:1px solid black;color:black;background-color:#BBBBBB'><center>1</center></th><td style='color:black;background-color:#e59864;text-align:right;'>0.2000</td><td style='color:black;background-color:#98e564;text-align:right;'>0.8000</td></tr>\n",
       "<tr><th style='border:1px solid black;color:black;background-color:#BBBBBB;' rowspan = '2'>\n",
       "            <center>1</center></th><th style='border:1px solid black;color:black;background-color:#BBBBBB'><center>0</center></th><td style='color:black;background-color:#b2cb64;text-align:right;'>0.6000</td><td style='color:black;background-color:#cbb264;text-align:right;'>0.4000</td></tr>\n",
       "<tr><th style='border:1px solid black;color:black;background-color:#BBBBBB'><center>1</center></th><td style='color:black;background-color:#cbb264;text-align:right;'>0.4000</td><td style='color:black;background-color:#b2cb64;text-align:right;'>0.6000</td></tr>\n",
       "</table></div>"
      ],
      "text/plain": [
       "<IPython.core.display.HTML object>"
      ]
     },
     "metadata": {},
     "output_type": "display_data"
    }
   ],
   "source": [
    "bn.add(\"X2\",2)\n",
    "bn.add(\"Y2\",2)\n",
    "bn.addArc(\"X2\",\"Y2\")\n",
    "bn.addArc(\"Ca\",\"X2\")\n",
    "bn.addArc(\"Pb\",\"Y2\")\n",
    "\n",
    "bn.cpt(\"X2\").fillWith(bn.cpt(\"X1\"),[\"X1\",\"Ca\"]) # copy cpt(X1) with the translation X2<-X1,Ca<-Ca\n",
    "bn.cpt(\"Y2\").fillWith(bn.cpt(\"Y1\"),[\"Y1\",\"X1\",\"Pb\"]) # copy cpt(Y1) with translation Y2<-Y1,X2<-X1,Pb<-Pb\n",
    "\n",
    "gnb.flow.row(bn,bn.cpt(\"X2\"),bn.cpt(\"Y2\"))"
   ]
  },
  {
   "cell_type": "markdown",
   "metadata": {},
   "source": [
    "## Simulation of the data"
   ]
  },
  {
   "cell_type": "markdown",
   "metadata": {},
   "source": [
    "The process is partially observed : the control has been taken into account. However the parameter has not been identified and therefore is not collected."
   ]
  },
  {
   "cell_type": "code",
   "execution_count": 4,
   "metadata": {
    "ExecuteTime": {
     "end_time": "2019-04-20T13:56:02.196696Z",
     "start_time": "2019-04-20T13:56:02.029209Z"
    },
    "execution": {
     "iopub.execute_input": "2022-11-11T18:26:08.933741Z",
     "iopub.status.busy": "2022-11-11T18:26:08.932743Z",
     "iopub.status.idle": "2022-11-11T18:26:09.383975Z",
     "shell.execute_reply": "2022-11-11T18:26:09.382957Z",
     "shell.execute_reply.started": "2022-11-11T18:26:08.933741Z"
    },
    "tags": []
   },
   "outputs": [],
   "source": [
    "#the base will be saved in completeData=\"out/complete_data.csv\", observedData=\"out/observed_data.csv\"\n",
    "import os\n",
    "completeData=\"out/complete_data.csv\"\n",
    "observedData=\"out/observed_data.csv\"\n",
    "fixedObsData=\"res/fixed_observed_data.csv\"\n",
    "\n",
    "# generating complete date with pyAgrum\n",
    "size=35000\n",
    "#gum.generateSample(bn,5000,\"data.csv\",random_order=True)\n",
    "generator=gum.BNDatabaseGenerator(bn)\n",
    "generator.setRandomVarOrder()\n",
    "generator.drawSamples(size)\n",
    "generator.toCSV(completeData)"
   ]
  },
  {
   "cell_type": "code",
   "execution_count": 5,
   "metadata": {
    "ExecuteTime": {
     "end_time": "2019-04-20T13:56:02.983558Z",
     "start_time": "2019-04-20T13:56:02.724915Z"
    },
    "execution": {
     "iopub.execute_input": "2022-11-11T18:26:09.384975Z",
     "iopub.status.busy": "2022-11-11T18:26:09.384975Z",
     "iopub.status.idle": "2022-11-11T18:26:09.863300Z",
     "shell.execute_reply": "2022-11-11T18:26:09.863300Z",
     "shell.execute_reply.started": "2022-11-11T18:26:09.384975Z"
    },
    "tags": []
   },
   "outputs": [],
   "source": [
    "# selecting some variables using pandas\n",
    "import pandas as pd\n",
    "f=pd.read_csv(completeData)\n",
    "keep_col = [\"X1\",\"Y1\",\"X2\",\"Y2\",\"Ca\"] # Pb is removed\n",
    "new_f = f[keep_col]\n",
    "new_f.to_csv(observedData, index=False)"
   ]
  },
  {
   "cell_type": "markdown",
   "metadata": {},
   "source": [
    "In order to have fixed results, we will use now a database <tt>fixed_observed_data.csv</tt> generated with the process above."
   ]
  },
  {
   "cell_type": "markdown",
   "metadata": {},
   "source": [
    "## statistical learning\n",
    "\n",
    "Using a classical statistical learning method, one can approximate a model from the observed data."
   ]
  },
  {
   "cell_type": "code",
   "execution_count": 6,
   "metadata": {
    "ExecuteTime": {
     "end_time": "2019-04-20T13:56:03.831239Z",
     "start_time": "2019-04-20T13:56:03.756837Z"
    },
    "execution": {
     "iopub.execute_input": "2022-11-11T18:26:09.864311Z",
     "iopub.status.busy": "2022-11-11T18:26:09.864311Z",
     "iopub.status.idle": "2022-11-11T18:26:09.988760Z",
     "shell.execute_reply": "2022-11-11T18:26:09.988760Z",
     "shell.execute_reply.started": "2022-11-11T18:26:09.864311Z"
    },
    "tags": []
   },
   "outputs": [],
   "source": [
    "learner=gum.BNLearner(fixedObsData)\n",
    "learner.useGreedyHillClimbing()\n",
    "bn2=learner.learnBN()"
   ]
  },
  {
   "cell_type": "markdown",
   "metadata": {},
   "source": [
    "## Evaluating the impact of $X2$ on $Y1$\n",
    "\n",
    "Using the database, a question for the user is to evaluate the impact of the value of $X2$ on $Y1$."
   ]
  },
  {
   "cell_type": "code",
   "execution_count": 7,
   "metadata": {
    "ExecuteTime": {
     "end_time": "2019-04-20T13:56:08.229619Z",
     "start_time": "2019-04-20T13:56:08.219921Z"
    },
    "execution": {
     "iopub.execute_input": "2022-11-11T18:26:09.992775Z",
     "iopub.status.busy": "2022-11-11T18:26:09.992775Z",
     "iopub.status.idle": "2022-11-11T18:26:10.005051Z",
     "shell.execute_reply": "2022-11-11T18:26:10.005051Z",
     "shell.execute_reply.started": "2022-11-11T18:26:09.992775Z"
    },
    "scrolled": true,
    "tags": []
   },
   "outputs": [
    {
     "data": {
      "text/html": [
       "\n",
       "      <style>\n",
       "      .floating-box {\n",
       "      display: inline-block;\n",
       "      margin: 7px;\n",
       "      padding : 3px;\n",
       "      border: 0px solid transparent;  \n",
       "      valign:middle;\n",
       "      background-color: transparent;\n",
       "      }\n",
       "      </style>\n",
       "      <div class=\"floating-box\"><table style=\"border:1px solid black;\">\n",
       "<tr><th colspan='1'></th>\n",
       "      <th colspan='2' style='border:1px solid black;color:black;background-color:#808080;'><center>Y1</center>\n",
       "      </th></tr>\n",
       "<tr><th style='border:1px solid black;color:black;background-color:#808080'><center>X2</center></th><th style='border:1px solid black;border-bottom-style: double;color:black;background-color:#BBBBBB'>\n",
       "      <center>0</center></th><th style='border:1px solid black;border-bottom-style: double;color:black;background-color:#BBBBBB'>\n",
       "      <center>1</center></th></tr>\n",
       "<tr><th style='border:1px solid black;color:black;background-color:#BBBBBB'><center>0</center></th><td style='color:black;background-color:#afce64;text-align:right;'>0.6211</td><td style='color:black;background-color:#ceaf64;text-align:right;'>0.3789</td></tr>\n",
       "<tr><th style='border:1px solid black;color:black;background-color:#BBBBBB'><center>1</center></th><td style='color:black;background-color:#c5b864;text-align:right;'>0.4508</td><td style='color:black;background-color:#b8c564;text-align:right;'>0.5492</td></tr>\n",
       "</table><br><center><small><em>in original model</em></small></center></div><div class=\"floating-box\"><table style=\"border:1px solid black;\">\n",
       "<tr><th colspan='1'></th>\n",
       "      <th colspan='2' style='border:1px solid black;color:black;background-color:#808080;'><center>Y1</center>\n",
       "      </th></tr>\n",
       "<tr><th style='border:1px solid black;color:black;background-color:#808080'><center>X2</center></th><th style='border:1px solid black;border-bottom-style: double;color:black;background-color:#BBBBBB'>\n",
       "      <center>0</center></th><th style='border:1px solid black;border-bottom-style: double;color:black;background-color:#BBBBBB'>\n",
       "      <center>1</center></th></tr>\n",
       "<tr><th style='border:1px solid black;color:black;background-color:#BBBBBB'><center>0</center></th><td style='color:black;background-color:#afce64;text-align:right;'>0.6183</td><td style='color:black;background-color:#ceaf64;text-align:right;'>0.3817</td></tr>\n",
       "<tr><th style='border:1px solid black;color:black;background-color:#BBBBBB'><center>1</center></th><td style='color:black;background-color:#c6b764;text-align:right;'>0.4415</td><td style='color:black;background-color:#b7c664;text-align:right;'>0.5585</td></tr>\n",
       "</table><br><center><small><em>in learned model</em></small></center></div><div class=\"floating-box\"><table style=\"border:1px solid black;\">\n",
       "<tr><th colspan='1'></th>\n",
       "      <th colspan='2' style='border:1px solid black;color:black;background-color:#808080;'><center>Y1</center>\n",
       "      </th></tr>\n",
       "<tr><th style='border:1px solid black;color:black;background-color:#808080'><center>X2</center></th><th style='border:1px solid black;border-bottom-style: double;color:black;background-color:#BBBBBB'>\n",
       "      <center>0</center></th><th style='border:1px solid black;border-bottom-style: double;color:black;background-color:#BBBBBB'>\n",
       "      <center>1</center></th></tr>\n",
       "<tr><th style='border:1px solid black;color:black;background-color:#BBBBBB'><center>0</center></th><td style='color:black;background-color:#c6b764;text-align:right;'>0.4422</td><td style='text-align:right;'>-0.7249</td></tr>\n",
       "<tr><th style='border:1px solid black;color:black;background-color:#BBBBBB'><center>1</center></th><td style='text-align:right;'>2.0453</td><td style='text-align:right;'>-1.6787</td></tr>\n",
       "</table><br><center><small><em>relative errors</em></small></center></div><div class=\"floating-box\">$$7.72226$$<br><center><small><em>quadratic error</em></small></center></div>"
      ],
      "text/plain": [
       "<IPython.core.display.HTML object>"
      ]
     },
     "metadata": {},
     "output_type": "display_data"
    }
   ],
   "source": [
    "target=\"Y1\"\n",
    "evs=\"X2\"\n",
    "ie=gum.LazyPropagation(bn)\n",
    "ie2=gum.LazyPropagation(bn2)\n",
    "p1=ie.evidenceImpact(target,[evs])\n",
    "p2=gum.Potential(p1).fillWith(ie2.evidenceImpact(target,[evs]),[target,evs])\n",
    "errs=((p1-p2)/p1).scale(100)\n",
    "quaderr=(errs*errs).sum()\n",
    "gnb.flow.row(p1,p2,errs,f\"$${quaderr:3.5f}$$\",\n",
    "              captions=['in original model','in learned model','relative errors','quadratic error'])\n"
   ]
  },
  {
   "cell_type": "markdown",
   "metadata": {},
   "source": [
    "## Evaluating the causal impact of $X2$ on $Y1$ with the learned model\n",
    "\n",
    "The statistician notes that the change wanted by the user to apply on $X_2$ is not an observation but rather an intervention."
   ]
  },
  {
   "cell_type": "code",
   "execution_count": 8,
   "metadata": {
    "ExecuteTime": {
     "end_time": "2019-04-20T13:56:12.043753Z",
     "start_time": "2019-04-20T13:56:08.231799Z"
    },
    "execution": {
     "iopub.execute_input": "2022-11-11T18:26:10.007055Z",
     "iopub.status.busy": "2022-11-11T18:26:10.006057Z",
     "iopub.status.idle": "2022-11-11T18:26:10.025456Z",
     "shell.execute_reply": "2022-11-11T18:26:10.025456Z",
     "shell.execute_reply.started": "2022-11-11T18:26:10.007055Z"
    },
    "tags": []
   },
   "outputs": [],
   "source": [
    "import pyAgrum.causal as csl\n",
    "import pyAgrum.causal.notebook as cslnb\n",
    "\n",
    "model=csl.CausalModel(bn)\n",
    "model2=csl.CausalModel(bn2)"
   ]
  },
  {
   "cell_type": "code",
   "execution_count": 9,
   "metadata": {
    "ExecuteTime": {
     "end_time": "2019-04-20T13:56:12.043753Z",
     "start_time": "2019-04-20T13:56:08.231799Z"
    },
    "execution": {
     "iopub.execute_input": "2022-11-11T18:26:10.027967Z",
     "iopub.status.busy": "2022-11-11T18:26:10.026460Z",
     "iopub.status.idle": "2022-11-11T18:26:10.157891Z",
     "shell.execute_reply": "2022-11-11T18:26:10.156883Z",
     "shell.execute_reply.started": "2022-11-11T18:26:10.027967Z"
    },
    "tags": [
     "nbsphinx-thumbnail"
    ]
   },
   "outputs": [
    {
     "data": {
      "image/svg+xml": [
       "<svg xmlns=\"http://www.w3.org/2000/svg\" xmlns:xlink=\"http://www.w3.org/1999/xlink\" width=\"180pt\" height=\"164pt\" viewBox=\"0.00 0.00 180.00 164.27\">\n",
       "<g id=\"graph0\" class=\"graph\" transform=\"scale(0.873786 0.873786) rotate(0) translate(4 184)\">\n",
       "<title>G</title>\n",
       "<!-- Ca -->\n",
       "<g id=\"node1\" class=\"node\">\n",
       "<title>Ca</title>\n",
       "<ellipse fill=\"#404040\" stroke=\"#4a4a4a\" cx=\"99\" cy=\"-162\" rx=\"27\" ry=\"18\"/>\n",
       "<text text-anchor=\"middle\" x=\"99\" y=\"-158.3\" font-family=\"Times New Roman,serif\" font-size=\"14.00\" fill=\"white\">Ca</text>\n",
       "</g>\n",
       "<!-- X1 -->\n",
       "<g id=\"node2\" class=\"node\">\n",
       "<title>X1</title>\n",
       "<ellipse fill=\"#404040\" stroke=\"#4a4a4a\" cx=\"27\" cy=\"-90\" rx=\"27\" ry=\"18\"/>\n",
       "<text text-anchor=\"middle\" x=\"27\" y=\"-86.3\" font-family=\"Times New Roman,serif\" font-size=\"14.00\" fill=\"white\">X1</text>\n",
       "</g>\n",
       "<!-- Ca&#45;&gt;X1 -->\n",
       "<g id=\"edge1\" class=\"edge\">\n",
       "<title>Ca-&gt;X1</title>\n",
       "<path fill=\"none\" stroke=\"#4a4a4a\" d=\"M83.38,-147.21C73.54,-137.64 60.44,-124.91 49.28,-114.05\"/>\n",
       "<path fill=\"none\" stroke=\"#4a4a4a\" d=\"M84.78,-145.78C74.93,-136.21 61.84,-123.47 50.67,-112.62\"/>\n",
       "<polygon fill=\"#4a4a4a\" stroke=\"#4a4a4a\" points=\"52.59,-111 42.98,-106.54 47.71,-116.02 52.59,-111\"/>\n",
       "</g>\n",
       "<!-- X2 -->\n",
       "<g id=\"node5\" class=\"node\">\n",
       "<title>X2</title>\n",
       "<ellipse fill=\"#404040\" stroke=\"#4a4a4a\" cx=\"171\" cy=\"-90\" rx=\"27\" ry=\"18\"/>\n",
       "<text text-anchor=\"middle\" x=\"171\" y=\"-86.3\" font-family=\"Times New Roman,serif\" font-size=\"14.00\" fill=\"white\">X2</text>\n",
       "</g>\n",
       "<!-- Ca&#45;&gt;X2 -->\n",
       "<g id=\"edge3\" class=\"edge\">\n",
       "<title>Ca-&gt;X2</title>\n",
       "<path fill=\"none\" stroke=\"#4a4a4a\" d=\"M113.22,-145.78C123.07,-136.21 136.16,-123.47 147.33,-112.62\"/>\n",
       "<path fill=\"none\" stroke=\"#4a4a4a\" d=\"M114.62,-147.21C124.46,-137.64 137.56,-124.91 148.72,-114.05\"/>\n",
       "<polygon fill=\"#4a4a4a\" stroke=\"#4a4a4a\" points=\"150.29,-116.02 155.02,-106.54 145.41,-111 150.29,-116.02\"/>\n",
       "</g>\n",
       "<!-- Y1 -->\n",
       "<g id=\"node3\" class=\"node\">\n",
       "<title>Y1</title>\n",
       "<ellipse fill=\"#404040\" stroke=\"#4a4a4a\" cx=\"45\" cy=\"-18\" rx=\"27\" ry=\"18\"/>\n",
       "<text text-anchor=\"middle\" x=\"45\" y=\"-14.3\" font-family=\"Times New Roman,serif\" font-size=\"14.00\" fill=\"white\">Y1</text>\n",
       "</g>\n",
       "<!-- X1&#45;&gt;Y1 -->\n",
       "<g id=\"edge2\" class=\"edge\">\n",
       "<title>X1-&gt;Y1</title>\n",
       "<path fill=\"none\" stroke=\"#4a4a4a\" d=\"M30.39,-71.81C32.33,-64.24 34.68,-55.12 36.87,-46.6\"/>\n",
       "<path fill=\"none\" stroke=\"#4a4a4a\" d=\"M32.33,-72.3C34.27,-64.74 36.62,-55.62 38.81,-47.1\"/>\n",
       "<polygon fill=\"#4a4a4a\" stroke=\"#4a4a4a\" points=\"41.21,-47.81 40.31,-37.25 34.43,-46.07 41.21,-47.81\"/>\n",
       "</g>\n",
       "<!-- Pb -->\n",
       "<g id=\"node4\" class=\"node\">\n",
       "<title>Pb</title>\n",
       "<ellipse fill=\"#404040\" stroke=\"#4a4a4a\" cx=\"99\" cy=\"-90\" rx=\"27\" ry=\"18\"/>\n",
       "<text text-anchor=\"middle\" x=\"99\" y=\"-86.3\" font-family=\"Times New Roman,serif\" font-size=\"14.00\" fill=\"white\">Pb</text>\n",
       "</g>\n",
       "<!-- Pb&#45;&gt;Y1 -->\n",
       "<g id=\"edge5\" class=\"edge\">\n",
       "<title>Pb-&gt;Y1</title>\n",
       "<path fill=\"none\" stroke=\"#4a4a4a\" d=\"M86.22,-74.08C79.44,-65.28 70.81,-54.09 63.13,-44.14\"/>\n",
       "<path fill=\"none\" stroke=\"#4a4a4a\" d=\"M87.81,-72.85C81.03,-64.06 72.39,-52.87 64.72,-42.92\"/>\n",
       "<polygon fill=\"#4a4a4a\" stroke=\"#4a4a4a\" points=\"66.75,-41.47 57.88,-35.69 61.21,-45.75 66.75,-41.47\"/>\n",
       "</g>\n",
       "<!-- Y2 -->\n",
       "<g id=\"node6\" class=\"node\">\n",
       "<title>Y2</title>\n",
       "<ellipse fill=\"#404040\" stroke=\"#4a4a4a\" cx=\"153\" cy=\"-18\" rx=\"27\" ry=\"18\"/>\n",
       "<text text-anchor=\"middle\" x=\"153\" y=\"-14.3\" font-family=\"Times New Roman,serif\" font-size=\"14.00\" fill=\"white\">Y2</text>\n",
       "</g>\n",
       "<!-- Pb&#45;&gt;Y2 -->\n",
       "<g id=\"edge6\" class=\"edge\">\n",
       "<title>Pb-&gt;Y2</title>\n",
       "<path fill=\"none\" stroke=\"#4a4a4a\" d=\"M110.19,-72.85C116.97,-64.06 125.61,-52.87 133.28,-42.92\"/>\n",
       "<path fill=\"none\" stroke=\"#4a4a4a\" d=\"M111.78,-74.08C118.56,-65.28 127.19,-54.09 134.87,-44.14\"/>\n",
       "<polygon fill=\"#4a4a4a\" stroke=\"#4a4a4a\" points=\"136.79,-45.75 140.12,-35.69 131.25,-41.47 136.79,-45.75\"/>\n",
       "</g>\n",
       "<!-- X2&#45;&gt;Y2 -->\n",
       "<g id=\"edge4\" class=\"edge\">\n",
       "<title>X2-&gt;Y2</title>\n",
       "<path fill=\"none\" stroke=\"#4a4a4a\" d=\"M165.67,-72.3C163.73,-64.74 161.38,-55.62 159.19,-47.1\"/>\n",
       "<path fill=\"none\" stroke=\"#4a4a4a\" d=\"M167.61,-71.81C165.67,-64.24 163.32,-55.12 161.13,-46.6\"/>\n",
       "<polygon fill=\"#4a4a4a\" stroke=\"#4a4a4a\" points=\"163.57,-46.07 157.69,-37.25 156.79,-47.81 163.57,-46.07\"/>\n",
       "</g>\n",
       "</g>\n",
       "</svg>"
      ],
      "text/plain": [
       "<IPython.core.display.SVG object>"
      ]
     },
     "metadata": {},
     "output_type": "display_data"
    }
   ],
   "source": [
    "cslnb.showCausalModel(model)"
   ]
  },
  {
   "cell_type": "code",
   "execution_count": 10,
   "metadata": {
    "ExecuteTime": {
     "end_time": "2019-04-20T13:56:12.043753Z",
     "start_time": "2019-04-20T13:56:08.231799Z"
    },
    "execution": {
     "iopub.execute_input": "2022-11-11T18:26:10.159406Z",
     "iopub.status.busy": "2022-11-11T18:26:10.158396Z",
     "iopub.status.idle": "2022-11-11T18:26:10.515361Z",
     "shell.execute_reply": "2022-11-11T18:26:10.515361Z",
     "shell.execute_reply.started": "2022-11-11T18:26:10.159406Z"
    },
    "tags": []
   },
   "outputs": [
    {
     "data": {
      "text/html": [
       "\n",
       "      <style>\n",
       "      .floating-box {\n",
       "      display: inline-block;\n",
       "      margin: 7px;\n",
       "      padding : 3px;\n",
       "      border: 0px solid transparent;  \n",
       "      valign:middle;\n",
       "      background-color: transparent;\n",
       "      }\n",
       "      </style>\n",
       "      <div class=\"floating-box\"><svg xmlns=\"http://www.w3.org/2000/svg\" xmlns:xlink=\"http://www.w3.org/1999/xlink\" width=\"180pt\" height=\"164pt\" viewBox=\"0.00 0.00 180.00 164.27\">\n",
       "<g id=\"graph0\" class=\"graph\" transform=\"scale(0.873786 0.873786) rotate(0) translate(4 184)\">\n",
       "<title>G</title>\n",
       "<!-- Ca -->\n",
       "<g id=\"node1\" class=\"node\">\n",
       "<title>Ca</title>\n",
       "<ellipse fill=\"#404040\" stroke=\"#4a4a4a\" cx=\"99\" cy=\"-162\" rx=\"27\" ry=\"18\"/>\n",
       "<text text-anchor=\"middle\" x=\"99\" y=\"-158.3\" font-family=\"Times New Roman,serif\" font-size=\"14.00\" fill=\"white\">Ca</text>\n",
       "</g>\n",
       "<!-- X1 -->\n",
       "<g id=\"node2\" class=\"node\">\n",
       "<title>X1</title>\n",
       "<ellipse fill=\"#404040\" stroke=\"#4a4a4a\" cx=\"27\" cy=\"-90\" rx=\"27\" ry=\"18\"/>\n",
       "<text text-anchor=\"middle\" x=\"27\" y=\"-86.3\" font-family=\"Times New Roman,serif\" font-size=\"14.00\" fill=\"white\">X1</text>\n",
       "</g>\n",
       "<!-- Ca&#45;&gt;X1 -->\n",
       "<g id=\"edge1\" class=\"edge\">\n",
       "<title>Ca-&gt;X1</title>\n",
       "<path fill=\"none\" stroke=\"#4a4a4a\" d=\"M83.38,-147.21C73.54,-137.64 60.44,-124.91 49.28,-114.05\"/>\n",
       "<path fill=\"none\" stroke=\"#4a4a4a\" d=\"M84.78,-145.78C74.93,-136.21 61.84,-123.47 50.67,-112.62\"/>\n",
       "<polygon fill=\"#4a4a4a\" stroke=\"#4a4a4a\" points=\"52.59,-111 42.98,-106.54 47.71,-116.02 52.59,-111\"/>\n",
       "</g>\n",
       "<!-- X2 -->\n",
       "<g id=\"node5\" class=\"node\">\n",
       "<title>X2</title>\n",
       "<ellipse fill=\"#404040\" stroke=\"#4a4a4a\" cx=\"171\" cy=\"-90\" rx=\"27\" ry=\"18\"/>\n",
       "<text text-anchor=\"middle\" x=\"171\" y=\"-86.3\" font-family=\"Times New Roman,serif\" font-size=\"14.00\" fill=\"white\">X2</text>\n",
       "</g>\n",
       "<!-- Ca&#45;&gt;X2 -->\n",
       "<g id=\"edge3\" class=\"edge\">\n",
       "<title>Ca-&gt;X2</title>\n",
       "<path fill=\"none\" stroke=\"#4a4a4a\" d=\"M113.22,-145.78C123.07,-136.21 136.16,-123.47 147.33,-112.62\"/>\n",
       "<path fill=\"none\" stroke=\"#4a4a4a\" d=\"M114.62,-147.21C124.46,-137.64 137.56,-124.91 148.72,-114.05\"/>\n",
       "<polygon fill=\"#4a4a4a\" stroke=\"#4a4a4a\" points=\"150.29,-116.02 155.02,-106.54 145.41,-111 150.29,-116.02\"/>\n",
       "</g>\n",
       "<!-- Y1 -->\n",
       "<g id=\"node3\" class=\"node\">\n",
       "<title>Y1</title>\n",
       "<ellipse fill=\"#404040\" stroke=\"#4a4a4a\" cx=\"45\" cy=\"-18\" rx=\"27\" ry=\"18\"/>\n",
       "<text text-anchor=\"middle\" x=\"45\" y=\"-14.3\" font-family=\"Times New Roman,serif\" font-size=\"14.00\" fill=\"white\">Y1</text>\n",
       "</g>\n",
       "<!-- X1&#45;&gt;Y1 -->\n",
       "<g id=\"edge2\" class=\"edge\">\n",
       "<title>X1-&gt;Y1</title>\n",
       "<path fill=\"none\" stroke=\"#4a4a4a\" d=\"M30.39,-71.81C32.33,-64.24 34.68,-55.12 36.87,-46.6\"/>\n",
       "<path fill=\"none\" stroke=\"#4a4a4a\" d=\"M32.33,-72.3C34.27,-64.74 36.62,-55.62 38.81,-47.1\"/>\n",
       "<polygon fill=\"#4a4a4a\" stroke=\"#4a4a4a\" points=\"41.21,-47.81 40.31,-37.25 34.43,-46.07 41.21,-47.81\"/>\n",
       "</g>\n",
       "<!-- Pb -->\n",
       "<g id=\"node4\" class=\"node\">\n",
       "<title>Pb</title>\n",
       "<ellipse fill=\"#404040\" stroke=\"#4a4a4a\" cx=\"99\" cy=\"-90\" rx=\"27\" ry=\"18\"/>\n",
       "<text text-anchor=\"middle\" x=\"99\" y=\"-86.3\" font-family=\"Times New Roman,serif\" font-size=\"14.00\" fill=\"white\">Pb</text>\n",
       "</g>\n",
       "<!-- Pb&#45;&gt;Y1 -->\n",
       "<g id=\"edge5\" class=\"edge\">\n",
       "<title>Pb-&gt;Y1</title>\n",
       "<path fill=\"none\" stroke=\"#4a4a4a\" d=\"M86.22,-74.08C79.44,-65.28 70.81,-54.09 63.13,-44.14\"/>\n",
       "<path fill=\"none\" stroke=\"#4a4a4a\" d=\"M87.81,-72.85C81.03,-64.06 72.39,-52.87 64.72,-42.92\"/>\n",
       "<polygon fill=\"#4a4a4a\" stroke=\"#4a4a4a\" points=\"66.75,-41.47 57.88,-35.69 61.21,-45.75 66.75,-41.47\"/>\n",
       "</g>\n",
       "<!-- Y2 -->\n",
       "<g id=\"node6\" class=\"node\">\n",
       "<title>Y2</title>\n",
       "<ellipse fill=\"#404040\" stroke=\"#4a4a4a\" cx=\"153\" cy=\"-18\" rx=\"27\" ry=\"18\"/>\n",
       "<text text-anchor=\"middle\" x=\"153\" y=\"-14.3\" font-family=\"Times New Roman,serif\" font-size=\"14.00\" fill=\"white\">Y2</text>\n",
       "</g>\n",
       "<!-- Pb&#45;&gt;Y2 -->\n",
       "<g id=\"edge6\" class=\"edge\">\n",
       "<title>Pb-&gt;Y2</title>\n",
       "<path fill=\"none\" stroke=\"#4a4a4a\" d=\"M110.19,-72.85C116.97,-64.06 125.61,-52.87 133.28,-42.92\"/>\n",
       "<path fill=\"none\" stroke=\"#4a4a4a\" d=\"M111.78,-74.08C118.56,-65.28 127.19,-54.09 134.87,-44.14\"/>\n",
       "<polygon fill=\"#4a4a4a\" stroke=\"#4a4a4a\" points=\"136.79,-45.75 140.12,-35.69 131.25,-41.47 136.79,-45.75\"/>\n",
       "</g>\n",
       "<!-- X2&#45;&gt;Y2 -->\n",
       "<g id=\"edge4\" class=\"edge\">\n",
       "<title>X2-&gt;Y2</title>\n",
       "<path fill=\"none\" stroke=\"#4a4a4a\" d=\"M165.67,-72.3C163.73,-64.74 161.38,-55.62 159.19,-47.1\"/>\n",
       "<path fill=\"none\" stroke=\"#4a4a4a\" d=\"M167.61,-71.81C165.67,-64.24 163.32,-55.12 161.13,-46.6\"/>\n",
       "<polygon fill=\"#4a4a4a\" stroke=\"#4a4a4a\" points=\"163.57,-46.07 157.69,-37.25 156.79,-47.81 163.57,-46.07\"/>\n",
       "</g>\n",
       "</g>\n",
       "</svg><br><center><small><em>Causal Model</em></small></center></div><div class=\"floating-box\">$$\\begin{equation*}P( Y1 \\mid \\hookrightarrow\\mkern-6.5muX2) = \\sum_{Ca}{P\\left(Y1\\mid Ca\\right) \\cdot P\\left(Ca\\right)}\\end{equation*}$$<br><center><small><em>Explanation : backdoor ['Ca'] found.</em></small></center></div><div class=\"floating-box\"><table style=\"border:1px solid black;\">\n",
       "<tr style='border:1px solid black;color:black;background-color:#808080'>\n",
       "      <th colspan='2'><center>Y1</center></th></tr>\n",
       "<tr><th style='border:1px solid black;border-bottom-style: double;color:black;background-color:#BBBBBB'>\n",
       "      <center>0</center></th><th style='border:1px solid black;border-bottom-style: double;color:black;background-color:#BBBBBB'>\n",
       "      <center>1</center></th></tr>\n",
       "<tr><td style='color:black;background-color:#b5c864;text-align:right;'>0.5768</td><td style='color:black;background-color:#c8b564;text-align:right;'>0.4232</td></tr>\n",
       "</table><br><center><small><em>Impact</em></small></center></div>"
      ],
      "text/plain": [
       "<IPython.core.display.HTML object>"
      ]
     },
     "metadata": {},
     "output_type": "display_data"
    },
    {
     "data": {
      "text/html": [
       "\n",
       "      <style>\n",
       "      .floating-box {\n",
       "      display: inline-block;\n",
       "      margin: 7px;\n",
       "      padding : 3px;\n",
       "      border: 0px solid transparent;  \n",
       "      valign:middle;\n",
       "      background-color: transparent;\n",
       "      }\n",
       "      </style>\n",
       "      <div class=\"floating-box\"><svg xmlns=\"http://www.w3.org/2000/svg\" xmlns:xlink=\"http://www.w3.org/1999/xlink\" width=\"93pt\" height=\"180pt\" viewBox=\"0.00 0.00 92.77 180.00\">\n",
       "<g id=\"graph0\" class=\"graph\" transform=\"scale(0.692308 0.692308) rotate(0) translate(4 256)\">\n",
       "<title>G</title>\n",
       "<!-- X1 -->\n",
       "<g id=\"node1\" class=\"node\">\n",
       "<title>X1</title>\n",
       "<ellipse fill=\"#404040\" stroke=\"#4a4a4a\" cx=\"27\" cy=\"-90\" rx=\"27\" ry=\"18\"/>\n",
       "<text text-anchor=\"middle\" x=\"27\" y=\"-86.3\" font-family=\"Times New Roman,serif\" font-size=\"14.00\" fill=\"white\">X1</text>\n",
       "</g>\n",
       "<!-- Y1 -->\n",
       "<g id=\"node2\" class=\"node\">\n",
       "<title>Y1</title>\n",
       "<ellipse fill=\"#404040\" stroke=\"#4a4a4a\" cx=\"63\" cy=\"-18\" rx=\"27\" ry=\"18\"/>\n",
       "<text text-anchor=\"middle\" x=\"63\" y=\"-14.3\" font-family=\"Times New Roman,serif\" font-size=\"14.00\" fill=\"white\">Y1</text>\n",
       "</g>\n",
       "<!-- X1&#45;&gt;Y1 -->\n",
       "<g id=\"edge1\" class=\"edge\">\n",
       "<title>X1-&gt;Y1</title>\n",
       "<path fill=\"none\" stroke=\"#4a4a4a\" d=\"M34.46,-72.31C38.69,-64.09 43.92,-53.92 48.69,-44.64\"/>\n",
       "<path fill=\"none\" stroke=\"#4a4a4a\" d=\"M36.24,-73.22C40.46,-65.01 45.7,-54.83 50.47,-45.55\"/>\n",
       "<polygon fill=\"#4a4a4a\" stroke=\"#4a4a4a\" points=\"52.54,-46.99 54,-36.49 46.32,-43.79 52.54,-46.99\"/>\n",
       "</g>\n",
       "<!-- X2 -->\n",
       "<g id=\"node3\" class=\"node\">\n",
       "<title>X2</title>\n",
       "<ellipse fill=\"#404040\" stroke=\"#4a4a4a\" cx=\"94\" cy=\"-162\" rx=\"27\" ry=\"18\"/>\n",
       "<text text-anchor=\"middle\" x=\"94\" y=\"-158.3\" font-family=\"Times New Roman,serif\" font-size=\"14.00\" fill=\"white\">X2</text>\n",
       "</g>\n",
       "<!-- Y2 -->\n",
       "<g id=\"node4\" class=\"node\">\n",
       "<title>Y2</title>\n",
       "<ellipse fill=\"#404040\" stroke=\"#4a4a4a\" cx=\"99\" cy=\"-90\" rx=\"27\" ry=\"18\"/>\n",
       "<text text-anchor=\"middle\" x=\"99\" y=\"-86.3\" font-family=\"Times New Roman,serif\" font-size=\"14.00\" fill=\"white\">Y2</text>\n",
       "</g>\n",
       "<!-- X2&#45;&gt;Y2 -->\n",
       "<g id=\"edge5\" class=\"edge\">\n",
       "<title>X2-&gt;Y2</title>\n",
       "<path fill=\"none\" stroke=\"#4a4a4a\" d=\"M94.24,-143.63C94.76,-136.34 95.38,-127.66 95.96,-119.46\"/>\n",
       "<path fill=\"none\" stroke=\"#4a4a4a\" d=\"M96.23,-143.77C96.75,-136.48 97.37,-127.8 97.96,-119.61\"/>\n",
       "<polygon fill=\"#4a4a4a\" stroke=\"#4a4a4a\" points=\"100.45,-119.84 97.67,-109.61 93.47,-119.34 100.45,-119.84\"/>\n",
       "</g>\n",
       "<!-- Y2&#45;&gt;Y1 -->\n",
       "<g id=\"edge3\" class=\"edge\">\n",
       "<title>Y2-&gt;Y1</title>\n",
       "<path fill=\"none\" stroke=\"#4a4a4a\" d=\"M89.76,-73.22C85.54,-65.01 80.3,-54.83 75.53,-45.55\"/>\n",
       "<path fill=\"none\" stroke=\"#4a4a4a\" d=\"M91.54,-72.31C87.31,-64.09 82.08,-53.92 77.31,-44.64\"/>\n",
       "<polygon fill=\"#4a4a4a\" stroke=\"#4a4a4a\" points=\"79.68,-43.79 72,-36.49 73.46,-46.99 79.68,-43.79\"/>\n",
       "</g>\n",
       "<!-- Ca -->\n",
       "<g id=\"node5\" class=\"node\">\n",
       "<title>Ca</title>\n",
       "<ellipse fill=\"#404040\" stroke=\"#4a4a4a\" cx=\"62\" cy=\"-234\" rx=\"27\" ry=\"18\"/>\n",
       "<text text-anchor=\"middle\" x=\"62\" y=\"-230.3\" font-family=\"Times New Roman,serif\" font-size=\"14.00\" fill=\"white\">Ca</text>\n",
       "</g>\n",
       "<!-- Ca&#45;&gt;X1 -->\n",
       "<g id=\"edge2\" class=\"edge\">\n",
       "<title>Ca-&gt;X1</title>\n",
       "<path fill=\"none\" stroke=\"#4a4a4a\" d=\"M56.81,-216.11C50.89,-192.12 40.08,-148.23 32.97,-119.4\"/>\n",
       "<path fill=\"none\" stroke=\"#4a4a4a\" d=\"M58.75,-215.63C52.84,-191.64 42.02,-147.75 34.91,-118.92\"/>\n",
       "<polygon fill=\"#4a4a4a\" stroke=\"#4a4a4a\" points=\"37.39,-118.53 31.6,-109.66 30.59,-120.21 37.39,-118.53\"/>\n",
       "</g>\n",
       "<!-- Ca&#45;&gt;X2 -->\n",
       "<g id=\"edge4\" class=\"edge\">\n",
       "<title>Ca-&gt;X2</title>\n",
       "<path fill=\"none\" stroke=\"#4a4a4a\" d=\"M68.67,-216C72.3,-208.06 76.73,-198.37 80.82,-189.42\"/>\n",
       "<path fill=\"none\" stroke=\"#4a4a4a\" d=\"M70.49,-216.83C74.12,-208.89 78.55,-199.2 82.64,-190.25\"/>\n",
       "<polygon fill=\"#4a4a4a\" stroke=\"#4a4a4a\" points=\"84.87,-191.4 85.84,-180.85 78.5,-188.49 84.87,-191.4\"/>\n",
       "</g>\n",
       "</g>\n",
       "</svg><br><center><small><em>Causal Model</em></small></center></div><div class=\"floating-box\">$$\\begin{equation*}P( Y1 \\mid \\hookrightarrow\\mkern-6.5muX2) = \\sum_{X1}{P\\left(Y1\\mid X1,X2\\right) \\cdot P\\left(X1\\right)}\\end{equation*}$$<br><center><small><em>Explanation : backdoor ['X1'] found.</em></small></center></div><div class=\"floating-box\"><table style=\"border:1px solid black;\">\n",
       "<tr><th colspan='1'></th>\n",
       "      <th colspan='2' style='border:1px solid black;color:black;background-color:#808080;'><center>Y1</center>\n",
       "      </th></tr>\n",
       "<tr><th style='border:1px solid black;color:black;background-color:#808080'><center>X2</center></th><th style='border:1px solid black;border-bottom-style: double;color:black;background-color:#BBBBBB'>\n",
       "      <center>0</center></th><th style='border:1px solid black;border-bottom-style: double;color:black;background-color:#BBBBBB'>\n",
       "      <center>1</center></th></tr>\n",
       "<tr><th style='border:1px solid black;color:black;background-color:#BBBBBB'><center>0</center></th><td style='color:black;background-color:#b5c864;text-align:right;'>0.5743</td><td style='color:black;background-color:#c8b564;text-align:right;'>0.4257</td></tr>\n",
       "<tr><th style='border:1px solid black;color:black;background-color:#BBBBBB'><center>1</center></th><td style='color:black;background-color:#b6c764;text-align:right;'>0.5628</td><td style='color:black;background-color:#c7b664;text-align:right;'>0.4372</td></tr>\n",
       "</table><br><center><small><em>Impact</em></small></center></div>"
      ],
      "text/plain": [
       "<IPython.core.display.HTML object>"
      ]
     },
     "metadata": {},
     "output_type": "display_data"
    }
   ],
   "source": [
    "gum.config['notebook','graph_format']='svg'\n",
    "cslnb.showCausalImpact(model,on=target, doing={evs})\n",
    "cslnb.showCausalImpact(model2,on=target, doing={evs})"
   ]
  },
  {
   "cell_type": "markdown",
   "metadata": {},
   "source": [
    "Unfortunately, due to the fact that $P_a$ is not learned, the computation of the causal impact still is imprecise."
   ]
  },
  {
   "cell_type": "code",
   "execution_count": 11,
   "metadata": {
    "ExecuteTime": {
     "end_time": "2019-04-20T13:56:12.058484Z",
     "start_time": "2019-04-20T13:56:12.047315Z"
    },
    "execution": {
     "iopub.execute_input": "2022-11-11T18:26:10.517893Z",
     "iopub.status.busy": "2022-11-11T18:26:10.516377Z",
     "iopub.status.idle": "2022-11-11T18:26:10.528134Z",
     "shell.execute_reply": "2022-11-11T18:26:10.527122Z",
     "shell.execute_reply.started": "2022-11-11T18:26:10.517893Z"
    },
    "tags": []
   },
   "outputs": [
    {
     "data": {
      "text/html": [
       "\n",
       "      <style>\n",
       "      .floating-box {\n",
       "      display: inline-block;\n",
       "      margin: 7px;\n",
       "      padding : 3px;\n",
       "      border: 0px solid transparent;  \n",
       "      valign:middle;\n",
       "      background-color: transparent;\n",
       "      }\n",
       "      </style>\n",
       "      <div class=\"floating-box\"><table style=\"border:1px solid black;\">\n",
       "<tr style='border:1px solid black;color:black;background-color:#808080'>\n",
       "      <th colspan='2'><center>Y1</center></th></tr>\n",
       "<tr><th style='border:1px solid black;border-bottom-style: double;color:black;background-color:#BBBBBB'>\n",
       "      <center>0</center></th><th style='border:1px solid black;border-bottom-style: double;color:black;background-color:#BBBBBB'>\n",
       "      <center>1</center></th></tr>\n",
       "<tr><td style='color:black;background-color:#b5c864;text-align:right;'>0.5768</td><td style='color:black;background-color:#c8b564;text-align:right;'>0.4232</td></tr>\n",
       "</table><br><center><small><em>$P( Y_1 \\mid \\hookrightarrow X_2)$ <br/>in original model</em></small></center></div><div class=\"floating-box\"><table style=\"border:1px solid black;\">\n",
       "<tr><th colspan='1'></th>\n",
       "      <th colspan='2' style='border:1px solid black;color:black;background-color:#808080;'><center>Y1</center>\n",
       "      </th></tr>\n",
       "<tr><th style='border:1px solid black;color:black;background-color:#808080'><center>X2</center></th><th style='border:1px solid black;border-bottom-style: double;color:black;background-color:#BBBBBB'>\n",
       "      <center>0</center></th><th style='border:1px solid black;border-bottom-style: double;color:black;background-color:#BBBBBB'>\n",
       "      <center>1</center></th></tr>\n",
       "<tr><th style='border:1px solid black;color:black;background-color:#BBBBBB'><center>0</center></th><td style='color:black;background-color:#b5c864;text-align:right;'>0.5743</td><td style='color:black;background-color:#c8b564;text-align:right;'>0.4257</td></tr>\n",
       "<tr><th style='border:1px solid black;color:black;background-color:#BBBBBB'><center>1</center></th><td style='color:black;background-color:#b6c764;text-align:right;'>0.5628</td><td style='color:black;background-color:#c7b664;text-align:right;'>0.4372</td></tr>\n",
       "</table><br><center><small><em>$P( Y_1 \\mid \\hookrightarrow X_2)$  <br/>in learned model</em></small></center></div><div class=\"floating-box\"><table style=\"border:1px solid black;\">\n",
       "<tr><th colspan='1'></th>\n",
       "      <th colspan='2' style='border:1px solid black;color:black;background-color:#808080;'><center>Y1</center>\n",
       "      </th></tr>\n",
       "<tr><th style='border:1px solid black;color:black;background-color:#808080'><center>X2</center></th><th style='border:1px solid black;border-bottom-style: double;color:black;background-color:#BBBBBB'>\n",
       "      <center>0</center></th><th style='border:1px solid black;border-bottom-style: double;color:black;background-color:#BBBBBB'>\n",
       "      <center>1</center></th></tr>\n",
       "<tr><th style='border:1px solid black;color:black;background-color:#BBBBBB'><center>0</center></th><td style='color:black;background-color:#c6b764;text-align:right;'>0.4414</td><td style='text-align:right;'>-0.6015</td></tr>\n",
       "<tr><th style='border:1px solid black;color:black;background-color:#BBBBBB'><center>1</center></th><td style='text-align:right;'>2.4251</td><td style='text-align:right;'>-3.3052</td></tr>\n",
       "</table><br><center><small><em> <br/>relative errors</em></small></center></div><div class=\"floating-box\">$$17.36225$$<br><center><small><em> <br/>quadratic error</em></small></center></div>"
      ],
      "text/plain": [
       "<IPython.core.display.HTML object>"
      ]
     },
     "metadata": {},
     "output_type": "display_data"
    }
   ],
   "source": [
    "_, impact1, _ = csl.causalImpact(model, on=target, doing={evs})\n",
    "_, impact2orig, _ = csl.causalImpact(model2, on=target, doing={evs})\n",
    "\n",
    "impact2=gum.Potential(p2).fillWith(impact2orig,['Y1','X2'])\n",
    "errs=((impact1-impact2)/impact1).scale(100)\n",
    "quaderr=(errs*errs).sum()\n",
    "gnb.flow.row(impact1,impact2,errs,f\"$${quaderr:3.5f}$$\",\n",
    "              captions=['$P( Y_1 \\mid \\hookrightarrow X_2)$ <br/>in original model',\n",
    "                        '$P( Y_1 \\mid \\hookrightarrow X_2)$  <br/>in learned model',' <br/>relative errors',' <br/>quadratic error'])"
   ]
  },
  {
   "cell_type": "markdown",
   "metadata": {},
   "source": [
    "Just to be certain, we can verify that in the original model, $P( Y_1 \\mid \\hookrightarrow X_2)=P(Y_1)$"
   ]
  },
  {
   "cell_type": "code",
   "execution_count": 12,
   "metadata": {
    "ExecuteTime": {
     "end_time": "2019-04-20T13:56:12.073793Z",
     "start_time": "2019-04-20T13:56:12.060398Z"
    },
    "execution": {
     "iopub.execute_input": "2022-11-11T18:26:10.530660Z",
     "iopub.status.busy": "2022-11-11T18:26:10.529660Z",
     "iopub.status.idle": "2022-11-11T18:26:10.540933Z",
     "shell.execute_reply": "2022-11-11T18:26:10.540933Z",
     "shell.execute_reply.started": "2022-11-11T18:26:10.530660Z"
    },
    "tags": []
   },
   "outputs": [
    {
     "data": {
      "text/html": [
       "\n",
       "      <style>\n",
       "      .floating-box {\n",
       "      display: inline-block;\n",
       "      margin: 7px;\n",
       "      padding : 3px;\n",
       "      border: 0px solid transparent;  \n",
       "      valign:middle;\n",
       "      background-color: transparent;\n",
       "      }\n",
       "      </style>\n",
       "      <div class=\"floating-box\"><table style=\"border:1px solid black;\">\n",
       "<tr style='border:1px solid black;color:black;background-color:#808080'>\n",
       "      <th colspan='2'><center>Y1</center></th></tr>\n",
       "<tr><th style='border:1px solid black;border-bottom-style: double;color:black;background-color:#BBBBBB'>\n",
       "      <center>0</center></th><th style='border:1px solid black;border-bottom-style: double;color:black;background-color:#BBBBBB'>\n",
       "      <center>1</center></th></tr>\n",
       "<tr><td style='color:black;background-color:#b5c864;text-align:right;'>0.5768</td><td style='color:black;background-color:#c8b564;text-align:right;'>0.4232</td></tr>\n",
       "</table><br><center><small><em>$P( Y_1 \\mid \\hookrightarrow X_2)$ <br/>in the original model</em></small></center></div><div class=\"floating-box\"><table style=\"border:1px solid black;\">\n",
       "<tr style='border:1px solid black;color:black;background-color:#808080'>\n",
       "      <th colspan='2'><center>Y1</center></th></tr>\n",
       "<tr><th style='border:1px solid black;border-bottom-style: double;color:black;background-color:#BBBBBB'>\n",
       "      <center>0</center></th><th style='border:1px solid black;border-bottom-style: double;color:black;background-color:#BBBBBB'>\n",
       "      <center>1</center></th></tr>\n",
       "<tr><td style='color:black;background-color:#b5c864;text-align:right;'>0.5768</td><td style='color:black;background-color:#c8b564;text-align:right;'>0.4232</td></tr>\n",
       "</table><br><center><small><em>$P(Y_1)$ <br/>in the original model</em></small></center></div>"
      ],
      "text/plain": [
       "<IPython.core.display.HTML object>"
      ]
     },
     "metadata": {},
     "output_type": "display_data"
    }
   ],
   "source": [
    "gnb.flow.row(impact1,ie.evidenceImpact(target,[]),\n",
    "               captions=[\"$P( Y_1 \\mid \\hookrightarrow X_2)$ <br/>in the original model\",\"$P(Y_1)$ <br/>in the original model\"])"
   ]
  },
  {
   "cell_type": "markdown",
   "metadata": {},
   "source": [
    "## Causal learning and causal impact\n",
    "\n",
    "Some learning algorthims such as MIIC (Verny et al., 2017) aim to find the trace of latent variables in the data"
   ]
  },
  {
   "cell_type": "code",
   "execution_count": 13,
   "metadata": {
    "ExecuteTime": {
     "end_time": "2019-04-20T13:56:12.178497Z",
     "start_time": "2019-04-20T13:56:12.075850Z"
    },
    "execution": {
     "iopub.execute_input": "2022-11-11T18:26:10.541946Z",
     "iopub.status.busy": "2022-11-11T18:26:10.541946Z",
     "iopub.status.idle": "2022-11-11T18:26:10.640622Z",
     "shell.execute_reply": "2022-11-11T18:26:10.639618Z",
     "shell.execute_reply.started": "2022-11-11T18:26:10.541946Z"
    },
    "tags": []
   },
   "outputs": [],
   "source": [
    "learner=gum.BNLearner(fixedObsData)\n",
    "learner.useMIIC()\n",
    "bn3=learner.learnBN()"
   ]
  },
  {
   "cell_type": "code",
   "execution_count": 14,
   "metadata": {
    "ExecuteTime": {
     "end_time": "2019-04-20T13:56:16.260504Z",
     "start_time": "2019-04-20T13:56:12.180391Z"
    },
    "execution": {
     "iopub.execute_input": "2022-11-11T18:26:10.642622Z",
     "iopub.status.busy": "2022-11-11T18:26:10.641622Z",
     "iopub.status.idle": "2022-11-11T18:26:10.794115Z",
     "shell.execute_reply": "2022-11-11T18:26:10.794115Z",
     "shell.execute_reply.started": "2022-11-11T18:26:10.642622Z"
    },
    "tags": []
   },
   "outputs": [
    {
     "data": {
      "text/html": [
       "\n",
       "      <style>\n",
       "      .floating-box {\n",
       "      display: inline-block;\n",
       "      margin: 7px;\n",
       "      padding : 3px;\n",
       "      border: 0px solid transparent;  \n",
       "      valign:middle;\n",
       "      background-color: transparent;\n",
       "      }\n",
       "      </style>\n",
       "      <div class=\"floating-box\"><svg xmlns=\"http://www.w3.org/2000/svg\" xmlns:xlink=\"http://www.w3.org/1999/xlink\" width=\"206pt\" height=\"188pt\" viewBox=\"0.00 0.00 206.00 188.00\">\n",
       "<g id=\"graph0\" class=\"graph\" transform=\"scale(1 1) rotate(0) translate(4 184)\">\n",
       "<title>G</title>\n",
       "<!-- Y1 -->\n",
       "<g id=\"node1\" class=\"node\">\n",
       "<title>Y1</title>\n",
       "<g id=\"a_node1\"><a xlink:title=\"(2) Y1\">\n",
       "<ellipse fill=\"#404040\" stroke=\"black\" cx=\"63\" cy=\"-18\" rx=\"27\" ry=\"18\"/>\n",
       "<text text-anchor=\"middle\" x=\"63\" y=\"-14.3\" font-family=\"Times New Roman,serif\" font-size=\"14.00\" fill=\"white\">Y1</text>\n",
       "</a>\n",
       "</g>\n",
       "</g>\n",
       "<!-- X1 -->\n",
       "<g id=\"node2\" class=\"node\">\n",
       "<title>X1</title>\n",
       "<g id=\"a_node2\"><a xlink:title=\"(1) X1\">\n",
       "<ellipse fill=\"#404040\" stroke=\"black\" cx=\"27\" cy=\"-90\" rx=\"27\" ry=\"18\"/>\n",
       "<text text-anchor=\"middle\" x=\"27\" y=\"-86.3\" font-family=\"Times New Roman,serif\" font-size=\"14.00\" fill=\"white\">X1</text>\n",
       "</a>\n",
       "</g>\n",
       "</g>\n",
       "<!-- X1&#45;&gt;Y1 -->\n",
       "<g id=\"edge2\" class=\"edge\">\n",
       "<title>X1-&gt;Y1</title>\n",
       "<g id=\"a_edge2\"><a xlink:title=\"1 → 2\">\n",
       "<path fill=\"none\" stroke=\"#4a4a4a\" d=\"M35.35,-72.76C39.58,-64.55 44.81,-54.37 49.58,-45.09\"/>\n",
       "<polygon fill=\"#4a4a4a\" stroke=\"#4a4a4a\" points=\"52.54,-46.99 54,-36.49 46.32,-43.79 52.54,-46.99\"/>\n",
       "</a>\n",
       "</g>\n",
       "</g>\n",
       "<!-- Ca -->\n",
       "<g id=\"node3\" class=\"node\">\n",
       "<title>Ca</title>\n",
       "<g id=\"a_node3\"><a xlink:title=\"(0) Ca\">\n",
       "<ellipse fill=\"#404040\" stroke=\"black\" cx=\"99\" cy=\"-162\" rx=\"27\" ry=\"18\"/>\n",
       "<text text-anchor=\"middle\" x=\"99\" y=\"-158.3\" font-family=\"Times New Roman,serif\" font-size=\"14.00\" fill=\"white\">Ca</text>\n",
       "</a>\n",
       "</g>\n",
       "</g>\n",
       "<!-- Ca&#45;&gt;X1 -->\n",
       "<g id=\"edge1\" class=\"edge\">\n",
       "<title>Ca-&gt;X1</title>\n",
       "<g id=\"a_edge1\"><a xlink:title=\"0 → 1\">\n",
       "<path fill=\"none\" stroke=\"#4a4a4a\" d=\"M84.08,-146.5C74.23,-136.92 61.14,-124.19 49.97,-113.34\"/>\n",
       "<polygon fill=\"#4a4a4a\" stroke=\"#4a4a4a\" points=\"52.59,-111 42.98,-106.54 47.71,-116.02 52.59,-111\"/>\n",
       "</a>\n",
       "</g>\n",
       "</g>\n",
       "<!-- X2 -->\n",
       "<g id=\"node4\" class=\"node\">\n",
       "<title>X2</title>\n",
       "<g id=\"a_node4\"><a xlink:title=\"(4) X2\">\n",
       "<ellipse fill=\"#404040\" stroke=\"black\" cx=\"171\" cy=\"-90\" rx=\"27\" ry=\"18\"/>\n",
       "<text text-anchor=\"middle\" x=\"171\" y=\"-86.3\" font-family=\"Times New Roman,serif\" font-size=\"14.00\" fill=\"white\">X2</text>\n",
       "</a>\n",
       "</g>\n",
       "</g>\n",
       "<!-- Ca&#45;&gt;X2 -->\n",
       "<g id=\"edge3\" class=\"edge\">\n",
       "<title>Ca-&gt;X2</title>\n",
       "<g id=\"a_edge3\"><a xlink:title=\"0 → 4\">\n",
       "<path fill=\"none\" stroke=\"#4a4a4a\" d=\"M113.92,-146.5C123.77,-136.92 136.86,-124.19 148.03,-113.34\"/>\n",
       "<polygon fill=\"#4a4a4a\" stroke=\"#4a4a4a\" points=\"150.29,-116.02 155.02,-106.54 145.41,-111 150.29,-116.02\"/>\n",
       "</a>\n",
       "</g>\n",
       "</g>\n",
       "<!-- Y2 -->\n",
       "<g id=\"node5\" class=\"node\">\n",
       "<title>Y2</title>\n",
       "<g id=\"a_node5\"><a xlink:title=\"(5) Y2\">\n",
       "<ellipse fill=\"#404040\" stroke=\"black\" cx=\"153\" cy=\"-18\" rx=\"27\" ry=\"18\"/>\n",
       "<text text-anchor=\"middle\" x=\"153\" y=\"-14.3\" font-family=\"Times New Roman,serif\" font-size=\"14.00\" fill=\"white\">Y2</text>\n",
       "</a>\n",
       "</g>\n",
       "</g>\n",
       "<!-- X2&#45;&gt;Y2 -->\n",
       "<g id=\"edge4\" class=\"edge\">\n",
       "<title>X2-&gt;Y2</title>\n",
       "<g id=\"a_edge4\"><a xlink:title=\"4 → 5\">\n",
       "<path fill=\"none\" stroke=\"#4a4a4a\" d=\"M166.64,-72.05C164.7,-64.49 162.35,-55.37 160.16,-46.85\"/>\n",
       "<polygon fill=\"#4a4a4a\" stroke=\"#4a4a4a\" points=\"163.57,-46.07 157.69,-37.25 156.79,-47.81 163.57,-46.07\"/>\n",
       "</a>\n",
       "</g>\n",
       "</g>\n",
       "<!-- Pb -->\n",
       "<g id=\"node6\" class=\"node\">\n",
       "<title>Pb</title>\n",
       "<g id=\"a_node6\"><a xlink:title=\"(3) Pb\">\n",
       "<ellipse fill=\"#404040\" stroke=\"black\" cx=\"99\" cy=\"-90\" rx=\"27\" ry=\"18\"/>\n",
       "<text text-anchor=\"middle\" x=\"99\" y=\"-86.3\" font-family=\"Times New Roman,serif\" font-size=\"14.00\" fill=\"white\">Pb</text>\n",
       "</a>\n",
       "</g>\n",
       "</g>\n",
       "<!-- Pb&#45;&gt;Y1 -->\n",
       "<g id=\"edge5\" class=\"edge\">\n",
       "<title>Pb-&gt;Y1</title>\n",
       "<g id=\"a_edge5\"><a xlink:title=\"3 → 2\">\n",
       "<path fill=\"none\" stroke=\"#4a4a4a\" d=\"M90.65,-72.76C86.42,-64.55 81.19,-54.37 76.42,-45.09\"/>\n",
       "<polygon fill=\"#4a4a4a\" stroke=\"#4a4a4a\" points=\"79.68,-43.79 72,-36.49 73.46,-46.99 79.68,-43.79\"/>\n",
       "</a>\n",
       "</g>\n",
       "</g>\n",
       "<!-- Pb&#45;&gt;Y2 -->\n",
       "<g id=\"edge6\" class=\"edge\">\n",
       "<title>Pb-&gt;Y2</title>\n",
       "<g id=\"a_edge6\"><a xlink:title=\"3 → 5\">\n",
       "<path fill=\"none\" stroke=\"#4a4a4a\" d=\"M110.98,-73.46C117.77,-64.67 126.4,-53.48 134.08,-43.53\"/>\n",
       "<polygon fill=\"#4a4a4a\" stroke=\"#4a4a4a\" points=\"136.79,-45.75 140.12,-35.69 131.25,-41.47 136.79,-45.75\"/>\n",
       "</a>\n",
       "</g>\n",
       "</g>\n",
       "</g>\n",
       "</svg><br><center><small><em>original model</em></small></center></div><div class=\"floating-box\"><svg xmlns=\"http://www.w3.org/2000/svg\" xmlns:xlink=\"http://www.w3.org/1999/xlink\" width=\"134pt\" height=\"260pt\" viewBox=\"0.00 0.00 134.00 260.00\">\n",
       "<g id=\"graph0\" class=\"graph\" transform=\"scale(1 1) rotate(0) translate(4 256)\">\n",
       "<title>G</title>\n",
       "<!-- Y1 -->\n",
       "<g id=\"node1\" class=\"node\">\n",
       "<title>Y1</title>\n",
       "<g id=\"a_node1\"><a xlink:title=\"(1) Y1\">\n",
       "<ellipse fill=\"#404040\" stroke=\"black\" cx=\"63\" cy=\"-18\" rx=\"27\" ry=\"18\"/>\n",
       "<text text-anchor=\"middle\" x=\"63\" y=\"-14.3\" font-family=\"Times New Roman,serif\" font-size=\"14.00\" fill=\"white\">Y1</text>\n",
       "</a>\n",
       "</g>\n",
       "</g>\n",
       "<!-- X1 -->\n",
       "<g id=\"node2\" class=\"node\">\n",
       "<title>X1</title>\n",
       "<g id=\"a_node2\"><a xlink:title=\"(0) X1\">\n",
       "<ellipse fill=\"#404040\" stroke=\"black\" cx=\"27\" cy=\"-90\" rx=\"27\" ry=\"18\"/>\n",
       "<text text-anchor=\"middle\" x=\"27\" y=\"-86.3\" font-family=\"Times New Roman,serif\" font-size=\"14.00\" fill=\"white\">X1</text>\n",
       "</a>\n",
       "</g>\n",
       "</g>\n",
       "<!-- X1&#45;&gt;Y1 -->\n",
       "<g id=\"edge1\" class=\"edge\">\n",
       "<title>X1-&gt;Y1</title>\n",
       "<g id=\"a_edge1\"><a xlink:title=\"0 → 1\">\n",
       "<path fill=\"none\" stroke=\"#4a4a4a\" d=\"M35.35,-72.76C39.58,-64.55 44.81,-54.37 49.58,-45.09\"/>\n",
       "<polygon fill=\"#4a4a4a\" stroke=\"#4a4a4a\" points=\"52.54,-46.99 54,-36.49 46.32,-43.79 52.54,-46.99\"/>\n",
       "</a>\n",
       "</g>\n",
       "</g>\n",
       "<!-- Ca -->\n",
       "<g id=\"node3\" class=\"node\">\n",
       "<title>Ca</title>\n",
       "<g id=\"a_node3\"><a xlink:title=\"(4) Ca\">\n",
       "<ellipse fill=\"#404040\" stroke=\"black\" cx=\"35\" cy=\"-162\" rx=\"27\" ry=\"18\"/>\n",
       "<text text-anchor=\"middle\" x=\"35\" y=\"-158.3\" font-family=\"Times New Roman,serif\" font-size=\"14.00\" fill=\"white\">Ca</text>\n",
       "</a>\n",
       "</g>\n",
       "</g>\n",
       "<!-- Ca&#45;&gt;X1 -->\n",
       "<g id=\"edge3\" class=\"edge\">\n",
       "<title>Ca-&gt;X1</title>\n",
       "<g id=\"a_edge3\"><a xlink:title=\"4 → 0\">\n",
       "<path fill=\"none\" stroke=\"#4a4a4a\" d=\"M33.02,-143.7C32.19,-136.41 31.2,-127.73 30.26,-119.54\"/>\n",
       "<polygon fill=\"#4a4a4a\" stroke=\"#4a4a4a\" points=\"33.74,-119.15 29.13,-109.61 26.78,-119.94 33.74,-119.15\"/>\n",
       "</a>\n",
       "</g>\n",
       "</g>\n",
       "<!-- X2 -->\n",
       "<g id=\"node4\" class=\"node\">\n",
       "<title>X2</title>\n",
       "<g id=\"a_node4\"><a xlink:title=\"(2) X2\">\n",
       "<ellipse fill=\"#404040\" stroke=\"black\" cx=\"62\" cy=\"-234\" rx=\"27\" ry=\"18\"/>\n",
       "<text text-anchor=\"middle\" x=\"62\" y=\"-230.3\" font-family=\"Times New Roman,serif\" font-size=\"14.00\" fill=\"white\">X2</text>\n",
       "</a>\n",
       "</g>\n",
       "</g>\n",
       "<!-- X2&#45;&gt;Ca -->\n",
       "<g id=\"edge2\" class=\"edge\">\n",
       "<title>X2-&gt;Ca</title>\n",
       "<g id=\"a_edge2\"><a xlink:title=\"2 → 4\">\n",
       "<path fill=\"none\" stroke=\"#4a4a4a\" d=\"M55.46,-216.05C52.48,-208.32 48.87,-198.96 45.52,-190.27\"/>\n",
       "<polygon fill=\"#4a4a4a\" stroke=\"#4a4a4a\" points=\"48.88,-189.27 42.02,-181.2 42.35,-191.79 48.88,-189.27\"/>\n",
       "</a>\n",
       "</g>\n",
       "</g>\n",
       "<!-- Y2 -->\n",
       "<g id=\"node5\" class=\"node\">\n",
       "<title>Y2</title>\n",
       "<g id=\"a_node5\"><a xlink:title=\"(3) Y2\">\n",
       "<ellipse fill=\"#404040\" stroke=\"black\" cx=\"99\" cy=\"-90\" rx=\"27\" ry=\"18\"/>\n",
       "<text text-anchor=\"middle\" x=\"99\" y=\"-86.3\" font-family=\"Times New Roman,serif\" font-size=\"14.00\" fill=\"white\">Y2</text>\n",
       "</a>\n",
       "</g>\n",
       "</g>\n",
       "<!-- X2&#45;&gt;Y2 -->\n",
       "<g id=\"edge5\" class=\"edge\">\n",
       "<title>X2-&gt;Y2</title>\n",
       "<g id=\"a_edge5\"><a xlink:title=\"2 → 3\">\n",
       "<path fill=\"none\" stroke=\"#4a4a4a\" d=\"M66.46,-215.87C72.71,-191.88 84.15,-147.99 91.66,-119.16\"/>\n",
       "<polygon fill=\"#4a4a4a\" stroke=\"#4a4a4a\" points=\"95,-120.21 94.14,-109.65 88.23,-118.45 95,-120.21\"/>\n",
       "</a>\n",
       "</g>\n",
       "</g>\n",
       "<!-- Y2&#45;&gt;Y1 -->\n",
       "<g id=\"edge4\" class=\"edge\">\n",
       "<title>Y2-&gt;Y1</title>\n",
       "<g id=\"a_edge4\"><a xlink:title=\"3 → 1\">\n",
       "<path fill=\"none\" stroke=\"#4a4a4a\" d=\"M90.65,-72.76C86.42,-64.55 81.19,-54.37 76.42,-45.09\"/>\n",
       "<polygon fill=\"#4a4a4a\" stroke=\"#4a4a4a\" points=\"79.68,-43.79 72,-36.49 73.46,-46.99 79.68,-43.79\"/>\n",
       "</a>\n",
       "</g>\n",
       "</g>\n",
       "</g>\n",
       "</svg><br><center><small><em>learned model</em></small></center></div><div class=\"floating-box\">$$[('Y2', 'Y1')]$$<br><center><small><em>Latent variables found</em></small></center></div>"
      ],
      "text/plain": [
       "<IPython.core.display.HTML object>"
      ]
     },
     "metadata": {},
     "output_type": "display_data"
    }
   ],
   "source": [
    "gnb.flow.row(bn,bn3,f\"$${[(bn3.variable(i).name(),bn3.variable(j).name()) for (i,j) in learner.latentVariables()]}$$\",\n",
    "              captions=['original model','learned model','Latent variables found'])"
   ]
  },
  {
   "cell_type": "markdown",
   "metadata": {},
   "source": [
    "Then we can build a causal model taking into account this latent variable found by MIIC."
   ]
  },
  {
   "cell_type": "code",
   "execution_count": 15,
   "metadata": {
    "ExecuteTime": {
     "end_time": "2019-04-20T13:56:18.445928Z",
     "start_time": "2019-04-20T13:56:16.265708Z"
    },
    "execution": {
     "iopub.execute_input": "2022-11-11T18:26:10.795118Z",
     "iopub.status.busy": "2022-11-11T18:26:10.795118Z",
     "iopub.status.idle": "2022-11-11T18:26:10.909128Z",
     "shell.execute_reply": "2022-11-11T18:26:10.908112Z",
     "shell.execute_reply.started": "2022-11-11T18:26:10.795118Z"
    },
    "tags": []
   },
   "outputs": [
    {
     "data": {
      "text/html": [
       "\n",
       "      <style>\n",
       "      .floating-box {\n",
       "      display: inline-block;\n",
       "      margin: 7px;\n",
       "      padding : 3px;\n",
       "      border: 0px solid transparent;  \n",
       "      valign:middle;\n",
       "      background-color: transparent;\n",
       "      }\n",
       "      </style>\n",
       "      <div class=\"floating-box\"><svg xmlns=\"http://www.w3.org/2000/svg\" xmlns:xlink=\"http://www.w3.org/1999/xlink\" width=\"149pt\" height=\"180pt\" viewBox=\"0.00 0.00 149.36 180.00\">\n",
       "<g id=\"graph0\" class=\"graph\" transform=\"scale(0.957447 0.957447) rotate(0) translate(4 184)\">\n",
       "<title>G</title>\n",
       "<!-- L1 -->\n",
       "<g id=\"node1\" class=\"node\">\n",
       "<title>L1</title>\n",
       "<ellipse fill=\"#404040\" stroke=\"#4a4a4a\" cx=\"74\" cy=\"-90\" rx=\"1.8\" ry=\"1.8\"/>\n",
       "</g>\n",
       "<!-- Y1 -->\n",
       "<g id=\"node3\" class=\"node\">\n",
       "<title>Y1</title>\n",
       "<ellipse fill=\"#404040\" stroke=\"#4a4a4a\" cx=\"38\" cy=\"-18\" rx=\"27\" ry=\"18\"/>\n",
       "<text text-anchor=\"middle\" x=\"38\" y=\"-14.3\" font-family=\"Times New Roman,serif\" font-size=\"14.00\" fill=\"white\">Y1</text>\n",
       "</g>\n",
       "<!-- L1&#45;&gt;Y1 -->\n",
       "<g id=\"edge3\" class=\"edge\">\n",
       "<title>L1-&gt;Y1</title>\n",
       "<path fill=\"none\" stroke=\"#4a4a4a\" stroke-dasharray=\"5,2\" d=\"M73.49,-88.01C71.08,-83.32 60.52,-62.79 51.54,-45.33\"/>\n",
       "<polygon fill=\"#4a4a4a\" stroke=\"#4a4a4a\" points=\"54.89,-44.19 47.2,-36.89 48.66,-47.39 54.89,-44.19\"/>\n",
       "</g>\n",
       "<!-- Y2 -->\n",
       "<g id=\"node5\" class=\"node\">\n",
       "<title>Y2</title>\n",
       "<ellipse fill=\"#404040\" stroke=\"#4a4a4a\" cx=\"115\" cy=\"-18\" rx=\"27\" ry=\"18\"/>\n",
       "<text text-anchor=\"middle\" x=\"115\" y=\"-14.3\" font-family=\"Times New Roman,serif\" font-size=\"14.00\" fill=\"white\">Y2</text>\n",
       "</g>\n",
       "<!-- L1&#45;&gt;Y2 -->\n",
       "<g id=\"edge6\" class=\"edge\">\n",
       "<title>L1-&gt;Y2</title>\n",
       "<path fill=\"none\" stroke=\"#4a4a4a\" stroke-dasharray=\"5,2\" d=\"M74.58,-88.01C77.35,-83.29 89.5,-62.54 99.76,-45.02\"/>\n",
       "<polygon fill=\"#4a4a4a\" stroke=\"#4a4a4a\" points=\"102.7,-46.92 104.74,-36.52 96.66,-43.38 102.7,-46.92\"/>\n",
       "</g>\n",
       "<!-- X1 -->\n",
       "<g id=\"node2\" class=\"node\">\n",
       "<title>X1</title>\n",
       "<ellipse fill=\"#404040\" stroke=\"#4a4a4a\" cx=\"27\" cy=\"-90\" rx=\"27\" ry=\"18\"/>\n",
       "<text text-anchor=\"middle\" x=\"27\" y=\"-86.3\" font-family=\"Times New Roman,serif\" font-size=\"14.00\" fill=\"white\">X1</text>\n",
       "</g>\n",
       "<!-- X1&#45;&gt;Y1 -->\n",
       "<g id=\"edge1\" class=\"edge\">\n",
       "<title>X1-&gt;Y1</title>\n",
       "<path fill=\"none\" stroke=\"#4a4a4a\" d=\"M28.73,-71.54C29.89,-64.17 31.27,-55.37 32.57,-47.09\"/>\n",
       "<path fill=\"none\" stroke=\"#4a4a4a\" d=\"M30.71,-71.85C31.87,-64.48 33.25,-55.68 34.55,-47.41\"/>\n",
       "<polygon fill=\"#4a4a4a\" stroke=\"#4a4a4a\" points=\"36.98,-48.02 35.08,-37.6 30.07,-46.93 36.98,-48.02\"/>\n",
       "</g>\n",
       "<!-- X2 -->\n",
       "<g id=\"node4\" class=\"node\">\n",
       "<title>X2</title>\n",
       "<ellipse fill=\"#404040\" stroke=\"#4a4a4a\" cx=\"121\" cy=\"-90\" rx=\"27\" ry=\"18\"/>\n",
       "<text text-anchor=\"middle\" x=\"121\" y=\"-86.3\" font-family=\"Times New Roman,serif\" font-size=\"14.00\" fill=\"white\">X2</text>\n",
       "</g>\n",
       "<!-- X2&#45;&gt;Y2 -->\n",
       "<g id=\"edge5\" class=\"edge\">\n",
       "<title>X2-&gt;Y2</title>\n",
       "<path fill=\"none\" stroke=\"#4a4a4a\" d=\"M118.52,-71.78C117.9,-64.49 117.15,-55.81 116.45,-47.62\"/>\n",
       "<path fill=\"none\" stroke=\"#4a4a4a\" d=\"M120.51,-71.61C119.89,-64.32 119.14,-55.64 118.44,-47.45\"/>\n",
       "<polygon fill=\"#4a4a4a\" stroke=\"#4a4a4a\" points=\"120.94,-47.28 116.6,-37.61 113.96,-47.87 120.94,-47.28\"/>\n",
       "</g>\n",
       "<!-- Ca -->\n",
       "<g id=\"node6\" class=\"node\">\n",
       "<title>Ca</title>\n",
       "<ellipse fill=\"#404040\" stroke=\"#4a4a4a\" cx=\"74\" cy=\"-162\" rx=\"27\" ry=\"18\"/>\n",
       "<text text-anchor=\"middle\" x=\"74\" y=\"-158.3\" font-family=\"Times New Roman,serif\" font-size=\"14.00\" fill=\"white\">Ca</text>\n",
       "</g>\n",
       "<!-- Ca&#45;&gt;X1 -->\n",
       "<g id=\"edge2\" class=\"edge\">\n",
       "<title>Ca-&gt;X1</title>\n",
       "<path fill=\"none\" stroke=\"#4a4a4a\" d=\"M62.5,-145.67C56.8,-137.17 49.63,-126.5 43.17,-116.88\"/>\n",
       "<path fill=\"none\" stroke=\"#4a4a4a\" d=\"M64.17,-144.56C58.46,-136.06 51.29,-125.38 44.83,-115.77\"/>\n",
       "<polygon fill=\"#4a4a4a\" stroke=\"#4a4a4a\" points=\"46.95,-114.43 38.47,-108.08 41.14,-118.33 46.95,-114.43\"/>\n",
       "</g>\n",
       "<!-- Ca&#45;&gt;X2 -->\n",
       "<g id=\"edge4\" class=\"edge\">\n",
       "<title>Ca-&gt;X2</title>\n",
       "<path fill=\"none\" stroke=\"#4a4a4a\" d=\"M83.83,-144.56C89.54,-136.06 96.71,-125.38 103.17,-115.77\"/>\n",
       "<path fill=\"none\" stroke=\"#4a4a4a\" d=\"M85.5,-145.67C91.2,-137.17 98.37,-126.5 104.83,-116.88\"/>\n",
       "<polygon fill=\"#4a4a4a\" stroke=\"#4a4a4a\" points=\"106.86,-118.33 109.53,-108.08 101.05,-114.43 106.86,-118.33\"/>\n",
       "</g>\n",
       "</g>\n",
       "</svg><br><center><small><em>Causal Model</em></small></center></div><div class=\"floating-box\">$$\\begin{equation*}P( Y1 \\mid \\hookrightarrow\\mkern-6.5muX2) = \\sum_{X1}{P\\left(Y1\\mid X1\\right) \\cdot P\\left(X1\\right)}\\end{equation*}$$<br><center><small><em>Explanation : backdoor ['X1'] found.</em></small></center></div><div class=\"floating-box\"><table style=\"border:1px solid black;\">\n",
       "<tr style='border:1px solid black;color:black;background-color:#808080'>\n",
       "      <th colspan='2'><center>Y1</center></th></tr>\n",
       "<tr><th style='border:1px solid black;border-bottom-style: double;color:black;background-color:#BBBBBB'>\n",
       "      <center>0</center></th><th style='border:1px solid black;border-bottom-style: double;color:black;background-color:#BBBBBB'>\n",
       "      <center>1</center></th></tr>\n",
       "<tr><td style='color:black;background-color:#b5c864;text-align:right;'>0.5725</td><td style='color:black;background-color:#c8b564;text-align:right;'>0.4275</td></tr>\n",
       "</table><br><center><small><em>Impact</em></small></center></div>"
      ],
      "text/plain": [
       "<IPython.core.display.HTML object>"
      ]
     },
     "metadata": {},
     "output_type": "display_data"
    }
   ],
   "source": [
    "model3=csl.CausalModel(bn2,[(\"L1\",(\"Y1\",\"Y2\"))])\n",
    "cslnb.showCausalImpact(model3,target, {evs})"
   ]
  },
  {
   "cell_type": "markdown",
   "metadata": {},
   "source": [
    "Then at least, the statistician can say that $X_2$ has no impact on $Y_1$ from the data. The error is just due to the approximation of the parameters in the database."
   ]
  },
  {
   "cell_type": "code",
   "execution_count": 16,
   "metadata": {
    "ExecuteTime": {
     "end_time": "2019-04-20T13:56:18.460053Z",
     "start_time": "2019-04-20T13:56:18.448486Z"
    },
    "execution": {
     "iopub.execute_input": "2022-11-11T18:26:10.910127Z",
     "iopub.status.busy": "2022-11-11T18:26:10.910127Z",
     "iopub.status.idle": "2022-11-11T18:26:10.919561Z",
     "shell.execute_reply": "2022-11-11T18:26:10.919561Z",
     "shell.execute_reply.started": "2022-11-11T18:26:10.910127Z"
    },
    "tags": []
   },
   "outputs": [
    {
     "data": {
      "text/html": [
       "\n",
       "      <style>\n",
       "      .floating-box {\n",
       "      display: inline-block;\n",
       "      margin: 7px;\n",
       "      padding : 3px;\n",
       "      border: 0px solid transparent;  \n",
       "      valign:middle;\n",
       "      background-color: transparent;\n",
       "      }\n",
       "      </style>\n",
       "      <div class=\"floating-box\"><table style=\"border:1px solid black;\">\n",
       "<tr style='border:1px solid black;color:black;background-color:#808080'>\n",
       "      <th colspan='2'><center>Y1</center></th></tr>\n",
       "<tr><th style='border:1px solid black;border-bottom-style: double;color:black;background-color:#BBBBBB'>\n",
       "      <center>0</center></th><th style='border:1px solid black;border-bottom-style: double;color:black;background-color:#BBBBBB'>\n",
       "      <center>1</center></th></tr>\n",
       "<tr><td style='color:black;background-color:#b5c864;text-align:right;'>0.5768</td><td style='color:black;background-color:#c8b564;text-align:right;'>0.4232</td></tr>\n",
       "</table><br><center><small><em>in original model</em></small></center></div><div class=\"floating-box\"><table style=\"border:1px solid black;\">\n",
       "<tr style='border:1px solid black;color:black;background-color:#808080'>\n",
       "      <th colspan='2'><center>Y1</center></th></tr>\n",
       "<tr><th style='border:1px solid black;border-bottom-style: double;color:black;background-color:#BBBBBB'>\n",
       "      <center>0</center></th><th style='border:1px solid black;border-bottom-style: double;color:black;background-color:#BBBBBB'>\n",
       "      <center>1</center></th></tr>\n",
       "<tr><td style='color:black;background-color:#b5c864;text-align:right;'>0.5725</td><td style='color:black;background-color:#c8b564;text-align:right;'>0.4275</td></tr>\n",
       "</table><br><center><small><em>in learned model</em></small></center></div><div class=\"floating-box\"><table style=\"border:1px solid black;\">\n",
       "<tr style='border:1px solid black;color:black;background-color:#808080'>\n",
       "      <th colspan='2'><center>Y1</center></th></tr>\n",
       "<tr><th style='border:1px solid black;border-bottom-style: double;color:black;background-color:#BBBBBB'>\n",
       "      <center>0</center></th><th style='border:1px solid black;border-bottom-style: double;color:black;background-color:#BBBBBB'>\n",
       "      <center>1</center></th></tr>\n",
       "<tr><td style='color:black;background-color:#9fde64;text-align:right;'>0.7454</td><td style='text-align:right;'>-1.0160</td></tr>\n",
       "</table><br><center><small><em>relative errors</em></small></center></div><div class=\"floating-box\">$$1.58783$$<br><center><small><em>quadratic error</em></small></center></div>"
      ],
      "text/plain": [
       "<IPython.core.display.HTML object>"
      ]
     },
     "metadata": {},
     "output_type": "display_data"
    }
   ],
   "source": [
    "_, impact1, _ = csl.causalImpact(model, on=target, doing={evs})\n",
    "_, impact3orig, _ = csl.causalImpact(model3, on=target, doing={evs})\n",
    "\n",
    "impact3=gum.Potential(impact1).fillWith(impact3orig,['Y1'])\n",
    "errs=((impact1-impact3)/impact1).scale(100)\n",
    "quaderr=(errs*errs).sum()\n",
    "gnb.flow.row(impact1,impact3,errs,f\"$${quaderr:3.5f}$$\",\n",
    "              captions=['in original model','in learned model','relative errors','quadratic error'])"
   ]
  },
  {
   "cell_type": "code",
   "execution_count": null,
   "metadata": {},
   "outputs": [],
   "source": []
  }
 ],
 "metadata": {
  "hide_input": false,
  "kernelspec": {
   "display_name": "Python 3 (ipykernel)",
   "language": "python",
   "name": "python3"
  },
  "language_info": {
   "codemirror_mode": {
    "name": "ipython",
    "version": 3
   },
   "file_extension": ".py",
   "mimetype": "text/x-python",
   "name": "python",
   "nbconvert_exporter": "python",
   "pygments_lexer": "ipython3",
   "version": "3.11.0"
  },
  "toc": {
   "colors": {
    "hover_highlight": "#DAA520",
    "running_highlight": "#FF0000",
    "selected_highlight": "#FFD700"
   },
   "moveMenuLeft": true,
   "nav_menu": {
    "height": "12px",
    "width": "252px"
   },
   "navigate_menu": true,
   "number_sections": true,
   "sideBar": true,
   "threshold": 4,
   "toc_cell": false,
   "toc_section_display": "block",
   "toc_window_display": true,
   "widenNotebook": false
  }
 },
 "nbformat": 4,
 "nbformat_minor": 4
}
