{
 "cells": [
  {
   "cell_type": "markdown",
   "id": "fdbde784",
   "metadata": {},
   "source": [
    "# Using sklearn to cross-validate bayesian network classifier"
   ]
  },
  {
   "cell_type": "markdown",
   "id": "c9c61096",
   "metadata": {},
   "source": [
    "The purpose of this notebook is to show the possible integration of the pyAgrum's classifier in the scikit-learn's ecosystem. Thus, it is possible to use the tools provided by scikit-learn for crossfolding for pyAgrum's Bayesian network."
   ]
  },
  {
   "cell_type": "markdown",
   "id": "fa369328",
   "metadata": {},
   "source": [
    "| | | |\n",
    "|-|-|-|\n",
    "|[ ![Creative Commons License](images/cc4.png)](http://creativecommons.org/licenses/by-nc/4.0/) |[ ![aGrUM](images/logoAgrum.png)](https://agrum.org) |[ ![interactive online version](images/atbinder.svg)](https://agrum.gitlab.io/extra/agrum_at_binder.html)"
   ]
  },
  {
   "cell_type": "code",
   "execution_count": 1,
   "id": "519bc139",
   "metadata": {
    "execution": {
     "iopub.execute_input": "2022-11-11T19:49:44.632385Z",
     "iopub.status.busy": "2022-11-11T19:49:44.632385Z",
     "iopub.status.idle": "2022-11-11T19:49:46.408505Z",
     "shell.execute_reply": "2022-11-11T19:49:46.408505Z",
     "shell.execute_reply.started": "2022-11-11T19:49:44.632385Z"
    },
    "tags": []
   },
   "outputs": [],
   "source": [
    "import pyAgrum as gum\n",
    "import pyAgrum.lib.notebook as gnb\n",
    "from pyAgrum.skbn import BNClassifier"
   ]
  },
  {
   "cell_type": "code",
   "execution_count": 2,
   "id": "01a5a21a",
   "metadata": {
    "execution": {
     "iopub.execute_input": "2022-11-11T19:49:46.410808Z",
     "iopub.status.busy": "2022-11-11T19:49:46.409516Z",
     "iopub.status.idle": "2022-11-11T19:49:46.517052Z",
     "shell.execute_reply": "2022-11-11T19:49:46.515528Z",
     "shell.execute_reply.started": "2022-11-11T19:49:46.410808Z"
    },
    "tags": []
   },
   "outputs": [],
   "source": [
    "from sklearn.model_selection import cross_validate\n",
    "from sklearn import datasets\n",
    "# get iris data\n",
    "iris = datasets.load_iris()\n",
    "X = iris.data\n",
    "y = iris.target"
   ]
  },
  {
   "cell_type": "code",
   "execution_count": 3,
   "id": "4b86bb84",
   "metadata": {
    "execution": {
     "iopub.execute_input": "2022-11-11T19:49:46.520237Z",
     "iopub.status.busy": "2022-11-11T19:49:46.519062Z",
     "iopub.status.idle": "2022-11-11T19:49:46.525475Z",
     "shell.execute_reply": "2022-11-11T19:49:46.524461Z",
     "shell.execute_reply.started": "2022-11-11T19:49:46.520237Z"
    },
    "tags": []
   },
   "outputs": [],
   "source": [
    "model = BNClassifier(learningMethod='MIIC', prior='Smoothing', priorWeight=1, \n",
    "                     discretizationNbBins=3,discretizationStrategy=\"kmeans\",discretizationThreshold=10)"
   ]
  },
  {
   "cell_type": "code",
   "execution_count": 4,
   "id": "4b4dca83",
   "metadata": {
    "execution": {
     "iopub.execute_input": "2022-11-11T19:49:46.526477Z",
     "iopub.status.busy": "2022-11-11T19:49:46.526477Z",
     "iopub.status.idle": "2022-11-11T19:49:48.012463Z",
     "shell.execute_reply": "2022-11-11T19:49:48.011459Z",
     "shell.execute_reply.started": "2022-11-11T19:49:46.526477Z"
    },
    "tags": []
   },
   "outputs": [
    {
     "name": "stdout",
     "output_type": "stream",
     "text": [
      "scores with cross-folding : [1.  1.  1.  1.  1.  1.  1.  1.  1.  1.  0.8 1.  1.  1.  0.8 1.  1.  0.8\n",
      " 1.  1.  1.  0.8 1.  1.  1.  1.  1.  1.  1.  1. ]\n",
      "\n",
      "mean score : 0.9733333333333333\n"
     ]
    }
   ],
   "source": [
    "cv = cross_validate(model, X, y, cv=30)\n",
    "print(f\"scores with cross-folding : {cv['test_score']}\")\n",
    "print()\n",
    "\n",
    "print(f\"mean score : {cv['test_score'].mean()}\")"
   ]
  },
  {
   "cell_type": "code",
   "execution_count": 5,
   "id": "cfc6c071",
   "metadata": {
    "execution": {
     "iopub.execute_input": "2022-11-11T19:49:48.013464Z",
     "iopub.status.busy": "2022-11-11T19:49:48.013464Z",
     "iopub.status.idle": "2022-11-11T19:49:50.086350Z",
     "shell.execute_reply": "2022-11-11T19:49:50.085834Z",
     "shell.execute_reply.started": "2022-11-11T19:49:48.013464Z"
    },
    "tags": []
   },
   "outputs": [
    {
     "name": "stdout",
     "output_type": "stream",
     "text": [
      "scores with cross-folding : [1.         1.         1.         1.         1.         1.\n",
      " 1.         1.         1.         1.         1.         1.\n",
      " 1.         1.         1.         1.         1.         1.\n",
      " 1.         1.         0.66666667 1.         1.         1.\n",
      " 1.         1.         1.         0.66666667 1.         1.\n",
      " 1.         1.         1.         0.66666667 1.         1.\n",
      " 1.         1.         1.         1.         1.         1.\n",
      " 1.         1.         1.         1.         1.         1.\n",
      " 1.         1.        ]\n",
      "\n",
      "mean score : 0.98\n"
     ]
    }
   ],
   "source": [
    "cv = cross_validate(model, X, y, cv=50)\n",
    "print(f\"scores with cross-folding : {cv['test_score']}\")\n",
    "print()\n",
    "\n",
    "print(f\"mean score : {cv['test_score'].mean()}\")"
   ]
  },
  {
   "cell_type": "code",
   "execution_count": null,
   "id": "8dd042b6",
   "metadata": {},
   "outputs": [],
   "source": []
  }
 ],
 "metadata": {
  "kernelspec": {
   "display_name": "Python 3 (ipykernel)",
   "language": "python",
   "name": "python3"
  },
  "language_info": {
   "codemirror_mode": {
    "name": "ipython",
    "version": 3
   },
   "file_extension": ".py",
   "mimetype": "text/x-python",
   "name": "python",
   "nbconvert_exporter": "python",
   "pygments_lexer": "ipython3",
   "version": "3.11.0"
  }
 },
 "nbformat": 4,
 "nbformat_minor": 5
}
