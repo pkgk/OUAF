{
 "cells": [
  {
   "cell_type": "markdown",
   "metadata": {},
   "source": [
    "# Simpson's Paradox\n",
    "This notebook follows the famous example from *Causality* (Pearl, 2009)."
   ]
  },
  {
   "cell_type": "markdown",
   "metadata": {},
   "source": [
    "| | | |\n",
    "|-|-|-|\n",
    "|[ ![Creative Commons License](images/cc4.png)](http://creativecommons.org/licenses/by-nc/4.0/) |[ ![aGrUM](images/logoAgrum.png)](https://agrum.org) |[ ![interactive online version](images/atbinder.svg)](https://agrum.gitlab.io/extra/agrum_at_binder.html)"
   ]
  },
  {
   "cell_type": "code",
   "execution_count": 1,
   "metadata": {
    "ExecuteTime": {
     "end_time": "2019-02-25T17:44:25.571762Z",
     "start_time": "2019-02-25T17:44:25.292928Z"
    },
    "execution": {
     "iopub.execute_input": "2022-11-11T19:51:31.200467Z",
     "iopub.status.busy": "2022-11-11T19:51:31.199332Z",
     "iopub.status.idle": "2022-11-11T19:51:31.836686Z",
     "shell.execute_reply": "2022-11-11T19:51:31.836686Z",
     "shell.execute_reply.started": "2022-11-11T19:51:31.200339Z"
    }
   },
   "outputs": [],
   "source": [
    "from IPython.display import display, Math, Latex\n",
    "\n",
    "import pyAgrum as gum\n",
    "import pyAgrum.lib.notebook as gnb\n",
    "import pyAgrum.causal as csl\n",
    "import pyAgrum.causal.notebook as cslnb\n"
   ]
  },
  {
   "cell_type": "markdown",
   "metadata": {},
   "source": [
    "In a statistical study about a drug, we try to evaluate the latter's efficiency among a population of men and women.\n",
    "Let's note:\n",
    "- $Drug$ : drug taking\n",
    "- $Patient$ : cured patient\n",
    "- $Gender$ : patient's gender"
   ]
  },
  {
   "cell_type": "markdown",
   "metadata": {},
   "source": [
    "The model from the observed date is as follow :"
   ]
  },
  {
   "cell_type": "code",
   "execution_count": 2,
   "metadata": {
    "ExecuteTime": {
     "end_time": "2019-02-25T17:44:28.017220Z",
     "start_time": "2019-02-25T17:44:25.574806Z"
    },
    "execution": {
     "iopub.execute_input": "2022-11-11T19:51:31.840812Z",
     "iopub.status.busy": "2022-11-11T19:51:31.839700Z",
     "iopub.status.idle": "2022-11-11T19:51:31.945455Z",
     "shell.execute_reply": "2022-11-11T19:51:31.944438Z",
     "shell.execute_reply.started": "2022-11-11T19:51:31.840700Z"
    }
   },
   "outputs": [
    {
     "data": {
      "text/html": [
       "\n",
       "      <style>\n",
       "      .floating-box {\n",
       "      display: inline-block;\n",
       "      margin: 7px;\n",
       "      padding : 3px;\n",
       "      border: 0px solid transparent;  \n",
       "      valign:middle;\n",
       "      background-color: transparent;\n",
       "      }\n",
       "      </style>\n",
       "      <div class=\"floating-box\"><svg xmlns=\"http://www.w3.org/2000/svg\" xmlns:xlink=\"http://www.w3.org/1999/xlink\" width=\"103pt\" height=\"188pt\" viewBox=\"0.00 0.00 103.29 188.00\">\n",
       "<g id=\"graph0\" class=\"graph\" transform=\"scale(1 1) rotate(0) translate(4 184)\">\n",
       "<title>G</title>\n",
       "<!-- Gender -->\n",
       "<g id=\"node1\" class=\"node\">\n",
       "<title>Gender</title>\n",
       "<g id=\"a_node1\"><a xlink:title=\"(0) Gender\">\n",
       "<ellipse fill=\"#404040\" stroke=\"black\" cx=\"37.7\" cy=\"-162\" rx=\"37.89\" ry=\"18\"/>\n",
       "<text text-anchor=\"middle\" x=\"37.7\" y=\"-158.3\" font-family=\"Times New Roman,serif\" font-size=\"14.00\" fill=\"white\">Gender</text>\n",
       "</a>\n",
       "</g>\n",
       "</g>\n",
       "<!-- Patient -->\n",
       "<g id=\"node2\" class=\"node\">\n",
       "<title>Patient</title>\n",
       "<g id=\"a_node2\"><a xlink:title=\"(2) Patient\">\n",
       "<ellipse fill=\"#404040\" stroke=\"black\" cx=\"37.7\" cy=\"-18\" rx=\"35.19\" ry=\"18\"/>\n",
       "<text text-anchor=\"middle\" x=\"37.7\" y=\"-14.3\" font-family=\"Times New Roman,serif\" font-size=\"14.00\" fill=\"white\">Patient</text>\n",
       "</a>\n",
       "</g>\n",
       "</g>\n",
       "<!-- Gender&#45;&gt;Patient -->\n",
       "<g id=\"edge2\" class=\"edge\">\n",
       "<title>Gender-&gt;Patient</title>\n",
       "<g id=\"a_edge2\"><a xlink:title=\"0 → 2\">\n",
       "<path fill=\"none\" stroke=\"#4a4a4a\" d=\"M34.04,-143.91C32.02,-133.57 29.72,-120.09 28.7,-108 27.35,-92.06 27.35,-87.94 28.7,-72 29.37,-63.97 30.62,-55.33 31.97,-47.4\"/>\n",
       "<polygon fill=\"#4a4a4a\" stroke=\"#4a4a4a\" points=\"35.41,-48.05 33.77,-37.58 28.52,-46.79 35.41,-48.05\"/>\n",
       "</a>\n",
       "</g>\n",
       "</g>\n",
       "<!-- Drug -->\n",
       "<g id=\"node3\" class=\"node\">\n",
       "<title>Drug</title>\n",
       "<g id=\"a_node3\"><a xlink:title=\"(1) Drug\">\n",
       "<ellipse fill=\"#404040\" stroke=\"black\" cx=\"66.7\" cy=\"-90\" rx=\"28.7\" ry=\"18\"/>\n",
       "<text text-anchor=\"middle\" x=\"66.7\" y=\"-86.3\" font-family=\"Times New Roman,serif\" font-size=\"14.00\" fill=\"white\">Drug</text>\n",
       "</a>\n",
       "</g>\n",
       "</g>\n",
       "<!-- Gender&#45;&gt;Drug -->\n",
       "<g id=\"edge1\" class=\"edge\">\n",
       "<title>Gender-&gt;Drug</title>\n",
       "<g id=\"a_edge1\"><a xlink:title=\"0 → 1\">\n",
       "<path fill=\"none\" stroke=\"#4a4a4a\" d=\"M44.72,-144.05C47.92,-136.32 51.8,-126.96 55.4,-118.27\"/>\n",
       "<polygon fill=\"#4a4a4a\" stroke=\"#4a4a4a\" points=\"58.57,-119.77 59.16,-109.19 52.1,-117.09 58.57,-119.77\"/>\n",
       "</a>\n",
       "</g>\n",
       "</g>\n",
       "<!-- Drug&#45;&gt;Patient -->\n",
       "<g id=\"edge3\" class=\"edge\">\n",
       "<title>Drug-&gt;Patient</title>\n",
       "<g id=\"a_edge3\"><a xlink:title=\"1 → 2\">\n",
       "<path fill=\"none\" stroke=\"#4a4a4a\" d=\"M59.68,-72.05C56.47,-64.32 52.59,-54.96 48.99,-46.27\"/>\n",
       "<polygon fill=\"#4a4a4a\" stroke=\"#4a4a4a\" points=\"52.29,-45.09 45.23,-37.19 45.83,-47.77 52.29,-45.09\"/>\n",
       "</a>\n",
       "</g>\n",
       "</g>\n",
       "</g>\n",
       "</svg></div><div class=\"floating-box\"><table style=\"border:1px solid black;\">\n",
       "<tr style='border:1px solid black;color:black;background-color:#808080'>\n",
       "      <th colspan='2'><center>Gender</center></th></tr>\n",
       "<tr><th style='border:1px solid black;border-bottom-style: double;color:black;background-color:#BBBBBB'>\n",
       "      <center>F</center></th><th style='border:1px solid black;border-bottom-style: double;color:black;background-color:#BBBBBB'>\n",
       "      <center>M</center></th></tr>\n",
       "<tr><td style='color:black;background-color:#bfbf64;text-align:right;'>0.5000</td><td style='color:black;background-color:#bfbf64;text-align:right;'>0.5000</td></tr>\n",
       "</table></div><div class=\"floating-box\"><table style=\"border:1px solid black;\">\n",
       "<tr><th colspan='1'></th>\n",
       "      <th colspan='2' style='border:1px solid black;color:black;background-color:#808080;'><center>Drug</center>\n",
       "      </th></tr>\n",
       "<tr><th style='border:1px solid black;color:black;background-color:#808080'><center>Gender</center></th><th style='border:1px solid black;border-bottom-style: double;color:black;background-color:#BBBBBB'>\n",
       "      <center>Without</center></th><th style='border:1px solid black;border-bottom-style: double;color:black;background-color:#BBBBBB'>\n",
       "      <center>With</center></th></tr>\n",
       "<tr><th style='border:1px solid black;color:black;background-color:#BBBBBB'><center>F</center></th><td style='color:black;background-color:#df9f64;text-align:right;'>0.2500</td><td style='color:black;background-color:#9fdf64;text-align:right;'>0.7500</td></tr>\n",
       "<tr><th style='border:1px solid black;color:black;background-color:#BBBBBB'><center>M</center></th><td style='color:black;background-color:#9fdf64;text-align:right;'>0.7500</td><td style='color:black;background-color:#df9f64;text-align:right;'>0.2500</td></tr>\n",
       "</table></div><div class=\"floating-box\"><table style=\"border:1px solid black;\">\n",
       "<tr><th colspan='2'></th>\n",
       "      <th colspan='2' style='border:1px solid black;color:black;background-color:#808080;'><center>Patient</center>\n",
       "      </th></tr>\n",
       "<tr><th style='border:1px solid black;color:black;background-color:#808080'><center>Gender</center></th><th style='border:1px solid black;color:black;background-color:#808080'><center>Drug</center></th><th style='border:1px solid black;border-bottom-style: double;color:black;background-color:#BBBBBB'>\n",
       "      <center>Sick</center></th><th style='border:1px solid black;border-bottom-style: double;color:black;background-color:#BBBBBB'>\n",
       "      <center>Healed</center></th></tr>\n",
       "<tr><th style='border:1px solid black;color:black;background-color:#BBBBBB;' rowspan = '2'>\n",
       "            <center>F</center></th><th style='border:1px solid black;color:black;background-color:#BBBBBB'><center>Without</center></th><td style='color:black;background-color:#e59864;text-align:right;'>0.2000</td><td style='color:black;background-color:#98e564;text-align:right;'>0.8000</td></tr>\n",
       "<tr><th style='border:1px solid black;color:black;background-color:#BBBBBB'><center>With</center></th><td style='color:black;background-color:#d8a564;text-align:right;'>0.3000</td><td style='color:black;background-color:#a5d864;text-align:right;'>0.7000</td></tr>\n",
       "<tr><th style='border:1px solid black;color:black;background-color:#BBBBBB;' rowspan = '2'>\n",
       "            <center>M</center></th><th style='border:1px solid black;color:black;background-color:#BBBBBB'><center>Without</center></th><td style='color:black;background-color:#b2cb64;text-align:right;'>0.6000</td><td style='color:black;background-color:#cbb264;text-align:right;'>0.4000</td></tr>\n",
       "<tr><th style='border:1px solid black;color:black;background-color:#BBBBBB'><center>With</center></th><td style='color:black;background-color:#98e564;text-align:right;'>0.8000</td><td style='color:black;background-color:#e59864;text-align:right;'>0.2000</td></tr>\n",
       "</table></div>"
      ],
      "text/plain": [
       "<IPython.core.display.HTML object>"
      ]
     },
     "metadata": {},
     "output_type": "display_data"
    }
   ],
   "source": [
    "m1 = gum.fastBN(\"Gender{F|M}->Drug{Without|With}->Patient{Sick|Healed}<-Gender\")\n",
    "\n",
    "m1.cpt(\"Gender\")[:]=[0.5,0.5]\n",
    "m1.cpt(\"Drug\")[:]=[[0.25,0.75],  #Gender=F\n",
    "                   [0.75,0.25]]  #Gender=M\n",
    "\n",
    "m1.cpt(\"Patient\")[{'Drug':'Without','Gender':'F'}]=[0.2,0.8] #No Drug, Male -> healed in 0.8 of cases\n",
    "m1.cpt(\"Patient\")[{'Drug':'Without','Gender':'M'}]=[0.6,0.4] #No Drug, Female -> healed in 0.4 of cases\n",
    "m1.cpt(\"Patient\")[{'Drug':'With','Gender':'F'}]=[0.3,0.7] #Drug, Male -> healed 0.7 of cases \n",
    "m1.cpt(\"Patient\")[{'Drug':'With','Gender':'M'}]=[0.8,0.2] #Drug, Female -> healed in 0.2 of cases\n",
    "gnb.flow.row(m1,m1.cpt(\"Gender\"),m1.cpt(\"Drug\"),m1.cpt(\"Patient\"))\n"
   ]
  },
  {
   "cell_type": "code",
   "execution_count": 3,
   "metadata": {
    "ExecuteTime": {
     "end_time": "2019-02-25T17:44:28.028815Z",
     "start_time": "2019-02-25T17:44:28.020049Z"
    },
    "execution": {
     "iopub.execute_input": "2022-11-11T19:51:31.946453Z",
     "iopub.status.busy": "2022-11-11T19:51:31.946453Z",
     "iopub.status.idle": "2022-11-11T19:51:31.954732Z",
     "shell.execute_reply": "2022-11-11T19:51:31.954732Z",
     "shell.execute_reply.started": "2022-11-11T19:51:31.946453Z"
    }
   },
   "outputs": [
    {
     "data": {
      "text/html": [
       "<table style=\"border-style: hidden; border-collapse: collapse;\" width=\"100%\"><tr><td style=\"border-top:hidden;border-bottom:hidden;vertical-align:middle;\"><div align=\"center\" style=\"vertical-align:middle;\"><table style=\"border:1px solid black;\">\n",
       "<tr style='border:1px solid black;color:black;background-color:#808080'>\n",
       "      <th colspan='2'><center>Drug</center></th></tr>\n",
       "<tr><th style='border:1px solid black;border-bottom-style: double;color:black;background-color:#BBBBBB'>\n",
       "      <center>Without</center></th><th style='border:1px solid black;border-bottom-style: double;color:black;background-color:#BBBBBB'>\n",
       "      <center>With</center></th></tr>\n",
       "<tr><td style='color:black;background-color:#bfbf64;text-align:right;'>0.5000</td><td style='color:black;background-color:#b5c864;text-align:right;'>0.5750</td></tr>\n",
       "</table><br><small><i>$P(Patient = Healed \\mid Drug )$<br/>Taking $Drug$ is observed as efficient to cure</i></small></div></td><td style=\"border-top:hidden;border-bottom:hidden;vertical-align:middle;\"><div align=\"center\" style=\"vertical-align:middle;\"><table style=\"border:1px solid black;\">\n",
       "<tr style='border:1px solid black;color:black;background-color:#808080'>\n",
       "      <th colspan='2'><center>Drug</center></th></tr>\n",
       "<tr><th style='border:1px solid black;border-bottom-style: double;color:black;background-color:#BBBBBB'>\n",
       "      <center>Without</center></th><th style='border:1px solid black;border-bottom-style: double;color:black;background-color:#BBBBBB'>\n",
       "      <center>With</center></th></tr>\n",
       "<tr><td style='color:black;background-color:#98e564;text-align:right;'>0.8000</td><td style='color:black;background-color:#a5d864;text-align:right;'>0.7000</td></tr>\n",
       "</table><br><small><i>$P(Patient = Healed \\mid Gender=F,Drug)$<br/>except if the $gender$ of the patient is female</i></small></div></td><td style=\"border-top:hidden;border-bottom:hidden;vertical-align:middle;\"><div align=\"center\" style=\"vertical-align:middle;\"><table style=\"border:1px solid black;\">\n",
       "<tr style='border:1px solid black;color:black;background-color:#808080'>\n",
       "      <th colspan='2'><center>Drug</center></th></tr>\n",
       "<tr><th style='border:1px solid black;border-bottom-style: double;color:black;background-color:#BBBBBB'>\n",
       "      <center>Without</center></th><th style='border:1px solid black;border-bottom-style: double;color:black;background-color:#BBBBBB'>\n",
       "      <center>With</center></th></tr>\n",
       "<tr><td style='color:black;background-color:#cbb264;text-align:right;'>0.4000</td><td style='color:black;background-color:#e59864;text-align:right;'>0.2000</td></tr>\n",
       "</table><br><small><i>$P(Patient = Healed \\mid Gender=M,Drug)$<br/>... or male.</i></small></div></td></tr></table>"
      ],
      "text/plain": [
       "<IPython.core.display.HTML object>"
      ]
     },
     "metadata": {},
     "output_type": "display_data"
    }
   ],
   "source": [
    "def getCuredObservedProba(m1,evs):\n",
    "    evs0=dict(evs)\n",
    "    evs1=dict(evs)\n",
    "    evs0[\"Drug\"]='Without'\n",
    "    evs1[\"Drug\"]='With'\n",
    "    \n",
    "    return gum.Potential().add(m1.variableFromName(\"Drug\")).fillWith([\n",
    "            gum.getPosterior(m1,target=\"Patient\",evs=evs0)[1],\n",
    "            gum.getPosterior(m1,target=\"Patient\",evs=evs1)[1]\n",
    "        ])\n",
    "\n",
    "gnb.sideBySide(getCuredObservedProba(m1,{}),\n",
    "               getCuredObservedProba(m1,{'Gender':'F'}),\n",
    "               getCuredObservedProba(m1,{'Gender':'M'}),\n",
    "               captions=[\"$P(Patient = Healed \\mid Drug )$<br/>Taking $Drug$ is observed as efficient to cure\",\n",
    "                         \"$P(Patient = Healed \\mid Gender=F,Drug)$<br/>except if the $gender$ of the patient is female\",\n",
    "                         \"$P(Patient = Healed \\mid Gender=M,Drug)$<br/>... or male.\"])\n"
   ]
  },
  {
   "cell_type": "markdown",
   "metadata": {},
   "source": [
    "Those results form a paradox called <b>Simpson paradox</b> :\n",
    "\n",
    "$$P(C\\mid \\neg{D}) = 0.5 < P(C\\mid D) = 0.575$$\n",
    "$$P(C\\mid \\neg{D},G = Male) = 0.8 > P(C\\mid D,G = Male) = 0.7$$\n",
    "$$P(C\\mid \\neg{D},G = Female) = 0.4 > P(C\\mid D,G = Female) = 0.2$$\n",
    "\n",
    "Actuallay, giving a drug is not an observation in our model but rather an intervention. What if we use intervention instead of observation ?"
   ]
  },
  {
   "cell_type": "markdown",
   "metadata": {
    "tags": []
   },
   "source": [
    "## How to compute causal impacts on the patient's health ?\n",
    "\n",
    "We propose this causal model."
   ]
  },
  {
   "cell_type": "code",
   "execution_count": 4,
   "metadata": {
    "execution": {
     "iopub.execute_input": "2022-11-11T19:51:31.956747Z",
     "iopub.status.busy": "2022-11-11T19:51:31.955746Z",
     "iopub.status.idle": "2022-11-11T19:51:32.238093Z",
     "shell.execute_reply": "2022-11-11T19:51:32.238093Z",
     "shell.execute_reply.started": "2022-11-11T19:51:31.956747Z"
    },
    "tags": [
     "nbsphinx-thumbnail"
    ]
   },
   "outputs": [
    {
     "data": {
      "image/svg+xml": [
       "<svg xmlns=\"http://www.w3.org/2000/svg\" xmlns:xlink=\"http://www.w3.org/1999/xlink\" width=\"98pt\" height=\"180pt\" viewBox=\"0.00 0.00 97.94 180.00\">\n",
       "<g id=\"graph0\" class=\"graph\" transform=\"scale(0.957447 0.957447) rotate(0) translate(4 184)\">\n",
       "<title>G</title>\n",
       "<!-- Gender -->\n",
       "<g id=\"node1\" class=\"node\">\n",
       "<title>Gender</title>\n",
       "<ellipse fill=\"#404040\" stroke=\"#4a4a4a\" cx=\"56.6\" cy=\"-162\" rx=\"37.89\" ry=\"18\"/>\n",
       "<text text-anchor=\"middle\" x=\"56.6\" y=\"-158.3\" font-family=\"Times New Roman,serif\" font-size=\"14.00\" fill=\"white\">Gender</text>\n",
       "</g>\n",
       "<!-- Drug -->\n",
       "<g id=\"node2\" class=\"node\">\n",
       "<title>Drug</title>\n",
       "<ellipse fill=\"#404040\" stroke=\"#4a4a4a\" cx=\"28.6\" cy=\"-90\" rx=\"28.7\" ry=\"18\"/>\n",
       "<text text-anchor=\"middle\" x=\"28.6\" y=\"-86.3\" font-family=\"Times New Roman,serif\" font-size=\"14.00\" fill=\"white\">Drug</text>\n",
       "</g>\n",
       "<!-- Gender&#45;&gt;Drug -->\n",
       "<g id=\"edge1\" class=\"edge\">\n",
       "<title>Gender-&gt;Drug</title>\n",
       "<path fill=\"none\" stroke=\"#4a4a4a\" d=\"M48.89,-144.43C45.8,-136.69 42.05,-127.33 38.58,-118.64\"/>\n",
       "<path fill=\"none\" stroke=\"#4a4a4a\" d=\"M50.75,-143.68C47.65,-135.95 43.91,-126.59 40.43,-117.89\"/>\n",
       "<polygon fill=\"#4a4a4a\" stroke=\"#4a4a4a\" points=\"42.84,-117.18 35.88,-109.19 36.34,-119.78 42.84,-117.18\"/>\n",
       "</g>\n",
       "<!-- Patient -->\n",
       "<g id=\"node3\" class=\"node\">\n",
       "<title>Patient</title>\n",
       "<ellipse fill=\"#404040\" stroke=\"#4a4a4a\" cx=\"56.6\" cy=\"-18\" rx=\"35.19\" ry=\"18\"/>\n",
       "<text text-anchor=\"middle\" x=\"56.6\" y=\"-14.3\" font-family=\"Times New Roman,serif\" font-size=\"14.00\" fill=\"white\">Patient</text>\n",
       "</g>\n",
       "<!-- Gender&#45;&gt;Patient -->\n",
       "<g id=\"edge2\" class=\"edge\">\n",
       "<title>Gender-&gt;Patient</title>\n",
       "<path fill=\"none\" stroke=\"#4a4a4a\" d=\"M59.68,-143.72C61.92,-133.41 64.48,-119.93 65.6,-107.91 67.09,-92.07 67.09,-87.93 65.6,-72.09 64.85,-64.02 63.44,-55.26 61.93,-47.28\"/>\n",
       "<path fill=\"none\" stroke=\"#4a4a4a\" d=\"M61.63,-144.14C63.89,-133.78 66.45,-120.31 67.59,-108.09 69.09,-92.07 69.09,-87.93 67.59,-71.91 66.82,-63.7 65.42,-54.94 63.89,-46.91\"/>\n",
       "<polygon fill=\"#4a4a4a\" stroke=\"#4a4a4a\" points=\"66.39,-46.65 60.96,-37.55 59.53,-48.05 66.39,-46.65\"/>\n",
       "</g>\n",
       "<!-- Drug&#45;&gt;Patient -->\n",
       "<g id=\"edge3\" class=\"edge\">\n",
       "<title>Drug-&gt;Patient</title>\n",
       "<path fill=\"none\" stroke=\"#4a4a4a\" d=\"M34.45,-71.68C37.54,-63.95 41.29,-54.59 44.76,-45.89\"/>\n",
       "<path fill=\"none\" stroke=\"#4a4a4a\" d=\"M36.3,-72.43C39.4,-64.69 43.14,-55.33 46.62,-46.64\"/>\n",
       "<polygon fill=\"#4a4a4a\" stroke=\"#4a4a4a\" points=\"48.86,-47.78 49.32,-37.19 42.36,-45.18 48.86,-47.78\"/>\n",
       "</g>\n",
       "</g>\n",
       "</svg>"
      ],
      "text/plain": [
       "<IPython.core.display.SVG object>"
      ]
     },
     "metadata": {},
     "output_type": "display_data"
    }
   ],
   "source": [
    "d1 = csl.CausalModel(m1)\n",
    "cslnb.showCausalModel(d1)"
   ]
  },
  {
   "cell_type": "markdown",
   "metadata": {
    "tags": []
   },
   "source": [
    "### Computing $P (Patient = Healed \\mid \\hookrightarrow Drug = Without)$"
   ]
  },
  {
   "cell_type": "code",
   "execution_count": 5,
   "metadata": {
    "ExecuteTime": {
     "end_time": "2019-02-25T17:44:30.719276Z",
     "start_time": "2019-02-25T17:44:28.030308Z"
    },
    "execution": {
     "iopub.execute_input": "2022-11-11T19:51:32.240298Z",
     "iopub.status.busy": "2022-11-11T19:51:32.240298Z",
     "iopub.status.idle": "2022-11-11T19:51:32.403302Z",
     "shell.execute_reply": "2022-11-11T19:51:32.402286Z",
     "shell.execute_reply.started": "2022-11-11T19:51:32.240298Z"
    },
    "tags": []
   },
   "outputs": [
    {
     "data": {
      "text/html": [
       "\n",
       "      <style>\n",
       "      .floating-box {\n",
       "      display: inline-block;\n",
       "      margin: 7px;\n",
       "      padding : 3px;\n",
       "      border: 0px solid transparent;  \n",
       "      valign:middle;\n",
       "      background-color: transparent;\n",
       "      }\n",
       "      </style>\n",
       "      <div class=\"floating-box\"><svg xmlns=\"http://www.w3.org/2000/svg\" xmlns:xlink=\"http://www.w3.org/1999/xlink\" width=\"98pt\" height=\"180pt\" viewBox=\"0.00 0.00 97.94 180.00\">\n",
       "<g id=\"graph0\" class=\"graph\" transform=\"scale(0.957447 0.957447) rotate(0) translate(4 184)\">\n",
       "<title>G</title>\n",
       "<!-- Gender -->\n",
       "<g id=\"node1\" class=\"node\">\n",
       "<title>Gender</title>\n",
       "<ellipse fill=\"#404040\" stroke=\"#4a4a4a\" cx=\"56.6\" cy=\"-162\" rx=\"37.89\" ry=\"18\"/>\n",
       "<text text-anchor=\"middle\" x=\"56.6\" y=\"-158.3\" font-family=\"Times New Roman,serif\" font-size=\"14.00\" fill=\"white\">Gender</text>\n",
       "</g>\n",
       "<!-- Drug -->\n",
       "<g id=\"node2\" class=\"node\">\n",
       "<title>Drug</title>\n",
       "<ellipse fill=\"#404040\" stroke=\"#4a4a4a\" cx=\"28.6\" cy=\"-90\" rx=\"28.7\" ry=\"18\"/>\n",
       "<text text-anchor=\"middle\" x=\"28.6\" y=\"-86.3\" font-family=\"Times New Roman,serif\" font-size=\"14.00\" fill=\"white\">Drug</text>\n",
       "</g>\n",
       "<!-- Gender&#45;&gt;Drug -->\n",
       "<g id=\"edge1\" class=\"edge\">\n",
       "<title>Gender-&gt;Drug</title>\n",
       "<path fill=\"none\" stroke=\"#4a4a4a\" d=\"M48.89,-144.43C45.8,-136.69 42.05,-127.33 38.58,-118.64\"/>\n",
       "<path fill=\"none\" stroke=\"#4a4a4a\" d=\"M50.75,-143.68C47.65,-135.95 43.91,-126.59 40.43,-117.89\"/>\n",
       "<polygon fill=\"#4a4a4a\" stroke=\"#4a4a4a\" points=\"42.84,-117.18 35.88,-109.19 36.34,-119.78 42.84,-117.18\"/>\n",
       "</g>\n",
       "<!-- Patient -->\n",
       "<g id=\"node3\" class=\"node\">\n",
       "<title>Patient</title>\n",
       "<ellipse fill=\"#404040\" stroke=\"#4a4a4a\" cx=\"56.6\" cy=\"-18\" rx=\"35.19\" ry=\"18\"/>\n",
       "<text text-anchor=\"middle\" x=\"56.6\" y=\"-14.3\" font-family=\"Times New Roman,serif\" font-size=\"14.00\" fill=\"white\">Patient</text>\n",
       "</g>\n",
       "<!-- Gender&#45;&gt;Patient -->\n",
       "<g id=\"edge2\" class=\"edge\">\n",
       "<title>Gender-&gt;Patient</title>\n",
       "<path fill=\"none\" stroke=\"#4a4a4a\" d=\"M59.68,-143.72C61.92,-133.41 64.48,-119.93 65.6,-107.91 67.09,-92.07 67.09,-87.93 65.6,-72.09 64.85,-64.02 63.44,-55.26 61.93,-47.28\"/>\n",
       "<path fill=\"none\" stroke=\"#4a4a4a\" d=\"M61.63,-144.14C63.89,-133.78 66.45,-120.31 67.59,-108.09 69.09,-92.07 69.09,-87.93 67.59,-71.91 66.82,-63.7 65.42,-54.94 63.89,-46.91\"/>\n",
       "<polygon fill=\"#4a4a4a\" stroke=\"#4a4a4a\" points=\"66.39,-46.65 60.96,-37.55 59.53,-48.05 66.39,-46.65\"/>\n",
       "</g>\n",
       "<!-- Drug&#45;&gt;Patient -->\n",
       "<g id=\"edge3\" class=\"edge\">\n",
       "<title>Drug-&gt;Patient</title>\n",
       "<path fill=\"none\" stroke=\"#4a4a4a\" d=\"M34.45,-71.68C37.54,-63.95 41.29,-54.59 44.76,-45.89\"/>\n",
       "<path fill=\"none\" stroke=\"#4a4a4a\" d=\"M36.3,-72.43C39.4,-64.69 43.14,-55.33 46.62,-46.64\"/>\n",
       "<polygon fill=\"#4a4a4a\" stroke=\"#4a4a4a\" points=\"48.86,-47.78 49.32,-37.19 42.36,-45.18 48.86,-47.78\"/>\n",
       "</g>\n",
       "</g>\n",
       "</svg><br><center><small><em>Causal Model</em></small></center></div><div class=\"floating-box\">$$\\begin{equation*}P( Patient \\mid \\hookrightarrow\\mkern-6.5muDrug) = \\sum_{Gender}{P\\left(Patient\\mid Drug,Gender\\right) \\cdot P\\left(Gender\\right)}\\end{equation*}$$<br><center><small><em>Explanation : backdoor ['Gender'] found.</em></small></center></div><div class=\"floating-box\"><table style=\"border:1px solid black;\">\n",
       "<tr style='border:1px solid black;color:black;background-color:#808080'>\n",
       "      <th colspan='2'><center>Patient</center></th></tr>\n",
       "<tr><th style='border:1px solid black;border-bottom-style: double;color:black;background-color:#BBBBBB'>\n",
       "      <center>Sick</center></th><th style='border:1px solid black;border-bottom-style: double;color:black;background-color:#BBBBBB'>\n",
       "      <center>Healed</center></th></tr>\n",
       "<tr><td style='color:black;background-color:#cbb264;text-align:right;'>0.4000</td><td style='color:black;background-color:#b2cb64;text-align:right;'>0.6000</td></tr>\n",
       "</table><br><center><small><em>Impact</em></small></center></div>"
      ],
      "text/plain": [
       "<IPython.core.display.HTML object>"
      ]
     },
     "metadata": {},
     "output_type": "display_data"
    }
   ],
   "source": [
    "cslnb.showCausalImpact(d1, \"Patient\", doing=\"Drug\",values={\"Drug\" : \"Without\"})"
   ]
  },
  {
   "cell_type": "markdown",
   "metadata": {},
   "source": [
    "We have, $P (Patient = Healed \\mid \\hookrightarrow Drug = without) = 0.6$"
   ]
  },
  {
   "cell_type": "markdown",
   "metadata": {},
   "source": [
    "### Computing $P (Patient = Healed \\mid \\hookrightarrow Drug = With )$"
   ]
  },
  {
   "cell_type": "code",
   "execution_count": 6,
   "metadata": {
    "ExecuteTime": {
     "end_time": "2019-02-25T17:44:33.312080Z",
     "start_time": "2019-02-25T17:44:30.722118Z"
    },
    "execution": {
     "iopub.execute_input": "2022-11-11T19:51:32.405302Z",
     "iopub.status.busy": "2022-11-11T19:51:32.405302Z",
     "iopub.status.idle": "2022-11-11T19:51:32.516425Z",
     "shell.execute_reply": "2022-11-11T19:51:32.515420Z",
     "shell.execute_reply.started": "2022-11-11T19:51:32.405302Z"
    }
   },
   "outputs": [
    {
     "data": {
      "text/html": [
       "\n",
       "      <style>\n",
       "      .floating-box {\n",
       "      display: inline-block;\n",
       "      margin: 7px;\n",
       "      padding : 3px;\n",
       "      border: 0px solid transparent;  \n",
       "      valign:middle;\n",
       "      background-color: transparent;\n",
       "      }\n",
       "      </style>\n",
       "      <div class=\"floating-box\"><svg xmlns=\"http://www.w3.org/2000/svg\" xmlns:xlink=\"http://www.w3.org/1999/xlink\" width=\"98pt\" height=\"180pt\" viewBox=\"0.00 0.00 97.94 180.00\">\n",
       "<g id=\"graph0\" class=\"graph\" transform=\"scale(0.957447 0.957447) rotate(0) translate(4 184)\">\n",
       "<title>G</title>\n",
       "<!-- Gender -->\n",
       "<g id=\"node1\" class=\"node\">\n",
       "<title>Gender</title>\n",
       "<ellipse fill=\"#404040\" stroke=\"#4a4a4a\" cx=\"56.6\" cy=\"-162\" rx=\"37.89\" ry=\"18\"/>\n",
       "<text text-anchor=\"middle\" x=\"56.6\" y=\"-158.3\" font-family=\"Times New Roman,serif\" font-size=\"14.00\" fill=\"white\">Gender</text>\n",
       "</g>\n",
       "<!-- Drug -->\n",
       "<g id=\"node2\" class=\"node\">\n",
       "<title>Drug</title>\n",
       "<ellipse fill=\"#404040\" stroke=\"#4a4a4a\" cx=\"28.6\" cy=\"-90\" rx=\"28.7\" ry=\"18\"/>\n",
       "<text text-anchor=\"middle\" x=\"28.6\" y=\"-86.3\" font-family=\"Times New Roman,serif\" font-size=\"14.00\" fill=\"white\">Drug</text>\n",
       "</g>\n",
       "<!-- Gender&#45;&gt;Drug -->\n",
       "<g id=\"edge1\" class=\"edge\">\n",
       "<title>Gender-&gt;Drug</title>\n",
       "<path fill=\"none\" stroke=\"#4a4a4a\" d=\"M48.89,-144.43C45.8,-136.69 42.05,-127.33 38.58,-118.64\"/>\n",
       "<path fill=\"none\" stroke=\"#4a4a4a\" d=\"M50.75,-143.68C47.65,-135.95 43.91,-126.59 40.43,-117.89\"/>\n",
       "<polygon fill=\"#4a4a4a\" stroke=\"#4a4a4a\" points=\"42.84,-117.18 35.88,-109.19 36.34,-119.78 42.84,-117.18\"/>\n",
       "</g>\n",
       "<!-- Patient -->\n",
       "<g id=\"node3\" class=\"node\">\n",
       "<title>Patient</title>\n",
       "<ellipse fill=\"#404040\" stroke=\"#4a4a4a\" cx=\"56.6\" cy=\"-18\" rx=\"35.19\" ry=\"18\"/>\n",
       "<text text-anchor=\"middle\" x=\"56.6\" y=\"-14.3\" font-family=\"Times New Roman,serif\" font-size=\"14.00\" fill=\"white\">Patient</text>\n",
       "</g>\n",
       "<!-- Gender&#45;&gt;Patient -->\n",
       "<g id=\"edge2\" class=\"edge\">\n",
       "<title>Gender-&gt;Patient</title>\n",
       "<path fill=\"none\" stroke=\"#4a4a4a\" d=\"M59.68,-143.72C61.92,-133.41 64.48,-119.93 65.6,-107.91 67.09,-92.07 67.09,-87.93 65.6,-72.09 64.85,-64.02 63.44,-55.26 61.93,-47.28\"/>\n",
       "<path fill=\"none\" stroke=\"#4a4a4a\" d=\"M61.63,-144.14C63.89,-133.78 66.45,-120.31 67.59,-108.09 69.09,-92.07 69.09,-87.93 67.59,-71.91 66.82,-63.7 65.42,-54.94 63.89,-46.91\"/>\n",
       "<polygon fill=\"#4a4a4a\" stroke=\"#4a4a4a\" points=\"66.39,-46.65 60.96,-37.55 59.53,-48.05 66.39,-46.65\"/>\n",
       "</g>\n",
       "<!-- Drug&#45;&gt;Patient -->\n",
       "<g id=\"edge3\" class=\"edge\">\n",
       "<title>Drug-&gt;Patient</title>\n",
       "<path fill=\"none\" stroke=\"#4a4a4a\" d=\"M34.45,-71.68C37.54,-63.95 41.29,-54.59 44.76,-45.89\"/>\n",
       "<path fill=\"none\" stroke=\"#4a4a4a\" d=\"M36.3,-72.43C39.4,-64.69 43.14,-55.33 46.62,-46.64\"/>\n",
       "<polygon fill=\"#4a4a4a\" stroke=\"#4a4a4a\" points=\"48.86,-47.78 49.32,-37.19 42.36,-45.18 48.86,-47.78\"/>\n",
       "</g>\n",
       "</g>\n",
       "</svg><br><center><small><em>Causal Model</em></small></center></div><div class=\"floating-box\">$$\\begin{equation*}P( Patient \\mid \\hookrightarrow\\mkern-6.5muDrug) = \\sum_{Gender}{P\\left(Patient\\mid Drug,Gender\\right) \\cdot P\\left(Gender\\right)}\\end{equation*}$$<br><center><small><em>Explanation : backdoor ['Gender'] found.</em></small></center></div><div class=\"floating-box\"><table style=\"border:1px solid black;\">\n",
       "<tr style='border:1px solid black;color:black;background-color:#808080'>\n",
       "      <th colspan='2'><center>Patient</center></th></tr>\n",
       "<tr><th style='border:1px solid black;border-bottom-style: double;color:black;background-color:#BBBBBB'>\n",
       "      <center>Sick</center></th><th style='border:1px solid black;border-bottom-style: double;color:black;background-color:#BBBBBB'>\n",
       "      <center>Healed</center></th></tr>\n",
       "<tr><td style='color:black;background-color:#b8c564;text-align:right;'>0.5500</td><td style='color:black;background-color:#c5b864;text-align:right;'>0.4500</td></tr>\n",
       "</table><br><center><small><em>Impact</em></small></center></div>"
      ],
      "text/plain": [
       "<IPython.core.display.HTML object>"
      ]
     },
     "metadata": {},
     "output_type": "display_data"
    }
   ],
   "source": [
    "d1 = csl.CausalModel(m1)\n",
    "cslnb.showCausalImpact(d1, \"Patient\", \"Drug\",values={\"Drug\" : \"With\"})\n"
   ]
  },
  {
   "cell_type": "markdown",
   "metadata": {},
   "source": [
    "And then : $P(Patient = Healed \\mid \\hookrightarrow Drug = With ) = 0.45 $"
   ]
  },
  {
   "cell_type": "markdown",
   "metadata": {},
   "source": [
    "Therefore : $P(Patient = Healed\\mid \\hookrightarrow Drug = Without) = 0.6 > P(Patient = Healed\\mid \\hookrightarrow Drug = With) = 0.45 $\n",
    "\n",
    "Which means that taking this drug would not enhance the patient's healing process, and it is better not to prescribe this drug for treatment.\n"
   ]
  },
  {
   "cell_type": "markdown",
   "metadata": {},
   "source": [
    "## Simpson paradox solved by interventions"
   ]
  },
  {
   "cell_type": "markdown",
   "metadata": {
    "ExecuteTime": {
     "end_time": "2019-01-14T09:53:23.369180Z",
     "start_time": "2019-01-14T09:53:23.361492Z"
    }
   },
   "source": [
    "So to summarize, the paradox appears when wrongly dealing with observations on $Drug$ :"
   ]
  },
  {
   "cell_type": "code",
   "execution_count": 7,
   "metadata": {
    "ExecuteTime": {
     "end_time": "2019-02-25T17:44:33.322748Z",
     "start_time": "2019-02-25T17:44:33.314758Z"
    },
    "execution": {
     "iopub.execute_input": "2022-11-11T19:51:32.517933Z",
     "iopub.status.busy": "2022-11-11T19:51:32.517933Z",
     "iopub.status.idle": "2022-11-11T19:51:32.524997Z",
     "shell.execute_reply": "2022-11-11T19:51:32.524997Z",
     "shell.execute_reply.started": "2022-11-11T19:51:32.517933Z"
    }
   },
   "outputs": [
    {
     "data": {
      "text/html": [
       "<table style=\"border-style: hidden; border-collapse: collapse;\" width=\"100%\"><tr><td style=\"border-top:hidden;border-bottom:hidden;vertical-align:middle;\"><div align=\"center\" style=\"vertical-align:middle;\"><table style=\"border:1px solid black;\">\n",
       "<tr style='border:1px solid black;color:black;background-color:#808080'>\n",
       "      <th colspan='2'><center>Drug</center></th></tr>\n",
       "<tr><th style='border:1px solid black;border-bottom-style: double;color:black;background-color:#BBBBBB'>\n",
       "      <center>Without</center></th><th style='border:1px solid black;border-bottom-style: double;color:black;background-color:#BBBBBB'>\n",
       "      <center>With</center></th></tr>\n",
       "<tr><td style='color:black;background-color:#bfbf64;text-align:right;'>0.5000</td><td style='color:black;background-color:#b5c864;text-align:right;'>0.5750</td></tr>\n",
       "</table><br><small><i>$P(Patient = Healed \\mid Drug )$<br/>Taking $Drug$ is observed as efficient to cure</i></small></div></td><td style=\"border-top:hidden;border-bottom:hidden;vertical-align:middle;\"><div align=\"center\" style=\"vertical-align:middle;\"><table style=\"border:1px solid black;\">\n",
       "<tr style='border:1px solid black;color:black;background-color:#808080'>\n",
       "      <th colspan='2'><center>Drug</center></th></tr>\n",
       "<tr><th style='border:1px solid black;border-bottom-style: double;color:black;background-color:#BBBBBB'>\n",
       "      <center>Without</center></th><th style='border:1px solid black;border-bottom-style: double;color:black;background-color:#BBBBBB'>\n",
       "      <center>With</center></th></tr>\n",
       "<tr><td style='color:black;background-color:#98e564;text-align:right;'>0.8000</td><td style='color:black;background-color:#a5d864;text-align:right;'>0.7000</td></tr>\n",
       "</table><br><small><i>$P(Patient = Healed \\mid Gender=F,Drug)$<br/>except if the $gender$ of the patient is female</i></small></div></td><td style=\"border-top:hidden;border-bottom:hidden;vertical-align:middle;\"><div align=\"center\" style=\"vertical-align:middle;\"><table style=\"border:1px solid black;\">\n",
       "<tr style='border:1px solid black;color:black;background-color:#808080'>\n",
       "      <th colspan='2'><center>Drug</center></th></tr>\n",
       "<tr><th style='border:1px solid black;border-bottom-style: double;color:black;background-color:#BBBBBB'>\n",
       "      <center>Without</center></th><th style='border:1px solid black;border-bottom-style: double;color:black;background-color:#BBBBBB'>\n",
       "      <center>With</center></th></tr>\n",
       "<tr><td style='color:black;background-color:#cbb264;text-align:right;'>0.4000</td><td style='color:black;background-color:#e59864;text-align:right;'>0.2000</td></tr>\n",
       "</table><br><small><i>$P(Patient = Healed \\mid Gender=M,Drug)$<br/>... or male.</i></small></div></td></tr></table>"
      ],
      "text/plain": [
       "<IPython.core.display.HTML object>"
      ]
     },
     "metadata": {},
     "output_type": "display_data"
    }
   ],
   "source": [
    "gnb.sideBySide(getCuredObservedProba(m1,{}),\n",
    "               getCuredObservedProba(m1,{'Gender':'F'}),\n",
    "               getCuredObservedProba(m1,{'Gender':'M'}),\n",
    "               captions=[\"$P(Patient = Healed \\mid Drug )$<br/>Taking $Drug$ is observed as efficient to cure\",\n",
    "                         \"$P(Patient = Healed \\mid Gender=F,Drug)$<br/>except if the $gender$ of the patient is female\",\n",
    "                         \"$P(Patient = Healed \\mid Gender=M,Drug)$<br/>... or male.\"])\n"
   ]
  },
  {
   "cell_type": "markdown",
   "metadata": {},
   "source": [
    "... and disappears when dealing with intervention on $Drug$ :"
   ]
  },
  {
   "cell_type": "code",
   "execution_count": 8,
   "metadata": {
    "ExecuteTime": {
     "end_time": "2019-02-25T17:44:33.337535Z",
     "start_time": "2019-02-25T17:44:33.325191Z"
    },
    "execution": {
     "iopub.execute_input": "2022-11-11T19:51:32.526513Z",
     "iopub.status.busy": "2022-11-11T19:51:32.524997Z",
     "iopub.status.idle": "2022-11-11T19:51:32.535399Z",
     "shell.execute_reply": "2022-11-11T19:51:32.535399Z",
     "shell.execute_reply.started": "2022-11-11T19:51:32.526513Z"
    }
   },
   "outputs": [
    {
     "data": {
      "text/html": [
       "<table style=\"border-style: hidden; border-collapse: collapse;\" width=\"100%\"><tr><td style=\"border-top:hidden;border-bottom:hidden;vertical-align:middle;\"><div align=\"center\" style=\"vertical-align:middle;\"><table style=\"border:1px solid black;\">\n",
       "<tr style='border:1px solid black;color:black;background-color:#808080'>\n",
       "      <th colspan='2'><center>Drug</center></th></tr>\n",
       "<tr><th style='border:1px solid black;border-bottom-style: double;color:black;background-color:#BBBBBB'>\n",
       "      <center>Without</center></th><th style='border:1px solid black;border-bottom-style: double;color:black;background-color:#BBBBBB'>\n",
       "      <center>With</center></th></tr>\n",
       "<tr><td style='color:black;background-color:#b2cb64;text-align:right;'>0.6000</td><td style='color:black;background-color:#c5b864;text-align:right;'>0.4500</td></tr>\n",
       "</table><br><small><i>$P(Patient = 1 \\mid \\hookrightarrow Drug )$<br/>Effectively $Drug$ taking is not efficient to cure</i></small></div></td><td style=\"border-top:hidden;border-bottom:hidden;vertical-align:middle;\"><div align=\"center\" style=\"vertical-align:middle;\"><table style=\"border:1px solid black;\">\n",
       "<tr style='border:1px solid black;color:black;background-color:#808080'>\n",
       "      <th colspan='2'><center>Drug</center></th></tr>\n",
       "<tr><th style='border:1px solid black;border-bottom-style: double;color:black;background-color:#BBBBBB'>\n",
       "      <center>Without</center></th><th style='border:1px solid black;border-bottom-style: double;color:black;background-color:#BBBBBB'>\n",
       "      <center>With</center></th></tr>\n",
       "<tr><td style='color:black;background-color:#98e564;text-align:right;'>0.8000</td><td style='color:black;background-color:#a5d864;text-align:right;'>0.7000</td></tr>\n",
       "</table><br><small><i>$P(Patient = 1 \\mid \\hookrightarrow Drug, gender=F )$<br/>, the $gender$ of the patient being female</i></small></div></td><td style=\"border-top:hidden;border-bottom:hidden;vertical-align:middle;\"><div align=\"center\" style=\"vertical-align:middle;\"><table style=\"border:1px solid black;\">\n",
       "<tr style='border:1px solid black;color:black;background-color:#808080'>\n",
       "      <th colspan='2'><center>Drug</center></th></tr>\n",
       "<tr><th style='border:1px solid black;border-bottom-style: double;color:black;background-color:#BBBBBB'>\n",
       "      <center>Without</center></th><th style='border:1px solid black;border-bottom-style: double;color:black;background-color:#BBBBBB'>\n",
       "      <center>With</center></th></tr>\n",
       "<tr><td style='color:black;background-color:#cbb264;text-align:right;'>0.4000</td><td style='color:black;background-color:#e59864;text-align:right;'>0.2000</td></tr>\n",
       "</table><br><small><i>$P(Patient = 1 \\mid \\hookrightarrow Drug, gender=M )$<br/>, ... or male.</i></small></div></td></tr></table>"
      ],
      "text/plain": [
       "<IPython.core.display.HTML object>"
      ]
     },
     "metadata": {},
     "output_type": "display_data"
    }
   ],
   "source": [
    "gnb.sideBySide(csl.causalImpact(d1,on=\"Patient\",doing=\"Drug\",values={\"Patient\":\"Healed\"})[1],\n",
    "               csl.causalImpact(d1,on=\"Patient\",doing=\"Drug\",knowing={\"Gender\"},values={\"Patient\":\"Healed\",\"Gender\":\"F\"})[1],\n",
    "               csl.causalImpact(d1,on=\"Patient\",doing=\"Drug\",knowing={\"Gender\"},values={\"Patient\":\"Healed\",\"Gender\":\"M\"})[1],\n",
    "               captions=[\"$P(Patient = 1 \\mid \\hookrightarrow Drug )$<br/>Effectively $Drug$ taking is not efficient to cure\",\n",
    "                         \"$P(Patient = 1 \\mid \\hookrightarrow Drug, gender=F )$<br/>, the $gender$ of the patient being female\",\n",
    "                         \"$P(Patient = 1 \\mid \\hookrightarrow Drug, gender=M )$<br/>, ... or male.\"])\n"
   ]
  },
  {
   "cell_type": "code",
   "execution_count": null,
   "metadata": {},
   "outputs": [],
   "source": []
  }
 ],
 "metadata": {
  "anaconda-cloud": {},
  "hide_input": false,
  "kernelspec": {
   "display_name": "Python 3 (ipykernel)",
   "language": "python",
   "name": "python3"
  },
  "language_info": {
   "codemirror_mode": {
    "name": "ipython",
    "version": 3
   },
   "file_extension": ".py",
   "mimetype": "text/x-python",
   "name": "python",
   "nbconvert_exporter": "python",
   "pygments_lexer": "ipython3",
   "version": "3.11.0"
  },
  "toc": {
   "colors": {
    "hover_highlight": "#DAA520",
    "running_highlight": "#FF0000",
    "selected_highlight": "#FFD700"
   },
   "moveMenuLeft": true,
   "nav_menu": {
    "height": "119px",
    "width": "252px"
   },
   "navigate_menu": true,
   "number_sections": true,
   "sideBar": true,
   "threshold": 4,
   "toc_cell": false,
   "toc_section_display": "block",
   "toc_window_display": true,
   "widenNotebook": false
  }
 },
 "nbformat": 4,
 "nbformat_minor": 4
}
