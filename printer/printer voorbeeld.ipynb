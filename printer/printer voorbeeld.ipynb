{
 "cells": [
  {
   "cell_type": "markdown",
   "id": "ecebaddf",
   "metadata": {},
   "source": [
    "## printer voorbeeld\n",
    "- influence diagram maken voor printer en fouten die kunnen optreden\n",
    "\n"
   ]
  },
  {
   "cell_type": "code",
   "execution_count": 1,
   "id": "7d4c6275",
   "metadata": {},
   "outputs": [],
   "source": [
    "import os\n",
    "\n",
    "%matplotlib inline\n",
    "from pylab import *\n",
    "import matplotlib.pyplot as plt\n",
    "from IPython.display import display,HTML\n",
    "\n",
    "import math"
   ]
  },
  {
   "cell_type": "markdown",
   "id": "c8367ccb",
   "metadata": {},
   "source": [
    "happy flow\n",
    "- printer krijgt een opdracht\n",
    "- als opdracht aan de beurt is wordt papier uit lade geladen\n",
    "- inkt wordt op papier aangebracht\n",
    "- papier wordt omgedraaid\n",
    "- inkt wordt op papier aangebracht\n",
    "- papier wordt naar uitbak geleid\n",
    "\n",
    "unhappy: geen resultaat in uitbak (mechanisch probleem, papier op, \n",
    "\n",
    "unhappy: wel resultaat maar kwaliteit niet goed (inkt is op, mechanisch issue,  \n",
    "\n",
    "unhappy: geen opdracht (overdrachtprobleem, opdracht niet goed, opdracht wordt nooit geselecteerd, \n",
    "\n",
    "unhappy: geen verbinding"
   ]
  },
  {
   "cell_type": "markdown",
   "id": "d7892045",
   "metadata": {},
   "source": [
    "\n",
    "\n",
    "scenario: geen resultaat in de uitbak \n",
    "- check voorraad papier in de inbak\n",
    "- check of inkt voldoende is\n",
    "- check of opdracht is ontvangen\n",
    "- check of papier vast zit\n",
    "\n"
   ]
  },
  {
   "cell_type": "code",
   "execution_count": 2,
   "id": "db19285c",
   "metadata": {},
   "outputs": [],
   "source": [
    "a = 1"
   ]
  },
  {
   "cell_type": "code",
   "execution_count": 3,
   "id": "c8dbbb6b",
   "metadata": {},
   "outputs": [],
   "source": [
    "b = 2"
   ]
  },
  {
   "cell_type": "code",
   "execution_count": 4,
   "id": "71141647",
   "metadata": {},
   "outputs": [
    {
     "data": {
      "text/plain": [
       "3"
      ]
     },
     "execution_count": 4,
     "metadata": {},
     "output_type": "execute_result"
    }
   ],
   "source": [
    "a+b"
   ]
  },
  {
   "cell_type": "code",
   "execution_count": null,
   "id": "c07aeaa9",
   "metadata": {},
   "outputs": [],
   "source": []
  }
 ],
 "metadata": {
  "kernelspec": {
   "display_name": "Python 3 (ipykernel)",
   "language": "python",
   "name": "python3"
  },
  "language_info": {
   "codemirror_mode": {
    "name": "ipython",
    "version": 3
   },
   "file_extension": ".py",
   "mimetype": "text/x-python",
   "name": "python",
   "nbconvert_exporter": "python",
   "pygments_lexer": "ipython3",
   "version": "3.10.4"
  }
 },
 "nbformat": 4,
 "nbformat_minor": 5
}
