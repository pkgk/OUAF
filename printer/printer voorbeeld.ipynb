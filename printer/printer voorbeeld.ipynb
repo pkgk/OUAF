{
 "cells": [
  {
   "cell_type": "markdown",
   "id": "ecebaddf",
   "metadata": {},
   "source": [
    "## printer voorbeeld\n",
    "- influence diagram maken voor printer en fouten die kunnen optreden\n",
    "\n"
   ]
  },
  {
   "cell_type": "code",
   "execution_count": 1,
   "id": "7d4c6275",
   "metadata": {},
   "outputs": [],
   "source": [
    "import os\n",
    "\n",
    "%matplotlib inline\n",
    "from pylab import *\n",
    "import matplotlib.pyplot as plt\n",
    "from IPython.display import display,HTML\n",
    "\n",
    "import math"
   ]
  },
  {
   "cell_type": "code",
   "execution_count": 3,
   "id": "5b171f4b",
   "metadata": {},
   "outputs": [],
   "source": [
    "import pyAgrum as gum\n",
    "import pyAgrum.lib.notebook as gnb"
   ]
  },
  {
   "cell_type": "markdown",
   "id": "c8367ccb",
   "metadata": {},
   "source": [
    "#### happy flow\n",
    "- printer krijgt een opdracht\n",
    "- als opdracht aan de beurt is wordt papier uit lade geladen\n",
    "- inkt wordt op papier aangebracht\n",
    "- papier wordt omgedraaid\n",
    "- inkt wordt op papier aangebracht\n",
    "- papier wordt naar uitbak geleid\n",
    "\n",
    "##### extern waarneembare triggers voor inroepen reparatiedienst\n",
    "- geen resultaat (uitbak is leeg, mechanisch probleem, papier/inkt op, \n",
    "- wel resultaat maar kwaliteit niet goed (inkt is op, mechanisch issue,  \n"
   ]
  },
  {
   "cell_type": "markdown",
   "id": "c24a1b96",
   "metadata": {},
   "source": [
    "#### Secundair proces bewaakt de werking van de printer, het gaat om:\n",
    "- flow\n",
    "- data\n",
    "\n",
    "#### flow\n",
    "De stappen geven de voortgang van het proces aan. Dmv een audit trail en status is duidelijk waar het proces zich bevindt, welke stage en in welke stap. Indien er geen output is dan kan dmv status de stage worden uitgezocht waar het probleem is ontstaan. Audit trail bevat:\n",
    "- stage / stap gestart\n",
    "- status waarmee stage stap is geeindigd\n",
    "\n",
    "#### data \n",
    "De \"data\" reflecteert de inhoudelijke status van het proces. Als een stage of stap inhoudelijk iets toevoegd dan wordt dat aan de data toegevoegd. data is dan:\n",
    "- wifi staat aan en is verbonden met netwerk\n",
    "- ruimte voorraad buffer voor opdrachten en aantal opdrachten\n",
    "- opdrachtgegevens; naam / eigenaar van een opdracht, omvang te printen bestand, ...\n",
    "- papier voorraad in de inbak en formaat\n",
    "- iets met rollers om papier te brengen\n",
    "- inktlevels\n",
    "- hoeveelheid papier in uitbak\n",
    "- kwaliteit van prints\n",
    "- aantal gemaakte prints sinds onderhoud"
   ]
  },
  {
   "cell_type": "markdown",
   "id": "97855520",
   "metadata": {},
   "source": [
    "#### trigger voor reparateur: geen prints \n",
    "\n",
    "Gegeven een kansverdeling van de oorzaken van groot naar klein\n",
    "- verbruikselementen zoals geen papier, inkt op, geen opdracht, ...\n",
    "- mechanische problemen zoals vastgelopen papier, inktkoppen zitten dicht, ...\n",
    "- electronische problemen zoals geen wifi, buffer vol, storingen\n",
    "\n",
    "proces voor de reparateur\n",
    "- check verbruikselementen, indien die goed zijn bekijk mechanische elemente etc\n",
    "\n",
    "de kans nodes zijn te relateren aan de dataelementen, een kansnode kan bijvoorbeeeld zijn: \n",
    "- zwarte inkt cartrigde met waarden voor voldoende / onvoldoende of een percentage 0/10/20/30 etc. De CPT laat dan zien wat de kans is op een bepaalde waarde aan inktvoorraad (bijv leeg)\n",
    "- processtap zoals papier keren voor dubbelzijdig printen, de waarden van een procestap zijn dan: niet gestart / gestart / succesvol afgerond of exceptie. De kansverdeling geeft de kans weer op volbrengen van de stap\n",
    "\n",
    "influence diagram:\n",
    "- vanuit \"geen resultaat\" loop je terug in het proces tot en met geen opdracht ontvangen\n",
    "- als een niet is afgerond dan kan dat komen door de kans op oorzaken\n"
   ]
  },
  {
   "cell_type": "code",
   "execution_count": 23,
   "id": "ae7c54f7",
   "metadata": {},
   "outputs": [
    {
     "data": {
      "image/svg+xml": [
       "<svg xmlns=\"http://www.w3.org/2000/svg\" xmlns:xlink=\"http://www.w3.org/1999/xlink\" width=\"134pt\" height=\"280pt\" viewBox=\"0.00 0.00 134.00 280.05\">\n",
       "<g id=\"graph0\" class=\"graph\" transform=\"scale(1 1) rotate(0) translate(4 276.05)\">\n",
       "<title>G</title>\n",
       "<!-- B -->\n",
       "<g id=\"node1\" class=\"node\">\n",
       "<title>B</title>\n",
       "<ellipse fill=\"#808080\" stroke=\"black\" cx=\"63\" cy=\"-20.51\" rx=\"27\" ry=\"20.51\"/>\n",
       "<text text-anchor=\"middle\" x=\"63\" y=\"-16.81\" font-family=\"Times,serif\" font-size=\"14.00\" fill=\"white\">B</text>\n",
       "</g>\n",
       "<!-- P -->\n",
       "<g id=\"node2\" class=\"node\">\n",
       "<title>P</title>\n",
       "<ellipse fill=\"#808080\" stroke=\"black\" cx=\"63\" cy=\"-97.52\" rx=\"27\" ry=\"20.51\"/>\n",
       "<text text-anchor=\"middle\" x=\"63\" y=\"-93.82\" font-family=\"Times,serif\" font-size=\"14.00\" fill=\"white\">P</text>\n",
       "</g>\n",
       "<!-- P&#45;&gt;B -->\n",
       "<g id=\"edge1\" class=\"edge\">\n",
       "<title>P-&gt;B</title>\n",
       "<path fill=\"none\" stroke=\"black\" d=\"M63,-76.81C63,-68.97 63,-59.78 63,-51.17\"/>\n",
       "<polygon fill=\"black\" stroke=\"black\" points=\"66.5,-51.08 63,-41.08 59.5,-51.08 66.5,-51.08\"/>\n",
       "</g>\n",
       "<!-- A -->\n",
       "<g id=\"node3\" class=\"node\">\n",
       "<title>A</title>\n",
       "<ellipse fill=\"#808080\" stroke=\"black\" cx=\"27\" cy=\"-251.54\" rx=\"27\" ry=\"20.51\"/>\n",
       "<text text-anchor=\"middle\" x=\"27\" y=\"-247.84\" font-family=\"Times,serif\" font-size=\"14.00\" fill=\"white\">A</text>\n",
       "</g>\n",
       "<!-- T -->\n",
       "<g id=\"node4\" class=\"node\">\n",
       "<title>T</title>\n",
       "<ellipse fill=\"#808080\" stroke=\"black\" cx=\"27\" cy=\"-174.53\" rx=\"27\" ry=\"20.51\"/>\n",
       "<text text-anchor=\"middle\" x=\"27\" y=\"-170.83\" font-family=\"Times,serif\" font-size=\"14.00\" fill=\"white\">T</text>\n",
       "</g>\n",
       "<!-- A&#45;&gt;T -->\n",
       "<g id=\"edge2\" class=\"edge\">\n",
       "<title>A-&gt;T</title>\n",
       "<path fill=\"none\" stroke=\"black\" d=\"M27,-230.83C27,-223 27,-213.81 27,-205.2\"/>\n",
       "<polygon fill=\"black\" stroke=\"black\" points=\"30.5,-205.11 27,-195.11 23.5,-205.11 30.5,-205.11\"/>\n",
       "</g>\n",
       "<!-- T&#45;&gt;P -->\n",
       "<g id=\"edge3\" class=\"edge\">\n",
       "<title>T-&gt;P</title>\n",
       "<path fill=\"none\" stroke=\"black\" d=\"M35.9,-154.99C40.05,-146.33 45.08,-135.85 49.68,-126.28\"/>\n",
       "<polygon fill=\"black\" stroke=\"black\" points=\"52.91,-127.64 54.08,-117.11 46.6,-124.61 52.91,-127.64\"/>\n",
       "</g>\n",
       "<!-- I -->\n",
       "<g id=\"node5\" class=\"node\">\n",
       "<title>I</title>\n",
       "<ellipse fill=\"#808080\" stroke=\"black\" cx=\"99\" cy=\"-174.53\" rx=\"27\" ry=\"20.51\"/>\n",
       "<text text-anchor=\"middle\" x=\"99\" y=\"-170.83\" font-family=\"Times,serif\" font-size=\"14.00\" fill=\"white\">I</text>\n",
       "</g>\n",
       "<!-- I&#45;&gt;P -->\n",
       "<g id=\"edge4\" class=\"edge\">\n",
       "<title>I-&gt;P</title>\n",
       "<path fill=\"none\" stroke=\"black\" d=\"M90.1,-154.99C85.95,-146.33 80.92,-135.85 76.32,-126.28\"/>\n",
       "<polygon fill=\"black\" stroke=\"black\" points=\"79.4,-124.61 71.92,-117.11 73.09,-127.64 79.4,-124.61\"/>\n",
       "</g>\n",
       "</g>\n",
       "</svg>"
      ],
      "text/plain": [
       "<IPython.core.display.SVG object>"
      ]
     },
     "metadata": {},
     "output_type": "display_data"
    }
   ],
   "source": [
    "# maak diagram instantie\n",
    "diag = gum.InfluenceDiagram()\n",
    "\n",
    "# voeg kans nodes toe en arc ertussen\n",
    "# api: LabelizedVariable(aName, aDesc=’’, nbrLabel=2) -> LabelizedVariable\n",
    "blvar = gum.LabelizedVariable(\"B\", \"Uitbak\", 2)\n",
    "blvar.changeLabel(0, 'leeg')\n",
    "blvar.changeLabel(1, 'gevuld')\n",
    "B=diag.addChanceNode(blvar)\n",
    "\n",
    "plvar = gum.LabelizedVariable(\"P\", \"Printen\", 2)\n",
    "plvar.changeLabel(0, 'niet gestart')\n",
    "plvar.changeLabel(1, 'gestart')\n",
    "#plvar.changeLabel(2, 'afgerond')\n",
    "P=diag.addChanceNode(plvar)\n",
    "\n",
    "alvar = gum.LabelizedVariable(\"A\", \"Papier inbak\", 2)\n",
    "alvar.changeLabel(0, 'niet aanwezig')\n",
    "alvar.changeLabel(1, 'aanwezig')\n",
    "#plvar.changeLabel(2, 'afgerond')\n",
    "A=diag.addChanceNode(alvar)\n",
    "\n",
    "\n",
    "tlvar = gum.LabelizedVariable(\"T\", \"Transport\", 2)\n",
    "tlvar.changeLabel(0, 'niet gestart')\n",
    "tlvar.changeLabel(1, 'gestart')\n",
    "T=diag.addChanceNode(tlvar)\n",
    "\n",
    "ilvar = gum.LabelizedVariable(\"I\", \"Inkt\", 2)\n",
    "ilvar.changeLabel(0, 'niet aanwezig')\n",
    "ilvar.changeLabel(1, 'aanwezig')\n",
    "I=diag.addChanceNode(ilvar)\n",
    "\n",
    "# arc van B naar P\n",
    "diag.addArc(diag.idFromName(\"A\"),T)\n",
    "diag.addArc(diag.idFromName(\"P\"),B)\n",
    "diag.addArc(diag.idFromName(\"T\"),P)\n",
    "diag.addArc(diag.idFromName(\"I\"),P)\n",
    "\n",
    "# voeg decision en utility nodes to en links\n",
    "#dlvar = gum.LabelizedVariable(\"D\",\"Accept Bet\",2)\n",
    "#dlvar.changeLabel(0, 'yes')\n",
    "#dlvar.changeLabel(1, 'no')\n",
    "#D=diag.addDecisionNode(dlvar)\n",
    "\n",
    "# definitie utility\n",
    "#ulvar = gum.LabelizedVariable(\"U\",\"U\",1)\n",
    "#ulvar.changeLabel(0, 'U(R, AB)')\n",
    "#U=diag.addUtilityNode(ulvar)\n",
    "\n",
    "# arc van \"Result\" en \"Accept Bet\" naar utility \n",
    "#diag.addArc(diag.idFromName(\"R\"),U)\n",
    "#diag.addArc(diag.idFromName(\"D\"),U)\n",
    "\n",
    "# laat diagram zien\n",
    "gnb.showInfluenceDiagram(diag)"
   ]
  },
  {
   "cell_type": "markdown",
   "id": "c1c7c73f",
   "metadata": {},
   "source": [
    "de kans dat er iets in de uitbak zit is afhankelijk van:\n",
    "- of er geprint is maar dit is afhankelijk van...\n",
    "- of er papier is getransporteerd van inbak naar printkoppen\n",
    "- of er papier in de inbak zit "
   ]
  }
 ],
 "metadata": {
  "kernelspec": {
   "display_name": "Python 3 (ipykernel)",
   "language": "python",
   "name": "python3"
  },
  "language_info": {
   "codemirror_mode": {
    "name": "ipython",
    "version": 3
   },
   "file_extension": ".py",
   "mimetype": "text/x-python",
   "name": "python",
   "nbconvert_exporter": "python",
   "pygments_lexer": "ipython3",
   "version": "3.10.4"
  }
 },
 "nbformat": 4,
 "nbformat_minor": 5
}
